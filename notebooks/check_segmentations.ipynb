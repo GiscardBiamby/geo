{
 "cells": [
  {
   "cell_type": "code",
   "execution_count": null,
   "id": "9f257765-373d-4348-ac87-f4dc76eea133",
   "metadata": {},
   "outputs": [],
   "source": [
    "%autosave 60\n",
    "%load_ext autoreload\n",
    "%autoreload 2\n",
    "%matplotlib inline"
   ]
  },
  {
   "cell_type": "code",
   "execution_count": null,
   "id": "28631f15-df7e-4f04-8bb3-2876059baeab",
   "metadata": {},
   "outputs": [],
   "source": [
    "import json\n",
    "import os\n",
    "from io import BytesIO\n",
    "from pathlib import Path\n",
    "from typing import Dict, List, Optional, Tuple, Union, cast\n",
    "import cv2\n",
    "import matplotlib as plt\n",
    "import numpy as np\n",
    "import pandas as pd\n",
    "import PIL.Image as pil_img\n",
    "import seaborn as sns\n",
    "import sklearn as skl\n",
    "from IPython.display import Image, display\n",
    "from matplotlib_inline.backend_inline import set_matplotlib_formats\n",
    "from matplotlib.patches import Rectangle\n",
    "from tqdm.contrib.bells import tqdm, trange\n",
    "from tqdm.contrib import tmap, tzip, tenumerate"
   ]
  },
  {
   "cell_type": "code",
   "execution_count": null,
   "id": "ac25e595-176b-4280-8365-474b2f4e867d",
   "metadata": {},
   "outputs": [],
   "source": [
    "pd.set_option(\"display.max_colwidth\", None)\n",
    "pd.set_option(\"display.max_columns\", 15)\n",
    "pd.set_option(\"display.max_rows\", 50)\n",
    "# Suitable default display for floats\n",
    "pd.options.display.float_format = \"{:,.3f}\".format\n",
    "plt.rcParams[\"figure.figsize\"] = (12, 10)\n",
    "\n",
    "# This one is optional -- change graphs to SVG only use if you don't have a\n",
    "# lot of points/lines in your graphs. Can also just use ['retina'] if you\n",
    "# don't want SVG.\n",
    "%config InlineBackend.figure_formats = [\"retina\"]\n",
    "set_matplotlib_formats(\"pdf\", \"png\")"
   ]
  },
  {
   "cell_type": "code",
   "execution_count": null,
   "id": "4c900b67-2aae-4237-ae6a-228cd95b40dd",
   "metadata": {},
   "outputs": [],
   "source": [
    "import pickle\n",
    "\n",
    "\n",
    "def check_seg(video_path: Path):\n",
    "    df_seg = pickle.load(open(video_path, \"rb\"))\n",
    "    if df_seg is None or df_seg.shape[0] == 0:\n",
    "        return {\"result\": False, \"msg\": \"FAIL, no segmentations\", \"video_path\": video_path}\n",
    "    df_seg = df_seg[df_seg.state == \"in_game\"]\n",
    "    if len(df_seg) % 5 != 0:\n",
    "        return {\n",
    "            \"result\": False,\n",
    "            \"msg\": f\"FAIL. Expected MOD 5 but length was: {len(df_seg)}\",\n",
    "            \"video_path\": video_path,\n",
    "        }\n",
    "    return {\"result\": True, \"msg\": \"\", \"video_path\": video_path}\n",
    "\n",
    "\n",
    "files = sorted(Path(\"/shared/gbiamby/geo/segment/seg\").glob(\"**/*.pkl\"))\n",
    "results = []\n",
    "for f in files:\n",
    "    results.append(check_seg(f))"
   ]
  },
  {
   "cell_type": "code",
   "execution_count": null,
   "id": "ac6c456f-45ab-44fd-8daa-5ba857c1c215",
   "metadata": {},
   "outputs": [],
   "source": [
    "df_results = pd.DataFrame(results)\n",
    "display(df_results)\n",
    "print(df_results.shape)\n",
    "df_bad = df_results[~df_results.result]\n",
    "print(f\"{100.00 * len(df_bad) / len(df_results):02.2f}%\", \"total: \", len(df_results))\n",
    "display(df_bad)"
   ]
  },
  {
   "cell_type": "code",
   "execution_count": null,
   "id": "bbfd53a1-f538-45ac-85d6-c4145d0fa3fa",
   "metadata": {},
   "outputs": [],
   "source": [
    "print(df_bad.shape)\n",
    "df_bad.video_path.apply(lambda x: str(x.stem).replace(\"df_seg-video_id_\", \"\")).values"
   ]
  },
  {
   "cell_type": "code",
   "execution_count": null,
   "id": "c7132b5d-beb9-4b8e-89b9-cb59b3f350ad",
   "metadata": {},
   "outputs": [],
   "source": [
    "df_bad.iloc[28]"
   ]
  },
  {
   "cell_type": "code",
   "execution_count": null,
   "id": "121eca07-468f-4ec0-9804-bdd20e7f9d5d",
   "metadata": {},
   "outputs": [],
   "source": []
  }
 ],
 "metadata": {
  "kernelspec": {
   "display_name": "geoscreens",
   "language": "python",
   "name": "geoscreens"
  },
  "language_info": {
   "codemirror_mode": {
    "name": "ipython",
    "version": 3
   },
   "file_extension": ".py",
   "mimetype": "text/x-python",
   "name": "python",
   "nbconvert_exporter": "python",
   "pygments_lexer": "ipython3",
   "version": "3.9.0"
  }
 },
 "nbformat": 4,
 "nbformat_minor": 5
}
