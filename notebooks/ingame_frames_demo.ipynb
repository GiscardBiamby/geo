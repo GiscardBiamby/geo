{
 "cells": [
  {
   "cell_type": "code",
   "execution_count": 1,
   "id": "27f70baa-482e-4f31-aa55-2c4c703da57e",
   "metadata": {},
   "outputs": [
    {
     "data": {
      "application/javascript": [
       "IPython.notebook.set_autosave_interval(60000)"
      ]
     },
     "metadata": {},
     "output_type": "display_data"
    },
    {
     "name": "stdout",
     "output_type": "stream",
     "text": [
      "Autosaving every 60 seconds\n"
     ]
    }
   ],
   "source": [
    "import PIL\n",
    "\n",
    "%autosave 60\n",
    "%load_ext autoreload\n",
    "%autoreload 2\n",
    "%matplotlib inline"
   ]
  },
  {
   "cell_type": "code",
   "execution_count": 2,
   "id": "82aae395-bd63-4dad-b513-c8538651848e",
   "metadata": {},
   "outputs": [],
   "source": [
    "import json\n",
    "import os\n",
    "import pickle\n",
    "import platform\n",
    "from pathlib import Path\n",
    "from typing import Any, Dict, List, Optional, Tuple, Union, cast\n",
    "\n",
    "import matplotlib as plt\n",
    "import numpy as np\n",
    "import pandas as pd\n",
    "import PIL.Image as pil_img\n",
    "from IPython.core.display import HTML, Markdown\n",
    "from IPython.display import Image, display\n",
    "from matplotlib_inline.backend_inline import set_matplotlib_formats\n",
    "from PIL import Image as pil_img\n",
    "from tqdm.contrib.bells import tqdm"
   ]
  },
  {
   "cell_type": "code",
   "execution_count": 3,
   "id": "5ea3b28e-5ae7-4225-a1f7-c6e7df6da8af",
   "metadata": {},
   "outputs": [],
   "source": [
    "pd.set_option(\"display.max_colwidth\", None)\n",
    "pd.set_option(\"display.max_columns\", 15)\n",
    "pd.set_option(\"display.max_rows\", 50)\n",
    "# Suitable default display for floats\n",
    "pd.options.display.float_format = \"{:,.2f}\".format\n",
    "plt.rcParams[\"figure.figsize\"] = (12, 10)\n",
    "\n",
    "# This one is optional -- change graphs to SVG only use if you don't have a\n",
    "# lot of points/lines in your graphs. Can also just use ['retina'] if you\n",
    "# don't want SVG.\n",
    "%config InlineBackend.figure_formats = [\"retina\"]\n",
    "set_matplotlib_formats(\"pdf\", \"png\")"
   ]
  },
  {
   "cell_type": "markdown",
   "id": "a947e6af-f2e2-487e-8893-5cc88dd2584f",
   "metadata": {},
   "source": [
    "---"
   ]
  },
  {
   "cell_type": "markdown",
   "id": "f6847188-6e0f-4f87-99d1-12f6b690417e",
   "metadata": {},
   "source": [
    "## Load JSON and Convert to DataFrame"
   ]
  },
  {
   "cell_type": "code",
   "execution_count": null,
   "id": "5dd84318-622c-4dfc-9148-72ed28171464",
   "metadata": {},
   "outputs": [],
   "source": [
    "import json\n",
    "from pathlib import Path\n",
    "from typing import Any, Dict, List, Union\n",
    "\n",
    "import pandas as pd\n",
    "\n",
    "\n",
    "def load_json(json_path: Union[str, Path]) -> Dict[str, Any]:\n",
    "    with open(json_path, encoding=\"utf-8\") as f:\n",
    "        data = json.load(f)\n",
    "    return data\n",
    "\n",
    "\n",
    "def get_ingames_df(in_game_frames: List[Dict[str, Any]]):\n",
    "    df = pd.DataFrame(in_game_frames).set_index([\"video_id\", \"frame_idx\"], drop=False)[\n",
    "        [\n",
    "            \"video_id\",\n",
    "            \"round_num\",\n",
    "            \"frame_idx\",\n",
    "            \"img_width\",\n",
    "            \"img_height\",\n",
    "            \"sec\",\n",
    "            \"time\",\n",
    "            \"labels\",\n",
    "            \"scores\",\n",
    "            \"bboxes_640\",\n",
    "            \"bboxes\",\n",
    "            \"split\",\n",
    "            \"file_path\",\n",
    "        ]\n",
    "    ]\n",
    "    df.index.rename([\"_video_id\", \"_frame_id\"], inplace=True)\n",
    "    df.sort_values([\"video_id\", \"round_num\", \"frame_idx\"], inplace=True)\n",
    "\n",
    "    return df\n",
    "\n",
    "\n",
    "in_game_frames = load_json(\"/shared/gbiamby/geo/segment/in_game_frames_000.json\")\n",
    "df = get_ingames_df(in_game_frames)\n",
    "print(df.shape)"
   ]
  },
  {
   "cell_type": "markdown",
   "id": "923aed21-9361-4d92-a8ac-64562da5662c",
   "metadata": {},
   "source": [
    "---"
   ]
  },
  {
   "cell_type": "code",
   "execution_count": null,
   "id": "6a050a20-c234-4db6-a522-d0ab060db8b0",
   "metadata": {},
   "outputs": [],
   "source": [
    "# print(df.index)\n",
    "# print(\n",
    "#     type(df.loc[\"ZKSH2u8LA3U\", 1492].labels[0]),\n",
    "#     type(df.loc[\"ZKSH2u8LA3U\", 1492].scores[0]),\n",
    "#     type(df.loc[\"ZKSH2u8LA3U\", 1492].bboxes_640[0]),\n",
    "#     type(df.loc[\"ZKSH2u8LA3U\", 1492].bboxes[0]),\n",
    "# )\n",
    "# print(\"\")\n",
    "# df.info()"
   ]
  },
  {
   "cell_type": "markdown",
   "id": "45253087-13e9-413f-8db7-375aa757cea7",
   "metadata": {},
   "source": [
    "---\n",
    "## Load DataFrame from pickle"
   ]
  },
  {
   "cell_type": "markdown",
   "id": "02ed8de7-122e-488b-9369-32231e8226f2",
   "metadata": {},
   "source": [
    "Try loading pickle files saved using different protocol versions. If you have pandas 1.3.x at least one of these should work."
   ]
  },
  {
   "cell_type": "code",
   "execution_count": null,
   "id": "f6c1e0d1-0606-45b9-9dd2-43e0756395b0",
   "metadata": {
    "tags": []
   },
   "outputs": [],
   "source": [
    "import pickle\n",
    "import platform\n",
    "\n",
    "import pandas as pd\n",
    "\n",
    "print(\"python version: \", platform.python_version())\n",
    "print(\"pandas version: \", pd.__version__)\n",
    "\n",
    "# pandas 1.3.x (protocol=5, python 3.8+)\n",
    "try:\n",
    "    df_ingame = pickle.load(open(\"/shared/gbiamby/geo/segment/in_game_frames_000.pkl\", \"rb\"))\n",
    "    display(df_ingame.head(1))\n",
    "except Exception as ex:\n",
    "    print(\"FAIL: \", str(ex))\n",
    "\n",
    "# pandas 1.3.x (protocol=4, python 3.4+)\n",
    "try:\n",
    "    df_ingame = pickle.load(\n",
    "        open(\"/shared/gbiamby/geo/segment/in_game_frames_000-protocol_4.pkl\", \"rb\")\n",
    "    )\n",
    "    display(df_ingame.head(1))\n",
    "except Exception as ex:\n",
    "    print(\"FAIL: \", str(ex))\n",
    "\n",
    "# pandas 1.3.x (protocol=3, python 3.0+)\n",
    "try:\n",
    "    df_ingame = pickle.load(\n",
    "        open(\"/shared/gbiamby/geo/segment/in_game_frames_000-protocol_3.pkl\", \"rb\")\n",
    "    )\n",
    "    display(df_ingame.head(1))\n",
    "except Exception as ex:\n",
    "    print(\"FAIL: \", str(ex))"
   ]
  },
  {
   "cell_type": "code",
   "execution_count": null,
   "id": "933ca57c-27ae-4603-b18b-b58a8ab4760c",
   "metadata": {},
   "outputs": [],
   "source": [
    "# print(df_ingame.index)\n",
    "# # print(df_ingame.columns)\n",
    "# print(\n",
    "#     type(df_ingame.loc[\"ZKSH2u8LA3U\", 1492].labels[0]),\n",
    "#     type(df_ingame.loc[\"ZKSH2u8LA3U\", 1492].scores[0]),\n",
    "#     type(df_ingame.loc[\"ZKSH2u8LA3U\", 1492].bboxes_640[0]),\n",
    "#     type(df_ingame.loc[\"ZKSH2u8LA3U\", 1492].bboxes[0]),\n",
    "# )\n",
    "# print(\"\")\n",
    "# df_ingame.info()"
   ]
  },
  {
   "cell_type": "markdown",
   "id": "4b50f16b-f6b8-4c9b-b56e-27d9f5c08cd9",
   "metadata": {},
   "source": [
    "---\n",
    "\n",
    "## Load Dataset\n",
    "\n",
    "Sample rate is 1 fps, so the `total_frames` count is same as total number of seconds of in_game footage.\n"
   ]
  },
  {
   "cell_type": "code",
   "execution_count": null,
   "id": "5d4b37e4-92f5-47fc-9073-643c488e8eab",
   "metadata": {},
   "outputs": [],
   "source": [
    "import pickle\n",
    "import platform\n",
    "\n",
    "import pandas as pd\n",
    "\n",
    "df_ingame = pickle.load(open(\"/shared/gbiamby/geo/segment/in_game_frames_000.pkl\", \"rb\"))"
   ]
  },
  {
   "cell_type": "code",
   "execution_count": null,
   "id": "d4782f87-823c-4f02-bb87-e89ab0457e89",
   "metadata": {},
   "outputs": [],
   "source": [
    "df_video_stat = pd.DataFrame(\n",
    "    df_ingame.groupby([\"video_id\", \"split\", \"img_width\", \"img_height\"]).agg(\n",
    "        total_frames=(\"sec\", \"count\"),\n",
    "        total_rounds=(\"round_num\", \"nunique\"),\n",
    "    )\n",
    ").reset_index()\n",
    "display(df_video_stat)"
   ]
  },
  {
   "cell_type": "code",
   "execution_count": null,
   "id": "86b80c92-eb84-4c3f-b53c-d52ee3bc4f15",
   "metadata": {},
   "outputs": [],
   "source": [
    "pd.DataFrame(\n",
    "    df_video_stat.groupby([\"split\"]).agg(\n",
    "        total_videos=(\"video_id\", \"nunique\"),\n",
    "        total_rounds=(\"total_rounds\", \"sum\"),\n",
    "        total_frames=(\"total_frames\", \"sum\"),\n",
    "    )\n",
    ")"
   ]
  },
  {
   "cell_type": "markdown",
   "id": "9e66bf14-947c-4a8e-91be-4bd8ee7b68e4",
   "metadata": {},
   "source": [
    "---\n",
    "\n",
    "## Show Some Frames"
   ]
  },
  {
   "cell_type": "code",
   "execution_count": null,
   "id": "7e160877-7527-40a7-9612-a352ded287d8",
   "metadata": {
    "tags": []
   },
   "outputs": [],
   "source": [
    "from IPython.core.display import HTML, Markdown\n",
    "from PIL import Image as pil_img\n",
    "\n",
    "\n",
    "def show_random_frames(df: pd.DataFrame, n_samples: int = 5):\n",
    "    df_random = df.sample(n=n_samples)\n",
    "\n",
    "    for idx, img_row in df_random.iterrows():\n",
    "        print(\"-\" * 180)\n",
    "        print(\"\")\n",
    "        print(\n",
    "            f\"video_id: {img_row.video_id}, round:{img_row.round_num}, \"\n",
    "            f\"frame_idx: {img_row.frame_idx}, seconds: {img_row.sec}\",\n",
    "        )\n",
    "        img = pil_img.open(img_row[\"file_path\"])\n",
    "        img.thumbnail((1080, 640), pil_img.NEAREST)\n",
    "        display(img)\n",
    "\n",
    "\n",
    "show_random_frames(df_ingame, 5)"
   ]
  },
  {
   "cell_type": "markdown",
   "id": "21c9e79c-463b-415c-892d-ee0a39a20eda",
   "metadata": {},
   "source": [
    "---\n",
    "\n",
    "# Show Some Masked Frames\n"
   ]
  },
  {
   "cell_type": "code",
   "execution_count": null,
   "id": "68f8344c-c351-405b-85e0-e0f93c8f1a71",
   "metadata": {},
   "outputs": [],
   "source": [
    "import PIL.Image as pil_img\n",
    "from IPython.core.display import HTML, Markdown\n",
    "from PIL import ImageDraw\n",
    "\n",
    "\n",
    "def show_random_frames_masked(df: pd.DataFrame, n_samples: int = 5):\n",
    "    df_random = df.sample(n=n_samples)\n",
    "    for idx, img_row in df_random.iterrows():\n",
    "        print(\"-\" * 180)\n",
    "        print(\n",
    "            f\"video_id: {img_row.video_id}, frame_idx: {img_row.frame_idx}, seconds: {img_row.sec}\",\n",
    "        )\n",
    "        img = pil_img.open(Path(img_row[\"file_path\"]))\n",
    "        # img.thumbnail((1080, 640), pil_img.NEAREST)\n",
    "        img_width, img_height = img.size\n",
    "        display(img)\n",
    "        dets_lookup = {\n",
    "            l: (l, (*list(bb.values())[:4],), list(bb.values())[4], s)\n",
    "            for l, bb, s in zip(img_row.labels, img_row.bboxes, img_row.scores)\n",
    "        }\n",
    "        masked_area = sum([d[2] for d in dets_lookup.values()])\n",
    "        print(\n",
    "            f\"masked_area: {masked_area:,}\",\n",
    "            f\"img_area: {float(img_width*img_height):,}\",\n",
    "            f\"pct_masked: {100.0 * masked_area / (img_width*img_height):.2f}%\",\n",
    "        )\n",
    "\n",
    "        img_masked = img\n",
    "        draw = ImageDraw.Draw(img_masked)\n",
    "        for label, bbox, area, score in dets_lookup.values():\n",
    "            draw.rectangle(bbox, fill=0)\n",
    "\n",
    "        # Mask out minimum rectangular region that encloses the geoguessr logo, status bar, url:\n",
    "        top_ui = [dets_lookup[l] for l in [\"game_title\", \"status_bar\", \"url\"] if l in dets_lookup]\n",
    "        if top_ui:\n",
    "            y_max = max(d[1][3] for d in top_ui)\n",
    "            draw.rectangle((0, 0, img_width, y_max), fill=0)\n",
    "        display(img_masked)\n",
    "        print(\"\")\n",
    "\n",
    "\n",
    "show_random_frames_masked(df_ingame, 5)"
   ]
  },
  {
   "cell_type": "code",
   "execution_count": null,
   "id": "af8f8cb1-e869-44f0-b042-7a5996480ee5",
   "metadata": {},
   "outputs": [],
   "source": []
  },
  {
   "cell_type": "code",
   "execution_count": null,
   "id": "ba6ef21b-7d41-4627-8bb8-65ae2f31c5fd",
   "metadata": {},
   "outputs": [],
   "source": []
  }
 ],
 "metadata": {
  "kernelspec": {
   "display_name": "geoscreens",
   "language": "python",
   "name": "geoscreens"
  },
  "language_info": {
   "codemirror_mode": {
    "name": "ipython",
    "version": 3
   },
   "file_extension": ".py",
   "mimetype": "text/x-python",
   "name": "python",
   "nbconvert_exporter": "python",
   "pygments_lexer": "ipython3",
   "version": "3.9.0"
  }
 },
 "nbformat": 4,
 "nbformat_minor": 5
}
