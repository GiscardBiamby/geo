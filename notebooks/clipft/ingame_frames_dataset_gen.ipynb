{
 "cells": [
  {
   "cell_type": "code",
   "execution_count": null,
   "id": "be06fc10-6f31-48df-9c3e-8db0bb995111",
   "metadata": {},
   "outputs": [],
   "source": [
    "%autosave 60\n",
    "%load_ext autoreload\n",
    "%autoreload 2\n",
    "%matplotlib inline"
   ]
  },
  {
   "cell_type": "code",
   "execution_count": null,
   "id": "164ed977-0b40-4496-914f-505f8ceec73b",
   "metadata": {},
   "outputs": [],
   "source": [
    "import json\n",
    "import os\n",
    "import pickle\n",
    "from pathlib import Path\n",
    "from typing import Any, Dict, List, Optional, Tuple, Union, cast\n",
    "\n",
    "import cv2\n",
    "import matplotlib as plt\n",
    "import numpy as np\n",
    "import pandas as pd\n",
    "import PIL.Image as pil_img\n",
    "from IPython.display import display\n",
    "from matplotlib.patches import Rectangle\n",
    "from matplotlib_inline.backend_inline import set_matplotlib_formats\n",
    "from tqdm.contrib import tenumerate\n",
    "from tqdm.contrib.bells import tqdm\n",
    "\n",
    "from geoscreens.data import get_all_geoguessr_split_metadata\n",
    "from geoscreens.utils import load_json, save_json"
   ]
  },
  {
   "cell_type": "code",
   "execution_count": null,
   "id": "8046041c-66ed-4d8d-accc-cdec90aa2696",
   "metadata": {},
   "outputs": [],
   "source": [
    "pd.set_option(\"display.max_colwidth\", None)\n",
    "pd.set_option(\"display.max_columns\", 15)\n",
    "pd.set_option(\"display.max_rows\", 50)\n",
    "# Suitable default display for floats\n",
    "pd.options.display.float_format = \"{:,.6f}\".format\n",
    "plt.rcParams[\"figure.figsize\"] = (12, 10)\n",
    "\n",
    "# This one is optional -- change graphs to SVG only use if you don't have a\n",
    "# lot of points/lines in your graphs. Can also just use ['retina'] if you\n",
    "# don't want SVG.\n",
    "%config InlineBackend.figure_formats = [\"retina\"]\n",
    "set_matplotlib_formats(\"pdf\", \"png\")"
   ]
  },
  {
   "cell_type": "code",
   "execution_count": null,
   "id": "9c41f0cc-eb15-41c2-ab1c-8d598fca1ea4",
   "metadata": {},
   "outputs": [],
   "source": [
    "from IPython.display import set_matplotlib_formats\n",
    "\n",
    "set_matplotlib_formats(\"pdf\", \"png\")\n",
    "plt.rcParams[\"savefig.dpi\"] = 75\n",
    "\n",
    "plt.rcParams[\"figure.autolayout\"] = False\n",
    "plt.rcParams[\"figure.figsize\"] = 10, 6\n",
    "plt.rcParams[\"axes.labelsize\"] = 18\n",
    "plt.rcParams[\"axes.titlesize\"] = 20\n",
    "plt.rcParams[\"font.size\"] = 16\n",
    "plt.rcParams[\"lines.linewidth\"] = 2.0\n",
    "plt.rcParams[\"lines.markersize\"] = 8\n",
    "plt.rcParams[\"legend.fontsize\"] = 14\n",
    "plt.rcParams[\"text.usetex\"] = True\n",
    "\n",
    "plt.rcParams[\"font.family\"] = \"serif\"\n",
    "plt.rcParams[\"font.serif\"] = \"cm\"\n",
    "plt.rcParams[\"text.latex.preamble\"] = \"\\\\usepackage{subdepth}, \\\\usepackage{type1cm}\""
   ]
  },
  {
   "cell_type": "code",
   "execution_count": null,
   "id": "8151ea53-0296-4aab-b31b-a96426a470e0",
   "metadata": {
    "tags": []
   },
   "outputs": [],
   "source": [
    "df_frames_meta = pd.read_json(\n",
    "    \"/shared/gbiamby/geo/video_frames/frame_meta_001.json\",\n",
    "    orient=\"index\",\n",
    ")\n",
    "# df_frames_meta.describe()\n",
    "display(df_frames_meta)"
   ]
  },
  {
   "cell_type": "markdown",
   "id": "f0bdb1fa-cddd-4e37-be94-bfdd5c9e0f39",
   "metadata": {},
   "source": [
    "---\n",
    "\n",
    "### Functions"
   ]
  },
  {
   "cell_type": "code",
   "execution_count": null,
   "id": "462cad73-29d0-446a-bd57-78bb3a4e2b84",
   "metadata": {},
   "outputs": [],
   "source": [
    "def subsample_frames(video_id: str, df_frames_meta: pd.DataFrame, target_fps: int = 1):\n",
    "    \"\"\"\n",
    "    Subsample to 1 fps From existing frames on disk, which are extracted from\n",
    "    original videos at 4.0fps and used to detect UI elements and compute the\n",
    "    in/out-of-game segments. So this sub-samples at something higher since we\n",
    "    don't need that high of a temporal resolution for im2clue training.\n",
    "\n",
    "    Args:\n",
    "        target_fps: This is how many  fps you want to sample from the existing\n",
    "            jpg's. It should be a subset of `frame_sample_rate_fps`, which is the\n",
    "            rate that the frames on disk were sampled at.\n",
    "    \"\"\"\n",
    "    # This is how many fps the jpg's were sampled at:\n",
    "    frames_fps = df_frames_meta.loc[video_id].frame_sample_rate_fps\n",
    "    assert (\n",
    "        frames_fps % target_fps == 0.0\n",
    "    ), f\"frames_fps {frames_fps} should be divisible by target_fps {target_fps}\"\n",
    "    frame_paths = sorted((Path(\"/shared/gbiamby/geo/video_frames\") / video_id).glob(\"*.jpg\"))\n",
    "\n",
    "    return [\n",
    "        {\n",
    "            \"video_id\": f.parent.name,\n",
    "            \"frame_idx\": int(f.stem.replace(\"frame_\", \"\").replace(\"s\", \"\").split(\"-\")[0]),\n",
    "            \"sec\": float(f.stem.replace(\"frame_\", \"\").replace(\"s\", \"\").split(\"-\")[1]),\n",
    "            \"file_path\": f,\n",
    "        }\n",
    "        for i, f in enumerate(frame_paths)\n",
    "        if i % int(frames_fps / target_fps) == 0\n",
    "    ]\n",
    "\n",
    "\n",
    "def filter_to_in_game(\n",
    "    video_id: str, frames: List[Dict[str, Any]], df_meta: pd.DataFrame\n",
    ") -> List[Dict[str, Any]]:\n",
    "    \"\"\"\n",
    "    Limit frames to \"in_game\" segments\n",
    "    \"\"\"\n",
    "    split = df_meta.loc[video_id].split\n",
    "    seg_file = Path(f\"/shared/gbiamby/geo/segment/seg/{split}/df_seg-video_id_{video_id}.pkl\")\n",
    "    df_seg = pickle.load(open(seg_file, \"rb\"))\n",
    "    df_seg = df_seg[df_seg.state == \"in_game\"].reset_index(drop=True)\n",
    "    in_games = [(idx, r[\"start_frame_idx\"], r[\"end_frame_idx\"]) for idx, r in df_seg.iterrows()]\n",
    "\n",
    "    def is_in_game(frame):\n",
    "        for seg in in_games:\n",
    "            if seg[1] <= frame[\"frame_idx\"] <= seg[2]:\n",
    "                frame[\"round_num\"] = seg[0]\n",
    "                return True\n",
    "        return False\n",
    "\n",
    "    frames = [frame for frame in frames if is_in_game(frame)]\n",
    "    if frames:\n",
    "        img = pil_img.open(frames[0][\"file_path\"])\n",
    "        img_width, img_height = img.size\n",
    "        for f in frames:\n",
    "            f[\"img_width\"] = img_width\n",
    "            f[\"img_height\"] = img_height\n",
    "\n",
    "    return frames"
   ]
  },
  {
   "cell_type": "markdown",
   "id": "09c0bf16-4f50-41a7-bfae-b30d14a5b73f",
   "metadata": {},
   "source": [
    "---"
   ]
  },
  {
   "cell_type": "code",
   "execution_count": null,
   "id": "adfdaf43-5392-44f3-a3c9-975161ea30c0",
   "metadata": {},
   "outputs": [],
   "source": [
    "# in_game_frames = filter_to_in_game(video_id, frames)\n",
    "# print(len(frames), len(in_game_frames))"
   ]
  },
  {
   "cell_type": "markdown",
   "id": "0023a1a8-7c23-4990-ace0-75a0151a9d89",
   "metadata": {},
   "source": [
    "---"
   ]
  },
  {
   "cell_type": "markdown",
   "id": "c87e0640-2189-42e9-8493-e75e6c7b368f",
   "metadata": {},
   "source": [
    "### Test a Single Video"
   ]
  },
  {
   "cell_type": "code",
   "execution_count": null,
   "id": "5d742fbe-3407-4022-80ad-fbe337365cbb",
   "metadata": {},
   "outputs": [],
   "source": [
    "# video_id = \"--0Kbpo9DtE\"\n",
    "video_id = \"zOoUR17xnL0\"\n",
    "\n",
    "if \"df_meta\" not in locals():\n",
    "    df_meta = pd.DataFrame(get_all_geoguessr_split_metadata().values()).set_index(\"id\")\n",
    "\n",
    "frames = subsample_frames(video_id, df_frames_meta)\n",
    "print(len(frames))\n",
    "df_all_frames = pd.DataFrame(frames)\n",
    "in_game_frames = filter_to_in_game(video_id, frames, df_meta)\n",
    "print(f\"num frames: {len(frames)}, num in_game frames: {len(in_game_frames)}\")"
   ]
  },
  {
   "cell_type": "code",
   "execution_count": null,
   "id": "76942ed0-e2ba-434b-90a1-e57b94e98206",
   "metadata": {
    "tags": []
   },
   "outputs": [],
   "source": [
    "df_ingame = pd.DataFrame(in_game_frames).sort_values([\"round_num\", \"frame_idx\"])\n",
    "# display(df_ingame)\n",
    "display(\n",
    "    pd.DataFrame(\n",
    "        df_ingame.groupby([\"round_num\"]).agg(\n",
    "            total_frames=(\"frame_idx\", \"count\"),\n",
    "            start_sec=(\"sec\", \"min\"),\n",
    "            end_sec=(\"sec\", \"max\"),\n",
    "            start_frame=(\"frame_idx\", \"min\"),\n",
    "            end_frame=(\"frame_idx\", \"max\"),\n",
    "        )\n",
    "    )\n",
    ")"
   ]
  },
  {
   "cell_type": "markdown",
   "id": "f70afc89-53eb-4466-9b1b-74ba5c452525",
   "metadata": {},
   "source": [
    "---\n",
    "\n",
    "## Show Some in_game Frames"
   ]
  },
  {
   "cell_type": "code",
   "execution_count": null,
   "id": "10a7c523-588d-4eb3-95ac-37a07effe674",
   "metadata": {
    "tags": []
   },
   "outputs": [],
   "source": [
    "df_ingame"
   ]
  },
  {
   "cell_type": "code",
   "execution_count": null,
   "id": "99cb86e2-bcb3-4766-ac8c-626dd8bad61c",
   "metadata": {
    "tags": []
   },
   "outputs": [],
   "source": [
    "from IPython.core.display import HTML, Markdown\n",
    "\n",
    "\n",
    "def show_random_frames(df: pd.DataFrame, n_samples: int = 5):\n",
    "    df_random = df.sample(n=n_samples)\n",
    "\n",
    "    for idx, img_row in df_random.iterrows():\n",
    "        print(\"-\" * 180)\n",
    "        img = pil_img.open(img_row[\"file_path\"])\n",
    "        img.thumbnail((1080, 640), pil_img.NEAREST)\n",
    "        display(img)\n",
    "        print(\n",
    "            f\"video_id: {img_row.video_id}, frame_idx: {img_row.frame_idx}, seconds: {img_row.sec}\",\n",
    "        )\n",
    "        print(\"\")\n",
    "\n",
    "\n",
    "show_random_frames(df_ingame, 5)"
   ]
  },
  {
   "cell_type": "markdown",
   "id": "58e35810-e2e2-45ef-889e-23426d809dd4",
   "metadata": {},
   "source": [
    "## Show Some Random Masked Frames"
   ]
  },
  {
   "cell_type": "code",
   "execution_count": null,
   "id": "c66733c1-df0a-4dc1-9456-06449970cba4",
   "metadata": {
    "jupyter": {
     "source_hidden": true
    },
    "tags": []
   },
   "outputs": [],
   "source": [
    "from PIL import ImageDraw\n",
    "\n",
    "\n",
    "def get_dets(video_id: str, model: str, df_meta: pd.DataFrame):\n",
    "    split = df_meta.loc[video_id].split\n",
    "    dets_path = Path(\n",
    "        f\"/shared/gbiamby/geo/segment/detections/{model}/{split}/df_frame_dets-video_id_{video_id}.pkl\"\n",
    "    )\n",
    "    df_dets = pickle.load(open(dets_path, \"rb\"))\n",
    "    if \"frame_id\" in df_dets.columns:\n",
    "        df_dets.drop(columns=[\"frame_id\"], inplace=True)\n",
    "    df_dets.set_index(\"frame_idx\", inplace=True)\n",
    "\n",
    "    # df_dets.bbox.apply(lambda x: transform_box(*x.values(),\n",
    "    return df_dets\n",
    "\n",
    "\n",
    "def transform_box(x1, y1, x2, y2, target_width, target_height, curr_dim=640):\n",
    "    \"\"\"\n",
    "    Transform bbox coordinates from (curr_dim, curr_dim) pixel space to size=(width, height) pixel\n",
    "    space. assumes width is greater than height. This is used because the detector bbox coordinates\n",
    "    are in a square pixel space (config.dataset_config.img_size)**2, and we need to convert the bbox\n",
    "    coordinates back to the original image pixel space (e.g., 1280*720).\n",
    "\n",
    "    Args:\n",
    "        xmin, ymin, xmax, ymax\n",
    "\n",
    "    Returns:\n",
    "        Tuple[[xmin, ymin, xmax, ymax], area]\n",
    "    \"\"\"\n",
    "    # Back to width*width:\n",
    "    new_x1 = x1 * (target_width / curr_dim)\n",
    "    new_y1 = y1 * (target_width / curr_dim)\n",
    "    new_x2 = x2 * (target_width / curr_dim)\n",
    "    new_y2 = y2 * (target_width / curr_dim)\n",
    "    # Remove vertical padding\n",
    "    y_pad = (target_width - target_height) / 2\n",
    "    new_y1 -= y_pad\n",
    "    new_y2 -= y_pad\n",
    "    new_area = (new_x2 - new_x1 + 1) * (new_y2 - new_y1 + 1)\n",
    "    return (new_x1, new_y1, new_x2, new_y2), new_area\n",
    "\n",
    "\n",
    "def show_random_frames_masked(\n",
    "    video_id: str, model: str, df: pd.DataFrame, df_meta: pd.DataFrame, n_samples: int = 5\n",
    "):\n",
    "    df_random = df.sample(n=n_samples)\n",
    "    df_dets = get_dets(video_id, model, df_meta)\n",
    "    for idx, img_row in df_random.iterrows():\n",
    "        print(\"-\" * 180)\n",
    "        print(\n",
    "            f\"video_id: {img_row.video_id}, frame_idx: {img_row.frame_idx}, seconds: {img_row.sec}\",\n",
    "        )\n",
    "        img = pil_img.open(img_row[\"file_path\"])\n",
    "        # img.thumbnail((1080, 640), pil_img.NEAREST)\n",
    "        img_width, img_height = img.size\n",
    "        display(img)\n",
    "        dets = df_dets.loc[img_row.frame_idx]\n",
    "        # display(dets)\n",
    "        dets_lookup = {\n",
    "            l: (l, transform_box(*bb.values(), img_width, img_height), s)\n",
    "            for l, bb, s in zip(dets.labels, dets.bboxes, dets.scores)\n",
    "        }\n",
    "        # print(dets_lookup)\n",
    "        masked_area = sum([d[1][1] for d in dets_lookup.values()])\n",
    "        print(\n",
    "            f\"masked_area: {masked_area:,}\",\n",
    "            f\"img_area: {float(img_width*img_height):,}\",\n",
    "            f\"pct_masked: {100.0 * masked_area / (img_width*img_height):.2f}%\",\n",
    "        )\n",
    "\n",
    "        img_masked = img\n",
    "        draw = ImageDraw.Draw(img_masked)\n",
    "        for label, bbox, score in dets_lookup.values():\n",
    "            draw.rectangle(bbox[0], fill=0)\n",
    "\n",
    "        # Mask out minimum rectangular region that encloses the geoguessr logo and/or the status bar:\n",
    "        top_ui = [dets_lookup[l] for l in [\"game_title\", \"status_bar\"] if l in dets_lookup]\n",
    "        if top_ui:\n",
    "            y_max = max(d[1][0][3] for d in top_ui)\n",
    "            # xmin, ymax = reverse_point(640, y_max, img_width, img_height, 640)\n",
    "            draw.rectangle((0, 0, img_width, y_max), fill=0)\n",
    "        display(img_masked)\n",
    "        print(\"\")\n",
    "\n",
    "\n",
    "if \"df_meta\" not in locals():\n",
    "    df_meta = pd.DataFrame(get_all_geoguessr_split_metadata().values()).set_index(\"id\")\n",
    "video_id = \"--0Kbpo9DtE\"\n",
    "# video_id = \"zOoUR17xnL0\"\n",
    "model = \"gsmoreanch02_012--geoscreens_012-model_faster_rcnn-bb_resnest50_fpn-2b72cbf305\"\n",
    "frames = subsample_frames(video_id, df_frames_meta)\n",
    "df_all_frames = pd.DataFrame(frames)\n",
    "in_game_frames = filter_to_in_game(video_id, frames, df_meta)\n",
    "df_ingame = pd.DataFrame(in_game_frames).sort_values([\"round_num\", \"frame_idx\"])\n",
    "\n",
    "show_random_frames_masked(video_id, model, df_ingame, df_meta, 10)"
   ]
  },
  {
   "cell_type": "markdown",
   "id": "89be87b0-dc74-4fae-9ea4-59df8ca2c0ec",
   "metadata": {},
   "source": [
    "---"
   ]
  },
  {
   "cell_type": "markdown",
   "id": "6f302152-e67a-4581-9a34-d604b79d5df8",
   "metadata": {},
   "source": [
    "---\n"
   ]
  },
  {
   "cell_type": "markdown",
   "id": "8949cb26-931b-4836-808e-70269a813e2a",
   "metadata": {},
   "source": [
    "## Some Stats about Video -> Frames, CLIP Samples Pipeline"
   ]
  },
  {
   "cell_type": "code",
   "execution_count": null,
   "id": "82b835f1-f978-49e4-8d85-349478f79bdd",
   "metadata": {
    "tags": []
   },
   "outputs": [],
   "source": [
    "# fmt: off\n",
    "id_list = set([\n",
    "    \"8Bw7td5T49U\", \"tjTu5QhQgtg\", \"78xNkZqhB14\", \"5HueHB6D85g\", \"TZUU67D8eD4\", \"5vM8Vn8dzRc\", \"3e4p2WueJnk\", \"RoAIPgG1H-I\", \"D4POQX3geEs\", \"Fljin_26vug\", \"8YsakLYpA6I\", \"qHdMPFeIWf8\", \"X68B0Gpbbzs\", \"5DhfpT_BK14\", \"Xvxoq8uR3Zs\", \"uOpwZPtkEsk\", \"vtEQf5SeT8A\", \"tSwfT6dSwMg\", \"dO7TdYgtAWg\", \"RLjrxQJOubY\", \"mg_sgJJPNqM\", \"t6K0TXA4FT8\", \"78lriIFZvVw\", \"uN4hVUzQC5c\", \"x9mNJalP73w\", \"yDXcweSID4c\", \"5bQFKz_hAD8\", \"7l1elyK6smk\", \"8JvPC6mPjCE\", \"8EB6rbK6KIk\", \"hYzp8aT7Sqs\", \"AFTNudiAtWs\", \"yfNYtA__bJc\", \"XKIHkUfrTv0\", \"8TIlYg31Ys8\", \"7A6OIVDvNCM\", \"7Cb79FsTSbQ\", \"H2h8V2zWbNo\", \"G8muDcrX2vQ\", \"nr5cEg5dpN0\", \"k_59zOaQMYI\", \"ajWkg4k03UY\", \"XaR8S25aK-0\", \"EXwUtNeLUio\", \"FJjsv3hwGx8\", \"RtDIzWgaHsA\", \"zO8FOrHRCaE\", \"7yyMBkkFnl4\", \"_jRSHbYfCiI\", \"iS4dwvTr6Aw\", \"cgXjROAaR14\", \"Gx1eggPvvz8\", \"nWNVMm5Cjjc\", \"0YVorrXo3z0\", \"fyVctCdaycI\", \"V8RN33XDge0\", \"eF443S8Svso\", \"_w3ymH9Z4lg\", \"fALNGSKcgaY\", \"8INPrVUdwbY\", \"OIbJpKWlTv8\", \"7sbKs551sSw\", \"ygJYQcrPwWA\", \"iREpxVxkVy8\", \"7ZmbVYKuhJQ\", \"b56-pFJsYpo\", \"UNFGeLmSC8c\", \"yBITEq7yi7w\", \"z3MEEDh_VJ8\", \"C920wI0_lTU\", \"2HW4sUPH-SM\", \"9H44X63GrUY\", \"a-jofvbOEog\", \"ooDLsWuAPRI\", \"y93i-jEMTyE\", \"9hdrEQ2M2JQ\", \"-YqLmQhi2Mw\", \"5Tnf_wT3oTs\", \"pwohUNpbLgc\", \"SynBqjTP1WA\", \"S0x1s4d5VKY\", \"RmtlSq159xY\", \"bvaP9AsDyhM\", \"lIOFDYsjjO8\", \"SGdJ1-m0Il8\", \"Hsd15piApiM\", \"Hy9DB7WKGhA\", \"SlJnwQRThiM\", \"f9REixx1Cjw\", \"MCu_KujLtZc\", \"Y-UOwHtvBeo\", \"ID79S40DMGw\", \"V1I6qZ-1mo8\", \"97L6Imlixi8\", \"Ja5eSUlfrkY\", \"jbl8tS3LMdM\", \"TYR_miC66Kk\", \"hE_kQAVPe9Q\", \"Df1_jpBKCOI\", \"1LoeXjd0JwE\", \"7UXkRbjQPWU\", \"yYIpaVMG5uY\", \"T1SHlddMb1w\", \"TP_5VNhANkE\", \"n58XMSpPSmQ\", \"nKztCxH2QoQ\", \"sHCJccXO-XM\", \"s2j0LJMz2c8\", \"jZiZGE5Yw7M\", \"2RLc782IbG4\", \"y7o54MXyAmo\", \"6mfZIQJhzzw\", \"f4HYBPVfE5U\", \"hql2k-qRGQA\", \"XPN6ta4QP1s\", \"SF56rvgw9oU\", \"18uwUloxF70\", \"rBFbCUgtuTE\", \"XQghH7D9ivI\", \"YYpk9QuEb4Q\", \"uAAxSVBG3Ao\", \"SOQn-tAEqoA\", \"LYQqQR1-O8k\", \"9JhJLztPrcY\", \"-cpjdkdjSe4\", \"Dtwik5ME6k0\", \"op4ZXU65IEg\", \"rv0ExMrsoCQ\", \"ou6AXRCpTP0\", \"67h7PRS4DZQ\", \"8jQ7knB1dDw\", \"NB5CLD4_m6Y\", \"ttkayJHBKvM\", \"0Mh-3dij_yY\", \"EAcgPhHIz9k\", \"drAmJ8r8_UI\", \"NIr1XF0doag\", \"C085J8_mOFo\", \"SSiM_QcHUrw\", \"iG39LbO36OU\", \"4fpfMCbBZrY\", \"oPwC9_RkA6U\", \"xmzgSW9_qQQ\", \"J5zYNTUdJ7E\", \"f8Jhio30FcE\", \"lNAZnqZIe7Q\", \"Gj6Uf71DPjg\", \"Uq8-Mb6NuwA\", \"YMddopmzhaw\", \"y5o_LqLGTFk\", \"5PLdPga2l7A\", \"VFIvAelnjJk\", \"yZ8ZFqGGHEY\", \"9Y0iWInV50c\", \"sKaXS4L_LBE\", \"J4KwYAUjvps\", \"jTmdNqzyqoA\", \"qkgnZOiPhko\", \"6x7Vjf0eDZU\", \"dGv87y7orMk\", \"p8fWooyDeeg\", \"fGn-Yq7Pf0I\", \"V-8TDXRUL98\", \"k8VVUzrKsao\", \"jsiFQW7YhyU\", \"YpqCkIfj1kQ\", \"dY1RXh-43q4\", \"5ng7eZcmf08\", \"5Nyey2vqZjc\", \"3FOClyWnFLo\", \"_x5vekFIPwM\", \"bcUskY_-eaI\", \"frABgE4nvZE\", \"1gdystGUcWk\", \"N5PHW5fID5M\", \"cf1kiPYSQX0\", \"vK6YBEhT_a0\", \"j8YGygpejmM\", \"XzLmdfuT-aw\", \"Y09e38mJwxg\", \"BAHGhuTg0uc\", \"i7RbqNUpkzM\", \"bseiyQBfDFc\", \"qrppRbnm0Hs\", \"jSBbDebSEH8\", \"aPtUdHUZ3U4\", \"D-JVd1wiGmM\", \"FobVijiwcxo\", \"qQMeHkwP8hg\", \"tkrwURdzQD4\", \"erJJ6_dvqXQ\", \"S8Drmz7kb2Q\", \"nComDx3Hksk\", \"iSgTY8VsTf4\", \"M1ZCdTUpOMk\", \"KvP2xzlLuVQ\", \"_Yxhg-Ng6W4\", \"QAXV5-eUHVI\", \"UNJO7v2JqrQ\", \"oxGTI4ifaUI\", \"fvTmJro2lJs\", \"ucfvRONvrv4\", \"7Kov_ocesos\", \"KA3r-gF1ub8\", \"WYqh9IOP1ac\", \"RfGf4Sfi5eo\", \"dRG76uV8Gh8\", \"v-GbQnjx9qo\", \"I8aSkup6v5Y\", \"zg2Fsd_AQBY\", \"ByyXpvS5SsM\", \"L2x3gfC8JKk\", \"VeV2_pBKwyw\", \"fitpQnwDSF8\", \"MVA_CfddM7Q\", \"0GUAEM7yZfs\", \"NY3YDQvI1Ic\", \"ogJnHIuT8Yc\", \"LR2NyzmxUhU\", \"VNfQu_7ewMc\", \"71j61uq6dT0\", \"--0Kbpo9DtE\", \"N57v3XC_KgU\", \"7AAjhFb6vW4\", \"QeG3JIDj9X0\", \"eFlRk5-wfqE\", \"PhwZ9hgWbws\", \"BktA9fzbBFA\", \"8gW85SbDGms\", \"905EaxHE8uM\", \"2ZjvH8UJmMI\", \"Pz0sOLzEEc8\", \"fsHd9Dxb6dg\", \"jfvF7yBlUzw\", \"4h-GEDFgbyk\", \"9N5ehFTyiEA\", \"o0-B7oMrfYg\", \"dnw5qOqcUuc\", \"e7RSZvTrfxM\", \"S_CkGJ_2NRc\", \"auNws2QRR-I\", \"POJmNWuuWoU\", \"IcZkMPfJt9g\", \"9jU8kH2W4fw\", \"5mBTu5fSKrY\", \"3G7zcxVInzk\", \"G9iraVNE2YY\", \"PZNVXTPFpDg\", \"kheQo4Tpndc\", \"NhmN-Y4Ogt4\", \"EnLJRP3URAY\", \"AF9uezxZDeE\", \"ARWG_rDyo0w\", \"svHi_vMMz30\", \"RUAq8ypbS-M\", \"fgzsmVt8O9Q\", \"d9UM7dxWmSo\", \"HXsnKhMSXnA\", \"PzAXjKD4ZRg\", \"nurNqjV2BIE\", \"Vrc9iyOdffs\", \"HY_cFHStUdE\", \"7NpvRgadP6I\", \"1AAV73eCDng\", \"SB4UMgTRBe4\", \"IeN5MHlIFYs\", \"tqny4LpSUiE\", \"M1YxSawhLRM\", \"6dMleMbH1p4\", \"ycCwEbgAsBA\", \"28ST7y3V0Ts\", \"-IEDd8F93a4\", \"h_v9LNa-CJM\", \"KjCbBXm68t4\", \"M9EY3IUfc5k\", \"l9cwjJ8Fq18\", \"JPTuaNLK8Wo\", \"b8uR_dfzk1k\", \"U9B1tkrtRlE\", \"gkUCMaoMutQ\", \"15V7WLGkk_k\", \"k4IrMBjw4Wg\", \"XD03_-kYYIU\", \"qtnVQtoVVVc\", \"Fr7k4Of9MHc\", \"T2-lmTdq1xI\", \"5Zxg-TXyOI8\", \"FwvekZZF5Uc\", \"WBnhnil7BpE\", \"NRfetLNMgko\", \"khG49U9uA0w\", \"oipCIsg365Q\", \"jMRAXSUZfFM\", \"kAaInBtlT20\", \"1bYnXDko1Y0\", \"8F_j53zDM7Y\", \"ZKSH2u8LA3U\", \"yFUbV6e_gJU\", \"ri_34j2BrjQ\", \"vQ_K9yf88FY\", \"xEU6jN3g9-M\", \"mJf_LmgFK5Y\", \"4Q_7tdz1RLk\", \"NhWMpSodfiM\", \"wEhDoTH3z1Q\", \"Il_uQts188g\", \"6nqaSvpqq_4\", \"lUf2aUbevKI\", \"fNCt6HzDr5s\", \"uUThkhfRgcI\", \"NBdNAZ4xMHo\", \"Eww4ke7BRc8\", \"P-dCi2PGAbk\", \"kMxyUZjFRRk\", \"ZCHRMqF8WYo\", \"WdmLE97ZN3Y\", \"YWQsrpXutYI\", \"daYiBw4mumU\", \"XzBgSMyXKgc\", \"64Ig7a6W6Ew\", \"mkx8bU_di1k\", \"9FVnGjIxaMY\", \"CdIz5bo7Djk\", \"SpevCJaBI3c\", \"im7nCclNTkQ\", \"KqBtWllS4gI\", \"0takfE6ONYc\", \"8jWG2tLeVMw\", \"fH17ddueJWU\", \"x4-N7jQxQiw\", \"2mifm1pLKAA\", \"1OXB0WADaXg\", \"d7Traj8zMS8\", \"hkSU3XytNkA\", \"gNevBaS-uGA\", \"IQRT4fr8emQ\", \"Y9RLRlKbYdE\", \"6hFg9JyN2xs\", \"kx_IvEI7ank\", \"qB2CxfyYgaM\", \"bJ7gKGvwpY4\", \"XikyJPOxAz8\", \"Qzsf3DWibJk\", \"CWG3sDtKQDA\", \"QuiSL6Nkamg\", \"vtV5A5PcyVs\", \"ZBGy6D9KzpA\", \"9dw5HDcPPZc\", \"rWblyP6DWTI\", \"Zon59ELN9gY\", \"4PT2cRmp638\", \"0NZj6fl8oy8\", \"ca6GfGUTIBc\", \"5W-cXIqy7Qk\", \"1NUz6bWIxAk\", \"huqYMEJ0XAE\", \"OfLGN8vG8RI\", \"9S_aexwPTGY\", \"ZMNakOAS2PQ\", \"xFWjYDyiVgA\", \"oxQaoCK5-gw\", \"wchMLhhTThU\", \"DSQ0c3e1JIY\", \"EgiQcOFcKjI\", \"4gKwjSDe0pU\", \"rp0XRhlDaxs\", \"pEww8bI63pc\", \"ecTrx01X7Ww\", \"v3_XOVuqs7Q\", \"S9isSATsFrM\", \"Lo0Ss_RBBnE\", \"d7n1MfAE3Q8\", \"MZZi2H8arKw\", \"HTf1OrPoVeI\", \"3-12cTsYLBI\", \"26fy28wEjUg\", \"8QW8dm28hKI\", \"Jwcovn8B8pQ\", \"_0-N01oCEgM\", \"WGn2YyLrV74\", \"NSYJ8htKe3o\", \"H-gdaQB8YX8\", \"om0rl5inBb0\", \"K29Wr5eheZ0\", \"J__1wxI_PlI\", \"oN6DOjX2jwo\", \"jIao4NbL6RA\", \"Yv4A_RMBTUo\", \"7KHfnuxMvmM\", \"R6nxePpOwj4\", \"87PTLTwFIlM\", \"7s7h20eWyNQ\", \"KZr7oiGwvGo\", \"RWbEIssom0M\", \"Y-was9RqOPU\", \"-PVyrGvE_Ug\", \"q2pxWYFalxY\", \"GLbz7V42NTs\", \"t5BP1LMw7aE\", \"8qoNZIjLsNQ\", \"VgXRA5Rs2wY\", \"2BpNX3tDIp8\", \"RuPkSF1APFc\", \"itq0JKF_71k\", \"dDlabjh0d5M\", \"EVDZvdWO0Jk\", \"TWJwleci420\", \"DXmMV9u9Zu0\", \"XERAdiWQOjE\", \"vu_tBi3QEXU\", \"nBTTbo5aARY\", \"IIE40ZX84uM\", \"An7mR7syKAs\", \"RVntDFkxS7g\", \"PjBgUuSsA_4\", \"j7kDcRWH8x0\", \"LQM9dAUmXbc\", \"qtsbny47mdw\", \"3vLgiRXB5XA\", \"ISRYAscisFs\", \"yBvuC-gJLRk\", \"sIck3-vlSlA\", \"d24qTy_a2y8\", \"YuDMD_sxMFA\", \"4QQoRFg_afs\", \"FR7oa6EyJXw\", \"ZIJSGDK7JZE\", \"jQGV_kqnur0\", \"hZWt1PYH3hI\", \"5P_6PJMGCcM\", \"VR8fTKKaxkw\", \"yAy034yMsKM\", \"s-ujRzUvgv4\", \"HLDJp3hetEM\", \"OJXyK9Grzwg\", \"xdA779d7rf8\", \"nAGTYX024vs\", \"I7MYI_EAW18\", \"0rxcET_eukc\", \"tpI_5-rp7B4\", \"RZKXgfP57ao\", \"1R0jn0mXAhU\", \"3b4tPRdX2nk\", \"BGrHmcYSMqY\", \"_Wcx5qaUc3E\", \"nOcf_JCjA6E\", \"3a3oCg4gDlw\", \"b_-2uGDp8rU\", \"iA3wkEutnc8\", \"IYrmjKKnWsM\", \"8p8uAN8GMPg\", \"i1-b_LjegYI\", \"Uu17FqqvBPc\", \"0i22gBZe0Vs\", \"7PV1B8NglOw\", \"Qj4waaw1OzA\", \"5mMXaSzIH6M\", \"M_-STREt-B8\", \"t2cnHOQr0vQ\", \"5WPyovVixkY\", \"4Wloj3k9Gwc\", \"fsbZAcJXN5s\", \"az27quZLK8Q\", \"1963PvpQHlU\", \"xfIGSpWis6w\", \"xnvIL-m1Fs4\", \"U6PpJ8gh8g0\", \"7y2K0aGKzrI\", \"1COlCH966vk\", \"bG0JP1lpvc8\", \"RPELccF-qHs\", \"VE7JElrhOZk\", \"Lqce0YTaqvA\", \"apViju1pJSQ\", \"HuMA26sgEW8\", \"GZmvqMK704U\", \"kpSA5-dCUco\", \"-RdNktX6pe0\", \"4woMwBa9SsI\", \"TIujifYddi0\", \"URUobiG8DwM\", \"WhfHiLV10Dw\", \"NdX-qjViTnw\", \"EKU8wGUTXsE\", \"0LQeo_Ith1M\", \"dS2CRIjAkSc\", \"gMaG5H1711A\", \"EB29A-P4y_I\", \"uKAHruKnWcs\", \"3zv372sf060\", \"j51FXUb-x1Q\", \"Xg_u0FCyZ74\", \"Hi2USufrGtI\", \"JF1uIZRMUf4\", \"JvL8HHi_cbE\", \"pnr8PcRoDhU\", \"FZgw9gz3C1I\", \"0fbtLGFxJEo\", \"B6QqER1cyZQ\", \"1Fho_5uqk98\", \"KdbXMsZCW_s\", \"LK1kDgONDyA\", \"sDYDY5KOA0U\", \"YwYgHxtSUN8\", \"MUkhskdIzSw\", \"BZ9W12amjHo\", \"U2V25cli1rM\", \"i_LrB8xGX2Q\", \"bJmP1QtZRdc\", \"LXT9U8lhwSk\", \"yjog5dRToKM\", \"LlUKiEgP-fg\", \"7zM6-TZBjfY\", \"5KvWKvuM0Lw\", \"XWRcLFQ6SLc\", \"yQB9yV1aqkM\", \"4XvGmDO9MH4\", \"9RQUIk1OwAY\", \"7DEmYlGENng\", \"9bHgUYMyuus\", \"xhJhWN07d28\", \"QpkW-udMIV0\", \"Ti-CYdMC41I\", \"3Hff3DyKB5Y\", \"i2EytxoXbVw\", \"XP8VPh-Jck4\", \"6RtuulgTQEg\", \"S5gpj3dH04U\", \"zTnOM3pgsmI\", \"hPeUmmospU4\", \"P7oI4IXaQvQ\", \"42IPZRBbeZU\", \"R221KrCxkFI\", \"xiX18l1TJz0\", \"_pbDtZeN3Os\", \"eZZW9pr_5yA\", \"6Uin2eIjfAY\", \"Tr4OGLLjYnk\", \"ElcEPfop_CA\", \"1hu9EumykCw\", \"HQX9yeK4SuE\", \"RjzCc0kDGMA\", \"wPtPW4R3Bz8\", \"x9w0uk7G-8c\", \"T6G4wmkcZGg\", \"zOoUR17xnL0\", \"KQ7WRBhdKDo\", \"bIvCkvmf3Xs\", \"S5Ne5eoHxsY\", \"S6D18JLde4c\", \"rs2L2j6SE2Q\", \"L_PfdixvB1c\", \"G3FKN03gXIQ\", \"1NZsTHM_yvA\", \"PNpUEPXZO6c\", \"A3PGvLiUQeE\", \"klYiRchHrh0\", \"IVzbPudw9cw\", \"4x7zIn-ypMs\", \"8IuV-rUEJZQ\", \"1pvl8Xus5Ek\", \"9ffhZ_LWL40\", \"7h-TEPgvKas\", \"Walstb9S_U4\", \"5LBrotUmVKg\", \"U1sSt_i48f8\", \"6_iwi1av_Tg\", \"T5UQ0Fab3Ak\", \"JKwK2CdBka8\", \"81iad4yS8XA\", \"2ZU44Af4rGA\", \"XYVIHqjm7hk\", \"8I4DWSyhTaQ\", \"zIph871efJ4\", \"s3MM2Hn0578\", \"UO2IzVqYoT0\", \"JW_cY121vMU\", \"twuXShfe8ZY\", \"kXQSKQ-Iglo\", \"JnnvAlCn4-8\", \"04Rjc8cHKVA\", \"kPh7dYErCc8\", \"ylJlT37wcaE\", \"o5qTx0bKjrs\", \"V62niQ9D6wQ\", \"kko4Sug8_Us\", \"7KL_zitxz0w\", \"8HCqhfO4ukc\", \"5J5OiGLKqQM\", \"k-dT_m1bSuE\", \"8ytmWvud6-4\", \"S3MGYVhx2gM\", \"1s3Ax_KrLs0\", \"F6quWYzK7TU\", \"Z3V98L7YL00\", \"RH9p7jUHTBw\", \"-C7NJpYc3gw\", \"hpsYcBqu5gc\", \"wriKnOjJy6E\", \"c78FrBan-JQ\", \"MocC6pni5P8\", \"DuL3xoy_BAY\", \"DHhTo7sZrDg\", \"td1eP9FSL3Q\", \"1V35b_G7wok\", \"ThHk_Q1uovY\", \"VGNEtq4Bw3U\", \"K4GXuDACK40\", \"P8o_guQi41s\", \"YImUOaH7Uwg\", \"NC07yL_yN20\", \"hcdEoiWKPns\", \"T2r-_WM0enQ\", \"NrqC1YuBCuQ\", \"mBHXqKnDo6s\", \"1AmqyFQYSCU\", \"2he1eFOivTM\", \"Rnpm3wKt0Ls\", \"cpeIVVLO5QE\", \"1apsDpo_cGI\", \"Sn0XIA2aux4\", \"9Xr6LqfOIg0\", \"XvpAfKb67YE\", \"DsMej1SWfzU\", \"D7d-Wilesgw\", \"1hbFSXAZlro\", \"GtSNM5lM6Ww\", \"qRW9erqzcUA\", \"GungykjFga8\", \"QBJdM-PmiBY\", \"1AibHUd6TO4\", \"DJV5YcQ-lnU\", \"aJc9vJNv4G4\", \"2kcCNL3lxDw\", \"2cqIk-0WSdA\", \"M3BFifwYolI\", \"rTIYFLh2Y2Y\", \"mr08FdZmLa0\", \"DaX4ZuINsgg\", \"OLkXxaP5RRs\", \"pvjUGDcegGo\", \"mCDGajhSzn8\", \"U73B2rWWz4U\", \"ut6DwUYicv8\", \"OKOP1dnLRJE\", \"9fRE0IuFcZ8\", \"sA19OnfmFd4\", \"vnlSCnx5UUg\", \"2HGOjVDc1mY\", \"elgUkTn8snE\", \"OFuGaf8od_Q\", \"PzGs-GY1DaA\", \"SsQ4uMnSJRo\", \"SKxA0OEnCnk\", \"B511HI1RHuI\", \"MWR-h25GwmA\", \"89QEfKzSkzY\", \"0KJ0qXEVACs\", \"clB89mi-ZlY\", \"W82qLlUxuy0\", \"cKlp2iLl8Ps\", \"e-E1-hpK4w0\", \"khkp8TrFytQ\", \"a-8DyDJvglU\", \"KPVPU3vl_yI\", \"83m9ys4kxro\", \n",
    "    \"jsqkwpdurgw\", \"OD2_TpEG-C0\", \"YHHAQkgs32M\", \"XM87FwIenH4\", \"C1RHyCSkkKM\", \"ppYi2iGMht4\", \"TKTZoyKhHco\", \"19c03AjUyI8\", \"74jleDoImYc\", \"k6Cw-X3zDuo\", \"uCbXqNRiHRY\", \"HRsqlJmj-hE\", \"P9SWbIShXc8\", \"IV4Pb__t6ys\", \"_EJjfqyaebo\", \"5mTvphLejLU\", \"K2XcndcvzSc\", \"Sgp-xuDo1gs\", \"PF0_X0ilLNQ\", \"j-FROoAWAdw\", \"i7K9f9l05qA\", \"7UJ6f-iP6Bc\", \"7nb9W76qdEc\", \"1bKzHmmoofg\", \"osTwgzWluVs\", \"4mUPPVoQ-kI\", \"XTKWfDyejck\", \"3nPxLoDdlxY\", \"nqlxwD5RY94\", \"XoHvL7T10pM\", \"1g4aAtsCUCI\", \"87qBSgbwLq8\", \"C8l-D_z2p6k\", \"bbBeyBFvAyQ\", \"dVFTw5pacsY\", \"ZDAZvXbmOSs\", \"bz04LZDf0Oo\", \"vAtsI9ZA11U\", \"LtaV054F5Rs\", \"ldyQwxNCzlo\", \"AIHJQEtcPqY\", \"NjriHMSM26k\", \"pcxL0W0RuTk\", \"XjzDqqvMEcU\", \"V4D-N71EvvM\", \"hVBhp7U0xQQ\", \"8__DkawMrPo\", \"alKpLiE-KY4\", \"4ftLC-J963E\", \"HlAZm63ooQY\", \"OQFa34FoVY8\", \"KSlCyDyda1M\", \"SAmkg58TybQ\", \"IyfiCVAeyhg\", \"__qlp6JpcPc\", \"Tjxb3UzaduA\", \"-C2718vV9v4\", \"hYMPlDM5j80\", \"hzm0mRZAOrY\", \"X-3h3RTPoRg\", \"yDO_FdDeHfs\", \"IpWokx3CtDg\", \"1rpQNdmTtvk\", \"76F1NoCzNLY\", \"V2H1po51T-A\", \"A960qcFjXK8\", \"MaVbMOJg4Mg\", \"fBfmMCCMXHk\", \"CYe9uv5G1hw\", \"Gk-1toFmMZo\", \"jCJoc-6iqng\", \"Y8yW_BsZ018\", \"6FKmF1LDPrw\", \"1ShNH_1lVsw\", \"iT1c92P40z8\", \"DE-6w16AhcQ\", \"jNKj2MXeah4\", \"w-aTpX4_vcg\", \"CC8CCvle0Vc\", \"bErSxaBHc1U\", \"BslAPtFdAnE\", \"Mv8DWoW5Ojs\", \"DU7SmB9yqpQ\", \"ZKCPfy5gcKs\", \"pFZoRi-T9c0\", \"q5FEts6gKII\", \"hzjA9gfxMeQ\", \"TDL3Jk3SaK4\", \"FGGfQH0XxL0\", \"zFuNkVjC6hQ\", \"tOXrATngKOY\", \"18C7YgxCkIw\", \"GvTVU0Qslc0\", \"HKPpZx0E8FY\", \"no5rJt2Pj-0\", \"2SzL5VBF_BI\", \"8LXi_tpkpSg\", \"DJp6sBH46KI\", \"y2eFiEO3BdQ\", \"pP4VQ9JClM4\", \"Y0BjWF5gWmk\", \"wvl9ecRASFM\", \"l6TtoNu1_Jg\", \"88jRjbWTesc\", \"GbgHjGPVzao\", \"5LXv8t_-6_c\", \"LcIkJQgAOyA\", \"5PGCL_L81UA\", \"y2SDYOw0SDU\", \"o1GEEkLVFsk\", \"54c2PpV65hU\", \"ti2co-2tymo\", \"hdUTzzDEV8g\", \"RBPYrNfjnHY\", \"5IyXNi8TbzM\", \"t9YiBXcb49g\", \"qi3_M5Udics\", \"2ZioLZEZTdI\", \"dEi4H8QFxIg\", \"WtzVRdkaY7Y\", \"26VxX9_chSw\", \"6wrhV6SnfnE\", \"3xm58Ccps1c\", \"MKSRbvmbTVo\", \"NsUjPBgFJGw\", \"hXYKSf6QO04\", \"B7_WcWmSZ_Y\", \"vKWbEE-ttYA\", \"0J7cQ4FiDCc\", \"N_OLaiTShLA\", \"BuZ-ld13p1I\", \"izjFsRDbt5k\", \"TVt1GKBZMzc\", \"1kwoT-9ClV4\", \"BJ-bEId-7yQ\", \"JXUWefGu67A\", \"WD9ARP45p_M\", \"V6rWoMiKsAw\", \"WqKqqN54fHo\", \"WEqf7L2KL4g\", \"itGph3begOY\", \"ep8WGVBNq7M\", \"67SQuXM5J0o\", \"tuGOZme6Xjg\", \"fs98qK3Lnpk\", \"88FFBre9GFA\", \"D4fiQwrF5vw\", \"FTcYSsoAw28\", \"EAoVoLtzovk\", \"edPiYaSZvx0\", \"6h0faOkFVpI\", \"euFnkGaA5IY\", \"AX5D2Bt__gE\", \"IwX1wEQsngE\", \"DkLLhsfa-PU\", \"R1toABTIp9s\", \"AXxUyPWLoJA\", \"sf0ToMiRIvM\", \"zlsM4XM9_Rk\", \"4k57dSg8Cws\", \"iy8jWAIaG0w\", \"YZxqCnxHPtE\", \"TJbSoBC1qpc\", \"FGidXjJl1vA\", \"JyfpZuVSisU\", \"01zaYTxpmxk\", \"-L9-kfYb4_A\", \"ta4rw6YR8LQ\", \"7G_CTikQVEM\", \"PoNt0SfS5jk\", \"kdmw3fmfg88\", \"rb4dy7HLH8M\", \"HKTCO8mh5d8\", \"zfZ6BxPne4E\", \"nJPm9WqyTTU\", \"22v6KBUXEeQ\", \"rbfjUayf-gk\", \"wNr9eLPIits\", \"VQI85nD7h4U\", \"96Th1-UjSOU\", \"OSYcvcQn2w8\", \"hG6rJf0RBnk\", \"yYEk84kRqPo\", \"nuqUwvdZ30M\", \"hEZVNDqid2I\", \"pMgqa0mOExo\", \"E-rvEqFNBcs\", \"4aUHm5A_66w\", \"obF2AR2e5P8\", \"uhbki9G10zU\", \"GjuSYrjqaMs\", \"_osOExSsNyk\", \"UPWSMhAF3ME\", \"I_5u_woAjm4\", \"qQyXQtLoGyE\", \"o8qQAjkaXMM\", \"tCqhl589AdM\", \"m0e92O4DJKE\", \"_MBsJDwzn1M\", \"nyHeQWnm8YA\", \"kCSNzVDJ_W4\", \"7vz-osmi6tw\", \"Mk9x9VZpIi4\", \"De1Xc6EXj9Q\", \"UCQg1LJOywc\", \"HdQjTia26y4\", \"WMvw_CCYeG0\", \"utv4vBdgSG0\", \"liNzvqszWPc\", \"j4SXWDgDSSE\", \"ZcFbyUJbP94\", \"1GehhMoUwnc\", \"j_UyjWUW-cU\", \"jjTvJdgmsmc\", \"OwLe8JNyynw\", \"el4lgYNq6mY\", \"9w_En85TFqc\", \"E0DHszfXnsc\", \"7-uBrcBKCpE\", \"iRTAdF_o1-4\", \"nXx6gUklog8\", \"wnH6quY_MUE\",\n",
    "])\n",
    "# fmt: on\n",
    "print(\"ids_list.len: \", len(id_list))\n",
    "\n",
    "if \"df_meta\" not in locals():\n",
    "    df_meta = pd.DataFrame(get_all_geoguessr_split_metadata().values()).set_index(\"id\")\n",
    "# df_meta.head(2)"
   ]
  },
  {
   "cell_type": "code",
   "execution_count": null,
   "id": "42ebae4d-c29c-41d0-9bf6-6b5e9fd3146d",
   "metadata": {
    "tags": []
   },
   "outputs": [],
   "source": [
    "video_files = sorted(Path(\"/shared/g-luo/geoguessr/videos\").glob(\"*.mp4\"))\n",
    "ids_with_meta = [i for i in id_list if i in df_meta.index]\n",
    "model = \"gsmoreanch02_012--geoscreens_012-model_faster_rcnn-bb_resnest50_fpn-2b72cbf305\"\n",
    "dets = [\n",
    "    str(p.stem.replace(\"df_frame_dets-video_id_\", \"\"))\n",
    "    for p in sorted(Path(f\"/shared/gbiamby/geo/segment/detections/{model}\").glob(\"**/*.pkl\"))\n",
    "]\n",
    "segs = [\n",
    "    str(p.stem.replace(\"df_seg-video_id_\", \"\"))\n",
    "    for p in sorted(Path(\"/shared/gbiamby/geo/segment/seg\").glob(\"**/*.pkl\"))\n",
    "]\n",
    "ids_with_dets = [i for i in ids_with_meta if i in dets]\n",
    "ids_with_segs = [i for i in ids_with_dets if i in segs]\n",
    "ids_with_frames = []\n",
    "print(\"\")\n",
    "print(f\"Total video files: {len(video_files):,}\")\n",
    "print(f\"Total metadata: {len(df_meta):,}\")\n",
    "print(\"UI detection outputs: \", len(dets))\n",
    "\n",
    "print(\"\")\n",
    "print(\"videos in google sheet: \", len(id_list))\n",
    "print(\"videos w/ metadata: \", len(ids_with_meta))\n",
    "print(\"videos in google sheet + w/ meta + with detections: \", len(ids_with_dets))\n",
    "print(\n",
    "    \"videos in google sheet + w/ meta + with detections + with segmentation: \", len(ids_with_segs)\n",
    ")"
   ]
  },
  {
   "cell_type": "code",
   "execution_count": null,
   "id": "9be24d23-995b-45bb-840f-af9d1d80358d",
   "metadata": {},
   "outputs": [],
   "source": [
    "# df_meta[df_meta.video_id.isin(ids_list)].split.value_counts()\n",
    "# len(set(df_meta.index.values).intersection(set(id_list)))\n",
    "# df_meta.loc[list(id_list),:]\n",
    "df_meta.index\n",
    "df_meta.loc[[\"K4GXuDACK40\", \"8ytmWvud6-4\"]]\n",
    "df_meta.loc[list(set(df_meta.index.values).intersection(id_list)), :].split.value_counts()"
   ]
  },
  {
   "cell_type": "code",
   "execution_count": null,
   "id": "56e20b1a-3051-4a88-aeeb-5d534cad19e2",
   "metadata": {},
   "outputs": [],
   "source": [
    "videos_with_frames = sorted(Path(\"/shared/gbiamby/geo/video_frames\").glob(\"*/\"))\n",
    "videos_with_frames[:5], len(videos_with_frames)"
   ]
  },
  {
   "cell_type": "code",
   "execution_count": null,
   "id": "03d44e00-2309-4c09-b40d-2a1c298b45c0",
   "metadata": {},
   "outputs": [],
   "source": [
    "df_meta.head(5)"
   ]
  },
  {
   "cell_type": "markdown",
   "id": "390efa86-e7b3-47e6-9acb-65988dc7816d",
   "metadata": {},
   "source": [
    "---"
   ]
  },
  {
   "cell_type": "markdown",
   "id": "8263e6fb-804d-402b-b7c4-7cad830c86bb",
   "metadata": {},
   "source": [
    "## Process All Data"
   ]
  },
  {
   "cell_type": "code",
   "execution_count": null,
   "id": "071d84ec-1935-482e-89be-c888cf0f0234",
   "metadata": {},
   "outputs": [],
   "source": [
    "model = \"gsmoreanch02_012--geoscreens_012-model_faster_rcnn-bb_resnest50_fpn-2b72cbf305\"\n",
    "if \"df_frames_meta\" not in locals():\n",
    "    df_frames_meta = pd.read_json(\n",
    "        \"/shared/gbiamby/geo/video_frames/frame_meta_001.json\",\n",
    "        orient=\"index\",\n",
    "    )\n",
    "\n",
    "if \"df_meta\" not in locals():\n",
    "    df_meta = pd.DataFrame(get_all_geoguessr_split_metadata().values()).set_index(\"id\")\n",
    "\n",
    "in_game_frames_all = []\n",
    "for i, video_id in tenumerate(ids_with_segs):\n",
    "    # if i > 10:\n",
    "    #     break\n",
    "    frames = subsample_frames(video_id, df_frames_meta)\n",
    "    df_all_frames = pd.DataFrame(frames)\n",
    "    in_game_frames = filter_to_in_game(video_id, frames, df_meta)\n",
    "    in_game_frames_all.extend(in_game_frames)"
   ]
  },
  {
   "cell_type": "code",
   "execution_count": null,
   "id": "7603cd1e-ebb8-4b1c-a85c-0a241fec5d00",
   "metadata": {},
   "outputs": [],
   "source": [
    "print(in_game_frames_all[0], f\"{len(in_game_frames_all):,}\")"
   ]
  },
  {
   "cell_type": "markdown",
   "id": "f0e1fa4b-04f8-4e91-a44b-2cfe8596f36e",
   "metadata": {},
   "source": [
    "### Append UI element detections to the frames data"
   ]
  },
  {
   "cell_type": "code",
   "execution_count": null,
   "id": "20b83778-ed93-43d9-8507-9fd2037faa25",
   "metadata": {},
   "outputs": [],
   "source": [
    "df_dets_all = {}\n",
    "for i, f in tenumerate(in_game_frames_all):\n",
    "    if f[\"video_id\"] not in df_dets_all:\n",
    "        df_dets_all[f[\"video_id\"]] = get_dets(f[\"video_id\"], model, df_meta)\n",
    "    df_dets = df_dets_all[f[\"video_id\"]]\n",
    "    frame_dets = df_dets.loc[f[\"frame_idx\"]]\n",
    "    f[\"time\"] = frame_dets.time\n",
    "    f[\"labels\"] = frame_dets.labels\n",
    "    f[\"scores\"] = frame_dets.scores\n",
    "    f[\"bboxes_640\"] = frame_dets.bboxes\n",
    "    f[\"bboxes\"] = [\n",
    "        transform_box(*b.values(), f[\"img_width\"], f[\"img_height\"]) for b in frame_dets.bboxes\n",
    "    ]\n",
    "    f[\"bboxes\"] = [\n",
    "        {\n",
    "            \"xmin\": b[0][0],\n",
    "            \"ymin\": b[0][1],\n",
    "            \"xmax\": b[0][2],\n",
    "            \"ymax\": b[0][3],\n",
    "            \"area\": b[1],\n",
    "        }\n",
    "        for b in f[\"bboxes\"]\n",
    "    ]\n",
    "    f[\"split\"] = df_meta.loc[f[\"video_id\"]].split\n",
    "    f[\"file_path\"] = str(f[\"file_path\"])"
   ]
  },
  {
   "cell_type": "markdown",
   "id": "eccbb377-c4e6-4892-8a02-cdf716cc5c2c",
   "metadata": {},
   "source": [
    "### Save as both Raw JSON and DataFrame"
   ]
  },
  {
   "cell_type": "code",
   "execution_count": null,
   "id": "aa3366c0-e63d-4de9-b412-6836bd326961",
   "metadata": {},
   "outputs": [],
   "source": [
    "df_ingame = (pd.DataFrame(in_game_frames_all).set_index([\"video_id\", \"frame_idx\"], drop=False))[\n",
    "    [\n",
    "        \"video_id\",\n",
    "        \"round_num\",\n",
    "        \"frame_idx\",\n",
    "        \"img_width\",\n",
    "        \"img_height\",\n",
    "        \"sec\",\n",
    "        \"time\",\n",
    "        \"labels\",\n",
    "        \"scores\",\n",
    "        \"bboxes_640\",\n",
    "        \"bboxes\",\n",
    "        \"split\",\n",
    "        \"file_path\",\n",
    "    ]\n",
    "]\n",
    "df_ingame.index.rename([\"_video_id\", \"_frame_id\"], inplace=True)\n",
    "df_ingame.sort_values([\"video_id\", \"round_num\", \"frame_idx\"], inplace=True)"
   ]
  },
  {
   "cell_type": "code",
   "execution_count": null,
   "id": "94afe32e-55af-47cc-b2b4-3ba75b0ab3f5",
   "metadata": {},
   "outputs": [],
   "source": [
    "# CHange to True to save (ovewrite) the file on /share/:\n",
    "if True:\n",
    "    dest_dir = Path(\"/shared/gbiamby/geo/segment\")\n",
    "    assert dest_dir.exists()\n",
    "    assert dest_dir.is_dir()\n",
    "    save_json(dest_dir / \"in_game_frames_000.json\", in_game_frames_all)\n",
    "    pickle.dump(df_ingame, open(dest_dir / \"in_game_frames_000.pkl\", \"wb\"))\n",
    "    pickle.dump(df_ingame, open(dest_dir / \"in_game_frames_000-protocol_3.pkl\", \"wb\"), protocol=3)\n",
    "    pickle.dump(df_ingame, open(dest_dir / \"in_game_frames_000-protocol_4.pkl\", \"wb\"), protocol=4)\n",
    "    pickle.dump(df_ingame, open(dest_dir / \"in_game_frames_000-protocol_5.pkl\", \"wb\"), protocol=5)"
   ]
  },
  {
   "cell_type": "code",
   "execution_count": null,
   "id": "65a6b30a-1a27-4313-8b2b-883230da44a3",
   "metadata": {},
   "outputs": [],
   "source": [
    "# display(df_ingame)\n",
    "# df_in_game_summary = pd.DataFrame(\n",
    "#     df_ingame.groupby([\"round_num\"]).agg(\n",
    "#         total_frames=(\"frame_idx\", \"count\"),\n",
    "#         start_sec=(\"sec\", \"min\"),\n",
    "#         end_sec=(\"sec\", \"max\"),\n",
    "#         start_frame=(\"frame_idx\", \"min\"),\n",
    "#         end_frame=(\"frame_idx\", \"max\"),\n",
    "#     )\n",
    "# )\n",
    "# display(df_in_game_summary)"
   ]
  },
  {
   "cell_type": "code",
   "execution_count": null,
   "id": "799df476-1cdc-42e6-a11b-fff512cb6b93",
   "metadata": {},
   "outputs": [],
   "source": [
    "df_ingame"
   ]
  },
  {
   "cell_type": "code",
   "execution_count": null,
   "id": "37f9c730-bed1-461f-b8ca-229033535d8e",
   "metadata": {},
   "outputs": [],
   "source": []
  }
 ],
 "metadata": {
  "kernelspec": {
   "display_name": "geoscreens",
   "language": "python",
   "name": "geoscreens"
  },
  "language_info": {
   "codemirror_mode": {
    "name": "ipython",
    "version": 3
   },
   "file_extension": ".py",
   "mimetype": "text/x-python",
   "name": "python",
   "nbconvert_exporter": "python",
   "pygments_lexer": "ipython3",
   "version": "3.9.0"
  }
 },
 "nbformat": 4,
 "nbformat_minor": 5
}
