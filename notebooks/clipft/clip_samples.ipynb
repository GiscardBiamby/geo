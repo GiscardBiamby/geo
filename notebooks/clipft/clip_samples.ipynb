{
 "cells": [
  {
   "cell_type": "code",
   "execution_count": null,
   "id": "be06fc10-6f31-48df-9c3e-8db0bb995111",
   "metadata": {},
   "outputs": [],
   "source": [
    "%autosave 60\n",
    "%load_ext autoreload\n",
    "%autoreload 2\n",
    "%matplotlib inline"
   ]
  },
  {
   "cell_type": "code",
   "execution_count": null,
   "id": "164ed977-0b40-4496-914f-505f8ceec73b",
   "metadata": {},
   "outputs": [],
   "source": [
    "import json\n",
    "import os\n",
    "import pickle\n",
    "from io import BytesIO\n",
    "from pathlib import Path\n",
    "from typing import Any, Dict, List, Optional, Tuple, Union, cast\n",
    "\n",
    "import cv2\n",
    "import matplotlib as plt\n",
    "import numpy as np\n",
    "import pandas as pd\n",
    "import PIL.Image as pil_img\n",
    "import seaborn as sns\n",
    "import sklearn as skl\n",
    "from IPython.display import display\n",
    "from matplotlib.patches import Rectangle\n",
    "from matplotlib_inline.backend_inline import set_matplotlib_formats\n",
    "from tqdm.contrib import tenumerate, tmap, tzip\n",
    "from tqdm.contrib.bells import tqdm, trange"
   ]
  },
  {
   "cell_type": "code",
   "execution_count": null,
   "id": "8046041c-66ed-4d8d-accc-cdec90aa2696",
   "metadata": {},
   "outputs": [],
   "source": [
    "pd.set_option(\"display.max_colwidth\", None)\n",
    "pd.set_option(\"display.max_columns\", 15)\n",
    "pd.set_option(\"display.max_rows\", 50)\n",
    "# Suitable default display for floats\n",
    "pd.options.display.float_format = \"{:,.6f}\".format\n",
    "plt.rcParams[\"figure.figsize\"] = (12, 10)\n",
    "\n",
    "# This one is optional -- change graphs to SVG only use if you don't have a\n",
    "# lot of points/lines in your graphs. Can also just use ['retina'] if you\n",
    "# don't want SVG.\n",
    "%config InlineBackend.figure_formats = [\"retina\"]\n",
    "set_matplotlib_formats(\"pdf\", \"png\")"
   ]
  },
  {
   "cell_type": "code",
   "execution_count": null,
   "id": "9c41f0cc-eb15-41c2-ab1c-8d598fca1ea4",
   "metadata": {},
   "outputs": [],
   "source": [
    "from IPython.display import set_matplotlib_formats\n",
    "\n",
    "set_matplotlib_formats(\"pdf\", \"png\")\n",
    "plt.rcParams[\"savefig.dpi\"] = 75\n",
    "\n",
    "plt.rcParams[\"figure.autolayout\"] = False\n",
    "plt.rcParams[\"figure.figsize\"] = 10, 6\n",
    "plt.rcParams[\"axes.labelsize\"] = 18\n",
    "plt.rcParams[\"axes.titlesize\"] = 20\n",
    "plt.rcParams[\"font.size\"] = 16\n",
    "plt.rcParams[\"lines.linewidth\"] = 2.0\n",
    "plt.rcParams[\"lines.markersize\"] = 8\n",
    "plt.rcParams[\"legend.fontsize\"] = 14\n",
    "plt.rcParams[\"text.usetex\"] = True\n",
    "\n",
    "plt.rcParams[\"font.family\"] = \"serif\"\n",
    "plt.rcParams[\"font.serif\"] = \"cm\"\n",
    "plt.rcParams[\"text.latex.preamble\"] = \"\\\\usepackage{subdepth}, \\\\usepackage{type1cm}\""
   ]
  },
  {
   "cell_type": "code",
   "execution_count": null,
   "id": "8151ea53-0296-4aab-b31b-a96426a470e0",
   "metadata": {},
   "outputs": [],
   "source": [
    "df_frames_meta = pd.read_json(\n",
    "    \"/shared/gbiamby/geo/video_frames/frame_meta_001.json\",\n",
    "    orient=\"index\",\n",
    ")\n",
    "df_frames_meta.describe()"
   ]
  },
  {
   "cell_type": "code",
   "execution_count": null,
   "id": "285cfc84-1936-43bb-9adb-2927dbbb8597",
   "metadata": {},
   "outputs": [],
   "source": [
    "df_frames_meta.num_frames_sampled.sum()"
   ]
  },
  {
   "cell_type": "code",
   "execution_count": null,
   "id": "b16d0225-dae1-43d8-91b0-f444944f07ea",
   "metadata": {},
   "outputs": [],
   "source": [
    "df_frames_meta"
   ]
  },
  {
   "cell_type": "code",
   "execution_count": null,
   "id": "95cc5942-1dee-4f01-91de-2169aa029287",
   "metadata": {},
   "outputs": [],
   "source": [
    "frame_paths = sorted(Path(\"/shared/gbiamby/geo/video_frames/zOoUR17xnL0\").glob(\"*.jpg\"))\n",
    "frame_paths[:8], frame_paths[-8:]"
   ]
  },
  {
   "cell_type": "markdown",
   "id": "8917fc08-8115-4c82-bace-4f3625382207",
   "metadata": {},
   "source": [
    "### Subsample to 1 fps\n",
    "\n",
    "From existing frames on disk which are extracted from original videos at 4.0fps and used to detect UI elements and compute the in/out-of-game segments, sub-sample at something higher since we don't need that high of a temporal resolution for the im2clue lookup."
   ]
  },
  {
   "cell_type": "code",
   "execution_count": null,
   "id": "462cad73-29d0-446a-bd57-78bb3a4e2b84",
   "metadata": {},
   "outputs": [],
   "source": [
    "def subsample_frames(video_id: str, df_frames_meta: pd.DataFrame, target_fps: int = 1):\n",
    "    \"\"\"\n",
    "    Args:\n",
    "        target_fps: This is how many  fps you want to sample from the existing\n",
    "            jpg's. It should be a subset of `frame_sample_rate_fps`, which is the\n",
    "            rate that the frames on disk were sampled at.\n",
    "    \"\"\"\n",
    "    # This is how many fps the jpg's were sampled at:\n",
    "    frames_fps = df_frames_meta.loc[video_id].frame_sample_rate_fps\n",
    "    assert (\n",
    "        frames_fps % target_fps == 0.0\n",
    "    ), f\"frames_fps {frames_fps} should be divisible by target_fps {target_fps}\"\n",
    "    frame_paths = sorted((Path(\"/shared/gbiamby/geo/video_frames\") / video_id).glob(\"*.jpg\"))\n",
    "\n",
    "    return [\n",
    "        {\n",
    "            \"video_id\": f.parent.name,\n",
    "            \"frame_idx\": int(f.stem.replace(\"frame_\", \"\").replace(\"s\", \"\").split(\"-\")[0]),\n",
    "            \"sec\": float(f.stem.replace(\"frame_\", \"\").replace(\"s\", \"\").split(\"-\")[1]),\n",
    "            \"file_path\": f,\n",
    "        }\n",
    "        for i, f in enumerate(frame_paths)\n",
    "        if i % int(frames_fps / target_fps) == 0\n",
    "    ]\n",
    "\n",
    "\n",
    "# video_id = \"zOoUR17xnL0\"\n",
    "# frames = subsample_frames(video_id, df_frames_meta)\n",
    "# print(len(frames))"
   ]
  },
  {
   "cell_type": "markdown",
   "id": "09c0bf16-4f50-41a7-bfae-b30d14a5b73f",
   "metadata": {},
   "source": [
    "---"
   ]
  },
  {
   "cell_type": "markdown",
   "id": "affd4a69-6051-40a2-aac2-834b4a291aaf",
   "metadata": {},
   "source": [
    "### Limit frames to \"in_game\" segments"
   ]
  },
  {
   "cell_type": "code",
   "execution_count": null,
   "id": "adfdaf43-5392-44f3-a3c9-975161ea30c0",
   "metadata": {},
   "outputs": [],
   "source": [
    "def filter_to_in_game(video_id: str, frames: List[Dict[str, Any]]) -> List[Dict[str, Any]]:\n",
    "    seg_file = list(\n",
    "        Path(\"/shared/gbiamby/geo/segment/seg\").glob(f\"*/df_seg-video_id_{video_id}.pkl\")\n",
    "    )[0]\n",
    "    df_seg = pickle.load(open(seg_file, \"rb\"))\n",
    "    df_seg = df_seg[df_seg.state == \"in_game\"].reset_index(drop=True)\n",
    "    in_games = [(idx, r[\"start_frame_idx\"], r[\"end_frame_idx\"]) for idx, r in df_seg.iterrows()]\n",
    "\n",
    "    def is_in_game(frame):\n",
    "        for seg in in_games:\n",
    "            if seg[1] <= frame[\"frame_idx\"] <= seg[2]:\n",
    "                frame[\"round_num\"] = seg[0]\n",
    "                return True\n",
    "        return False\n",
    "\n",
    "    frames = [frame for frame in frames if is_in_game(frame)]\n",
    "    return frames\n",
    "\n",
    "\n",
    "# in_game_frames = filter_to_in_game(video_id, frames)\n",
    "# print(len(frames), len(in_game_frames))"
   ]
  },
  {
   "cell_type": "code",
   "execution_count": null,
   "id": "5d742fbe-3407-4022-80ad-fbe337365cbb",
   "metadata": {},
   "outputs": [],
   "source": [
    "video_id = \"--0Kbpo9DtE\"\n",
    "# video_id = \"zOoUR17xnL0\"\n",
    "frames = subsample_frames(video_id, df_frames_meta)\n",
    "print(len(frames))\n",
    "\n",
    "df_all_frames = pd.DataFrame(frames)\n",
    "# display(df_all_frames)\n",
    "\n",
    "in_game_frames = filter_to_in_game(video_id, frames)\n",
    "print(f\"num frames: {len(frames)}, num in_game frames: {len(in_game_frames)}\")"
   ]
  },
  {
   "cell_type": "code",
   "execution_count": null,
   "id": "76942ed0-e2ba-434b-90a1-e57b94e98206",
   "metadata": {},
   "outputs": [],
   "source": [
    "df_ingame = pd.DataFrame(in_game_frames).sort_values([\"round_num\", \"frame_idx\"])\n",
    "display(df_ingame)\n",
    "display(\n",
    "    df_ingame.groupby([\"round_num\"]).agg(\n",
    "        total_frames=(\"frame_idx\", \"count\"),\n",
    "        start_sec=(\"sec\", \"min\"),\n",
    "        end_sec=(\"sec\", \"max\"),\n",
    "        start_frame=(\"frame_idx\", \"min\"),\n",
    "        end_frame=(\"frame_idx\", \"max\"),\n",
    "    )\n",
    ")"
   ]
  },
  {
   "cell_type": "code",
   "execution_count": null,
   "id": "30af8a6e-236e-4a86-a77c-738b9c3c8572",
   "metadata": {
    "tags": []
   },
   "outputs": [],
   "source": [
    "frames[:10], frames[-10:], len(frames)"
   ]
  },
  {
   "cell_type": "code",
   "execution_count": null,
   "id": "82b835f1-f978-49e4-8d85-349478f79bdd",
   "metadata": {},
   "outputs": [],
   "source": []
  },
  {
   "cell_type": "code",
   "execution_count": null,
   "id": "42ebae4d-c29c-41d0-9bf6-6b5e9fd3146d",
   "metadata": {},
   "outputs": [],
   "source": []
  }
 ],
 "metadata": {
  "kernelspec": {
   "display_name": "geoscreens",
   "language": "python",
   "name": "geoscreens"
  },
  "language_info": {
   "codemirror_mode": {
    "name": "ipython",
    "version": 3
   },
   "file_extension": ".py",
   "mimetype": "text/x-python",
   "name": "python",
   "nbconvert_exporter": "python",
   "pygments_lexer": "ipython3",
   "version": "3.9.0"
  }
 },
 "nbformat": 4,
 "nbformat_minor": 5
}
