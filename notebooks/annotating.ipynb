{
 "cells": [
  {
   "cell_type": "code",
   "execution_count": 31,
   "id": "fcbb65f8-df13-4a45-aa46-a1cb41092e67",
   "metadata": {},
   "outputs": [
    {
     "data": {
      "application/javascript": [
       "IPython.notebook.set_autosave_interval(60000)"
      ]
     },
     "metadata": {},
     "output_type": "display_data"
    },
    {
     "name": "stdout",
     "output_type": "stream",
     "text": [
      "Autosaving every 60 seconds\n",
      "The autoreload extension is already loaded. To reload it, use:\n",
      "  %reload_ext autoreload\n"
     ]
    }
   ],
   "source": [
    "%autosave 60\n",
    "%load_ext autoreload\n",
    "%autoreload 2\n",
    "%matplotlib inline\n",
    "\n",
    "import sys\n",
    "from pathlib import Path"
   ]
  },
  {
   "cell_type": "code",
   "execution_count": 146,
   "id": "97b433f2-ac88-4708-9799-2007117806ff",
   "metadata": {},
   "outputs": [],
   "source": [
    "import json\n",
    "import os\n",
    "import pickle\n",
    "from collections import Counter\n",
    "from io import BytesIO\n",
    "from pathlib import Path\n",
    "from typing import Dict, List, Optional, Tuple, Union, cast\n",
    "import cv2\n",
    "import matplotlib as plt\n",
    "import numpy as np\n",
    "import pandas as pd\n",
    "import PIL.Image as pil_img\n",
    "import seaborn as sns\n",
    "import sklearn as skl\n",
    "from IPython.display import Image, display\n",
    "from matplotlib.patches import Rectangle\n",
    "from matplotlib_inline.backend_inline import set_matplotlib_formats\n",
    "from tqdm import tqdm"
   ]
  },
  {
   "cell_type": "code",
   "execution_count": 33,
   "id": "b47eb8a8-8e8c-4da8-943f-946410495e29",
   "metadata": {},
   "outputs": [],
   "source": [
    "pd.set_option(\"display.max_colwidth\", None)\n",
    "pd.set_option(\"display.max_columns\", 15)\n",
    "pd.set_option(\"display.max_rows\", 50)\n",
    "# Suitable default display for floats\n",
    "pd.options.display.float_format = \"{:,.2f}\".format\n",
    "plt.rcParams[\"figure.figsize\"] = (12, 10)\n",
    "\n",
    "# This one is optional -- change graphs to SVG only use if you don't have a\n",
    "# lot of points/lines in your graphs. Can also just use ['retina'] if you\n",
    "# don't want SVG.\n",
    "%config InlineBackend.figure_formats = [\"retina\"]\n",
    "set_matplotlib_formats(\"pdf\", \"png\")"
   ]
  },
  {
   "cell_type": "code",
   "execution_count": 34,
   "id": "2abaae0f-3f90-4fe1-9bac-255d6aa0ba73",
   "metadata": {
    "tags": []
   },
   "outputs": [],
   "source": [
    "VIDEO_PATH = Path(\"/shared/g-luo/geoguessr/videos\").resolve()\n",
    "OUT_PATH = Path(\"/shared/gbiamby/geo\").resolve()\n",
    "assert VIDEO_PATH.exists()\n",
    "assert OUT_PATH.exists()"
   ]
  },
  {
   "cell_type": "code",
   "execution_count": 35,
   "id": "a4429be6-85ac-40ef-97aa-bbc5b4737e5a",
   "metadata": {},
   "outputs": [
    {
     "name": "stdout",
     "output_type": "stream",
     "text": [
      "total video files found:  4084\n"
     ]
    }
   ],
   "source": [
    "files = sorted(VIDEO_PATH.glob(\"**/*.mp4\"))\n",
    "print(\"total video files found: \", len(files))"
   ]
  },
  {
   "cell_type": "code",
   "execution_count": 36,
   "id": "fdb38c8e-600e-4841-b83a-f7d90a492ef5",
   "metadata": {},
   "outputs": [
    {
     "name": "stderr",
     "output_type": "stream",
     "text": [
      "100%|██████████| 4084/4084 [00:21<00:00, 192.20it/s]\n"
     ]
    }
   ],
   "source": [
    "def load_metadata(path: Path):\n",
    "    \"\"\"\n",
    "    Load metadata for a single .mp4, from the .info.json file. Drops some of the really verbose json keys before returning:\n",
    "        \"formats\", \"thumbnails\", \"automatic_captions\", \"http_headers\"\n",
    "    \"\"\"\n",
    "    if path.suffix:\n",
    "        path = path.with_suffix(\"\")\n",
    "    info_path = path.with_suffix(\".info.json\")\n",
    "    data = json.load(open(info_path, \"r\"))\n",
    "    drop_keys = set([\"formats\", \"thumbnails\", \"automatic_captions\", \"http_headers\"])\n",
    "    for k in drop_keys.intersection(data.keys()):\n",
    "        del data[k]\n",
    "    data[\"path\"] = path\n",
    "    # print(data.keys())\n",
    "    # print(path, path.exists())\n",
    "    return data\n",
    "\n",
    "\n",
    "all_metadata = []\n",
    "for f in tqdm(files):\n",
    "    all_metadata.append(load_metadata(f))"
   ]
  },
  {
   "cell_type": "code",
   "execution_count": 37,
   "id": "9f4cd098-750e-4e8a-8688-d15d28c8e30e",
   "metadata": {
    "tags": []
   },
   "outputs": [
    {
     "data": {
      "text/html": [
       "<div>\n",
       "<style scoped>\n",
       "    .dataframe tbody tr th:only-of-type {\n",
       "        vertical-align: middle;\n",
       "    }\n",
       "\n",
       "    .dataframe tbody tr th {\n",
       "        vertical-align: top;\n",
       "    }\n",
       "\n",
       "    .dataframe thead th {\n",
       "        text-align: right;\n",
       "    }\n",
       "</style>\n",
       "<table border=\"1\" class=\"dataframe\">\n",
       "  <thead>\n",
       "    <tr style=\"text-align: right;\">\n",
       "      <th></th>\n",
       "      <th>id</th>\n",
       "      <th>title</th>\n",
       "      <th>yt_url</th>\n",
       "      <th>thumbnail</th>\n",
       "      <th>description</th>\n",
       "      <th>upload_date</th>\n",
       "      <th>uploader</th>\n",
       "      <th>...</th>\n",
       "      <th>alt_title</th>\n",
       "      <th>filesize</th>\n",
       "      <th>chapters</th>\n",
       "      <th>location</th>\n",
       "      <th>release_timestamp</th>\n",
       "      <th>release_date</th>\n",
       "      <th>subtitles</th>\n",
       "    </tr>\n",
       "  </thead>\n",
       "  <tbody>\n",
       "    <tr>\n",
       "      <th>0</th>\n",
       "      <td>--0Kbpo9DtE</td>\n",
       "      <td>GeoGuessr - World Capitals - Games #4 &amp; 5 - NO MOVING [PLAY ALONG]  | Ep. # 218</td>\n",
       "      <td>https://www.youtube.com/watch?v=--0Kbpo9DtE</td>\n",
       "      <td>https://i.ytimg.com/vi_webp/--0Kbpo9DtE/maxresdefault.webp</td>\n",
       "      <td>Come join the journey on All Over The Map.  We discover the World Capitals game with a 2 minute time round for the first game and a 1 minute time round for the second game - both no moving. This game was created by Vedl on GeoGuessr. \\n  \\nPLAY ALONG 1st GAME: https://www.geoguessr.com/challenge/S44Eb9Od16SqWiNW\\n\\nPLAY ALONG 2nd GAME: https://www.geoguessr.com/challenge/j00ZQUDn6k49CvM8\\n\\nGame: Embark on a journey to explore the World's Capitals. (hand-picked locations; frequent updates; some of the included countries might not be considered souvereign nations)\\n\\nEnjoy and please subscribe:\\nhttps://www.youtube.com/channel/UCIWXkxr8tNJhIgmLjv6O63A\\n\\n#GeoGuessr #capitals #GeoGuessrUK #gaming #tourist #games #world #travel #geography #geowizard #streetview #hard #gameplay</td>\n",
       "      <td>20210808</td>\n",
       "      <td>All Over The Map</td>\n",
       "      <td>...</td>\n",
       "      <td>NaN</td>\n",
       "      <td>NaN</td>\n",
       "      <td>NaN</td>\n",
       "      <td>NaN</td>\n",
       "      <td>NaN</td>\n",
       "      <td>NaN</td>\n",
       "      <td>NaN</td>\n",
       "    </tr>\n",
       "    <tr>\n",
       "      <th>1</th>\n",
       "      <td>-13sRRWmIxY</td>\n",
       "      <td>Geoguessr | The Daily Challenge (04.01.20)</td>\n",
       "      <td>https://www.youtube.com/watch?v=-13sRRWmIxY</td>\n",
       "      <td>https://i.ytimg.com/vi_webp/-13sRRWmIxY/maxresdefault.webp</td>\n",
       "      <td>My Geoguessr: https://geoguessr.com/user/5a8032d95eefed3a509bb6b7\\n\\nWanna play The Daily Challenge: https://geoguessr.com/daily-challenges</td>\n",
       "      <td>20200104</td>\n",
       "      <td>TheGreat Geoguessr</td>\n",
       "      <td>...</td>\n",
       "      <td>NaN</td>\n",
       "      <td>NaN</td>\n",
       "      <td>NaN</td>\n",
       "      <td>NaN</td>\n",
       "      <td>NaN</td>\n",
       "      <td>NaN</td>\n",
       "      <td>NaN</td>\n",
       "    </tr>\n",
       "    <tr>\n",
       "      <th>2</th>\n",
       "      <td>-1dnrfnuirw</td>\n",
       "      <td>GuessWhere - Satellite photo city guessing #2</td>\n",
       "      <td>https://www.youtube.com/watch?v=-1dnrfnuirw</td>\n",
       "      <td>https://i.ytimg.com/vi_webp/-1dnrfnuirw/maxresdefault.webp</td>\n",
       "      <td>Try the game out: http://map.epizy.com/guesswhere/?i=1\\nAnother video of SatelliteGuessr since I'm having a lot of fun with the game. I'm sorry about the typing window being almost cut off, I messed something up in Streamlabs.</td>\n",
       "      <td>20200103</td>\n",
       "      <td>Simi</td>\n",
       "      <td>...</td>\n",
       "      <td>NaN</td>\n",
       "      <td>NaN</td>\n",
       "      <td>NaN</td>\n",
       "      <td>NaN</td>\n",
       "      <td>NaN</td>\n",
       "      <td>NaN</td>\n",
       "      <td>NaN</td>\n",
       "    </tr>\n",
       "    <tr>\n",
       "      <th>3</th>\n",
       "      <td>-44oRWpKLfo</td>\n",
       "      <td>Geoguessr - UK Unofficial Map - Perfect Score</td>\n",
       "      <td>https://www.youtube.com/watch?v=-44oRWpKLfo</td>\n",
       "      <td>https://i.ytimg.com/vi_webp/-44oRWpKLfo/maxresdefault.webp</td>\n",
       "      <td>A request - was going quite smoothly until the end!</td>\n",
       "      <td>20181028</td>\n",
       "      <td>Geography Challenges</td>\n",
       "      <td>...</td>\n",
       "      <td>NaN</td>\n",
       "      <td>NaN</td>\n",
       "      <td>NaN</td>\n",
       "      <td>NaN</td>\n",
       "      <td>NaN</td>\n",
       "      <td>NaN</td>\n",
       "      <td>NaN</td>\n",
       "    </tr>\n",
       "    <tr>\n",
       "      <th>4</th>\n",
       "      <td>-6aOlSz259o</td>\n",
       "      <td>Mission Across Wales Line Analysis - How accurately did I follow the line?</td>\n",
       "      <td>https://www.youtube.com/watch?v=-6aOlSz259o</td>\n",
       "      <td>https://i.ytimg.com/vi_webp/-6aOlSz259o/sddefault.webp</td>\n",
       "      <td>Get your Seeker 2 here: https://ukolightstore.idevaffiliate.com/248.html\\nOr get up to 40% off the Baton Pro: https://ukolightstore.idevaffiliate.com/266.html\\nDISCOUNT CODE: GEOTEN</td>\n",
       "      <td>20191008</td>\n",
       "      <td>GeoWizard</td>\n",
       "      <td>...</td>\n",
       "      <td>NaN</td>\n",
       "      <td>NaN</td>\n",
       "      <td>NaN</td>\n",
       "      <td>NaN</td>\n",
       "      <td>NaN</td>\n",
       "      <td>NaN</td>\n",
       "      <td>NaN</td>\n",
       "    </tr>\n",
       "    <tr>\n",
       "      <th>...</th>\n",
       "      <td>...</td>\n",
       "      <td>...</td>\n",
       "      <td>...</td>\n",
       "      <td>...</td>\n",
       "      <td>...</td>\n",
       "      <td>...</td>\n",
       "      <td>...</td>\n",
       "      <td>...</td>\n",
       "      <td>...</td>\n",
       "      <td>...</td>\n",
       "      <td>...</td>\n",
       "      <td>...</td>\n",
       "      <td>...</td>\n",
       "      <td>...</td>\n",
       "      <td>...</td>\n",
       "    </tr>\n",
       "    <tr>\n",
       "      <th>4079</th>\n",
       "      <td>zvCAb_OlYJY</td>\n",
       "      <td>GeoGuessr - European Countries: Ep 4 - Belgium</td>\n",
       "      <td>https://www.youtube.com/watch?v=zvCAb_OlYJY</td>\n",
       "      <td>https://i.ytimg.com/vi_webp/zvCAb_OlYJY/maxresdefault.webp</td>\n",
       "      <td>This is the next episode of the series where I try and get a perfect score in every European country, with a 5 minute timer!\\nNext up is Bulgaria!\\nPlease consider subscribing, I would really appreciate it!\\n\\nI upload GeoGuessr and other geography content every other day!\\n\\nI hope you enjoy!</td>\n",
       "      <td>20210320</td>\n",
       "      <td>Geoguessr Michael</td>\n",
       "      <td>...</td>\n",
       "      <td>NaN</td>\n",
       "      <td>NaN</td>\n",
       "      <td>NaN</td>\n",
       "      <td>NaN</td>\n",
       "      <td>NaN</td>\n",
       "      <td>NaN</td>\n",
       "      <td>NaN</td>\n",
       "    </tr>\n",
       "    <tr>\n",
       "      <th>4080</th>\n",
       "      <td>zvHyQgCGwgs</td>\n",
       "      <td>Denmark or Netherlands? - GeoGuessr Country Streaks #8 - Guess the Country Wrong, the Video Ends</td>\n",
       "      <td>https://www.youtube.com/watch?v=zvHyQgCGwgs</td>\n",
       "      <td>https://i.ytimg.com/vi_webp/zvHyQgCGwgs/maxresdefault.webp</td>\n",
       "      <td>Trying to get as many countries in a row as possible in the Improved World map in GeoGuessr Part 8. If I guess the country wrong, the video ends!\\nDid I miss something in the video? Let me know in the comments below!\\n\\nAre you interested in more GeoGuessr content?\\nFollow me on Twitch - https://www.twitch.tv/petery\\nJoin our Discord community - https://discord.gg/spTSr6R</td>\n",
       "      <td>20200907</td>\n",
       "      <td>GeoPeter</td>\n",
       "      <td>...</td>\n",
       "      <td>NaN</td>\n",
       "      <td>NaN</td>\n",
       "      <td>NaN</td>\n",
       "      <td>NaN</td>\n",
       "      <td>NaN</td>\n",
       "      <td>NaN</td>\n",
       "      <td>NaN</td>\n",
       "    </tr>\n",
       "    <tr>\n",
       "      <th>4081</th>\n",
       "      <td>zvxaj5L7kaw</td>\n",
       "      <td>Geoguessr - USA State Challenge - Guess the Correct American State!</td>\n",
       "      <td>https://www.youtube.com/watch?v=zvxaj5L7kaw</td>\n",
       "      <td>https://i.ytimg.com/vi_webp/zvxaj5L7kaw/maxresdefault.webp</td>\n",
       "      <td>Today I'm playing the USA State Challenge, where I am trying to guess the right state in each round! This works a lot like the 10 Country Challenge (no moving) but I am scoring each round with points. Let's see how well I can do!\\n═════════\\nFollow me on Twitter! https://www.twitter.com/ChicagoGeoYT\\n═════════\\nMy Geoguessr Maps:\\nChicago and the Suburbs - https://geoguessr.com/maps/5c4691a598004e87dc4a6726\\nIllinois Cities and Towns - https://geoguessr.com/maps/5c7c95ba63939b8d38e854bd\\nIllinois - https://geoguessr.com/maps/5c7c2b6263939b8d38e84588\\nLake Michigan Circle Tour - https://geoguessr.com/maps/5c7f51ca63939b8d38e8c7ba</td>\n",
       "      <td>20190525</td>\n",
       "      <td>Chicago Geographer</td>\n",
       "      <td>...</td>\n",
       "      <td>NaN</td>\n",
       "      <td>NaN</td>\n",
       "      <td>NaN</td>\n",
       "      <td>NaN</td>\n",
       "      <td>NaN</td>\n",
       "      <td>NaN</td>\n",
       "      <td>NaN</td>\n",
       "    </tr>\n",
       "    <tr>\n",
       "      <th>4082</th>\n",
       "      <td>zy-K_HzUPWc</td>\n",
       "      <td>Can We Get The Lowest Score on Geoguessr? (S1E5)</td>\n",
       "      <td>https://www.youtube.com/watch?v=zy-K_HzUPWc</td>\n",
       "      <td>https://i.ytimg.com/vi_webp/zy-K_HzUPWc/maxresdefault.webp</td>\n",
       "      <td>GeoGuessr, but we try and get the lowest score! This was done with my friends, which was very chaotic.. but also fun. Feel free to drop a sub for the 100 goal!\\n\\nMy Discord: https://discord.gg/4cwZNW4Q\\n\\n#geoguessr #low #score\\n\\nTime Stamps\\n00:00 - Game 1\\n04:00 - Game 2\\n07:00 - Game 3</td>\n",
       "      <td>20210916</td>\n",
       "      <td>Harrier - GeoGuessr</td>\n",
       "      <td>...</td>\n",
       "      <td>Lonely Troutman II</td>\n",
       "      <td>NaN</td>\n",
       "      <td>[{'start_time': 0.0, 'title': 'Game 1', 'end_time': 240.0}, {'start_time': 240.0, 'title': 'Game 2', 'end_time': 420.0}, {'start_time': 420.0, 'title': 'Game 3', 'end_time': 607}]</td>\n",
       "      <td>NaN</td>\n",
       "      <td>1,631,815,215.00</td>\n",
       "      <td>20210916</td>\n",
       "      <td>{'live_chat': [{'url': 'https://www.youtube.com/watch?v=zy-K_HzUPWc', 'video_id': 'zy-K_HzUPWc', 'ext': 'json', 'protocol': 'youtube_live_chat_replay'}]}</td>\n",
       "    </tr>\n",
       "    <tr>\n",
       "      <th>4083</th>\n",
       "      <td>zyZRvZohmro</td>\n",
       "      <td>Three Parallel Games - GeoGuessr Battle Royale Gameplay #8</td>\n",
       "      <td>https://www.youtube.com/watch?v=zyZRvZohmro</td>\n",
       "      <td>https://i.ytimg.com/vi/zyZRvZohmro/maxresdefault.jpg</td>\n",
       "      <td>In this video, I am playing multiple games against random opponents as I explain my thought process so you can learn to play GeoGuessr better! This time I try to get some Battle Royale wins while playing 3 games at the same time. :)\\n\\nAre you interested in more GeoGuessr content?\\n- Subscribe for more videos\\n- Follow me on Twitch - https://www.twitch.tv/petery\\n- Join our Discord community - https://discord.gg/spTSr6R\\n\\nCheck out the merch! - https://teespring.com/stores/geopeter\\n\\nSongs used:\\nBarren Gates - Devil: https://www.youtube.com/watch?v=htV2wG5rWHw\\n32Stitches - Olympus: https://www.youtube.com/watch?v=2HhAz5rWzsI\\nAscence - Places Like That: https://www.youtube.com/watch?v=jmpRflEHdqs\\nBlooom &amp; Ghost'n'Ghost - https://www.youtube.com/watch?v=D-TQB-T-UJ4\\nRival - Walls (feat. Bryan Finlay): https://www.youtube.com/watch?v=DP-pHcwIy8A\\nBarren Gates - Slow Down: https://www.youtube.com/watch?v=QHYN_AzRI6Q\\nBesomorph x EMM - Afterlife: https://www.youtube.com/watch?v=F3B6qKchtzo\\n\\n#geoguessr #battleroyale #learning #geography</td>\n",
       "      <td>20210130</td>\n",
       "      <td>GeoPeter</td>\n",
       "      <td>...</td>\n",
       "      <td>NaN</td>\n",
       "      <td>NaN</td>\n",
       "      <td>NaN</td>\n",
       "      <td>NaN</td>\n",
       "      <td>NaN</td>\n",
       "      <td>NaN</td>\n",
       "      <td>NaN</td>\n",
       "    </tr>\n",
       "  </tbody>\n",
       "</table>\n",
       "<p>4084 rows × 69 columns</p>\n",
       "</div>"
      ],
      "text/plain": [
       "               id  \\\n",
       "0     --0Kbpo9DtE   \n",
       "1     -13sRRWmIxY   \n",
       "2     -1dnrfnuirw   \n",
       "3     -44oRWpKLfo   \n",
       "4     -6aOlSz259o   \n",
       "...           ...   \n",
       "4079  zvCAb_OlYJY   \n",
       "4080  zvHyQgCGwgs   \n",
       "4081  zvxaj5L7kaw   \n",
       "4082  zy-K_HzUPWc   \n",
       "4083  zyZRvZohmro   \n",
       "\n",
       "                                                                                                 title  \\\n",
       "0                      GeoGuessr - World Capitals - Games #4 & 5 - NO MOVING [PLAY ALONG]  | Ep. # 218   \n",
       "1                                                           Geoguessr | The Daily Challenge (04.01.20)   \n",
       "2                                                        GuessWhere - Satellite photo city guessing #2   \n",
       "3                                                        Geoguessr - UK Unofficial Map - Perfect Score   \n",
       "4                           Mission Across Wales Line Analysis - How accurately did I follow the line?   \n",
       "...                                                                                                ...   \n",
       "4079                                                    GeoGuessr - European Countries: Ep 4 - Belgium   \n",
       "4080  Denmark or Netherlands? - GeoGuessr Country Streaks #8 - Guess the Country Wrong, the Video Ends   \n",
       "4081                               Geoguessr - USA State Challenge - Guess the Correct American State!   \n",
       "4082                                                  Can We Get The Lowest Score on Geoguessr? (S1E5)   \n",
       "4083                                        Three Parallel Games - GeoGuessr Battle Royale Gameplay #8   \n",
       "\n",
       "                                           yt_url  \\\n",
       "0     https://www.youtube.com/watch?v=--0Kbpo9DtE   \n",
       "1     https://www.youtube.com/watch?v=-13sRRWmIxY   \n",
       "2     https://www.youtube.com/watch?v=-1dnrfnuirw   \n",
       "3     https://www.youtube.com/watch?v=-44oRWpKLfo   \n",
       "4     https://www.youtube.com/watch?v=-6aOlSz259o   \n",
       "...                                           ...   \n",
       "4079  https://www.youtube.com/watch?v=zvCAb_OlYJY   \n",
       "4080  https://www.youtube.com/watch?v=zvHyQgCGwgs   \n",
       "4081  https://www.youtube.com/watch?v=zvxaj5L7kaw   \n",
       "4082  https://www.youtube.com/watch?v=zy-K_HzUPWc   \n",
       "4083  https://www.youtube.com/watch?v=zyZRvZohmro   \n",
       "\n",
       "                                                       thumbnail  \\\n",
       "0     https://i.ytimg.com/vi_webp/--0Kbpo9DtE/maxresdefault.webp   \n",
       "1     https://i.ytimg.com/vi_webp/-13sRRWmIxY/maxresdefault.webp   \n",
       "2     https://i.ytimg.com/vi_webp/-1dnrfnuirw/maxresdefault.webp   \n",
       "3     https://i.ytimg.com/vi_webp/-44oRWpKLfo/maxresdefault.webp   \n",
       "4         https://i.ytimg.com/vi_webp/-6aOlSz259o/sddefault.webp   \n",
       "...                                                          ...   \n",
       "4079  https://i.ytimg.com/vi_webp/zvCAb_OlYJY/maxresdefault.webp   \n",
       "4080  https://i.ytimg.com/vi_webp/zvHyQgCGwgs/maxresdefault.webp   \n",
       "4081  https://i.ytimg.com/vi_webp/zvxaj5L7kaw/maxresdefault.webp   \n",
       "4082  https://i.ytimg.com/vi_webp/zy-K_HzUPWc/maxresdefault.webp   \n",
       "4083        https://i.ytimg.com/vi/zyZRvZohmro/maxresdefault.jpg   \n",
       "\n",
       "                                                                                                                                                                                                                                                                                                                                                                                                                                                                                                                                                                                                                                                                                                                                                                                                                                                                                                                                                                                                                                                                                         description  \\\n",
       "0                                                                                                                                                                                                                                                                                   Come join the journey on All Over The Map.  We discover the World Capitals game with a 2 minute time round for the first game and a 1 minute time round for the second game - both no moving. This game was created by Vedl on GeoGuessr. \\n  \\nPLAY ALONG 1st GAME: https://www.geoguessr.com/challenge/S44Eb9Od16SqWiNW\\n\\nPLAY ALONG 2nd GAME: https://www.geoguessr.com/challenge/j00ZQUDn6k49CvM8\\n\\nGame: Embark on a journey to explore the World's Capitals. (hand-picked locations; frequent updates; some of the included countries might not be considered souvereign nations)\\n\\nEnjoy and please subscribe:\\nhttps://www.youtube.com/channel/UCIWXkxr8tNJhIgmLjv6O63A\\n\\n#GeoGuessr #capitals #GeoGuessrUK #gaming #tourist #games #world #travel #geography #geowizard #streetview #hard #gameplay   \n",
       "1                                                                                                                                                                                                                                                                                                                                                                                                                                                                                                                                                                                                                                                                                                                                                                                                                                                                                                                                                        My Geoguessr: https://geoguessr.com/user/5a8032d95eefed3a509bb6b7\\n\\nWanna play The Daily Challenge: https://geoguessr.com/daily-challenges   \n",
       "2                                                                                                                                                                                                                                                                                                                                                                                                                                                                                                                                                                                                                                                                                                                                                                                                                                                                 Try the game out: http://map.epizy.com/guesswhere/?i=1\\nAnother video of SatelliteGuessr since I'm having a lot of fun with the game. I'm sorry about the typing window being almost cut off, I messed something up in Streamlabs.   \n",
       "3                                                                                                                                                                                                                                                                                                                                                                                                                                                                                                                                                                                                                                                                                                                                                                                                                                                                                                                                                                                                                                                A request - was going quite smoothly until the end!   \n",
       "4                                                                                                                                                                                                                                                                                                                                                                                                                                                                                                                                                                                                                                                                                                                                                                                                                                                                                                              Get your Seeker 2 here: https://ukolightstore.idevaffiliate.com/248.html\\nOr get up to 40% off the Baton Pro: https://ukolightstore.idevaffiliate.com/266.html\\nDISCOUNT CODE: GEOTEN   \n",
       "...                                                                                                                                                                                                                                                                                                                                                                                                                                                                                                                                                                                                                                                                                                                                                                                                                                                                                                                                                                                                                                                                                              ...   \n",
       "4079                                                                                                                                                                                                                                                                                                                                                                                                                                                                                                                                                                                                                                                                                                                                                                                          This is the next episode of the series where I try and get a perfect score in every European country, with a 5 minute timer!\\nNext up is Bulgaria!\\nPlease consider subscribing, I would really appreciate it!\\n\\nI upload GeoGuessr and other geography content every other day!\\n\\nI hope you enjoy!   \n",
       "4080                                                                                                                                                                                                                                                                                                                                                                                                                                                                                                                                                                                                                                                                                                          Trying to get as many countries in a row as possible in the Improved World map in GeoGuessr Part 8. If I guess the country wrong, the video ends!\\nDid I miss something in the video? Let me know in the comments below!\\n\\nAre you interested in more GeoGuessr content?\\nFollow me on Twitch - https://www.twitch.tv/petery\\nJoin our Discord community - https://discord.gg/spTSr6R   \n",
       "4081                                                                                                                                                                                                                                                                                                                                                                                                                                    Today I'm playing the USA State Challenge, where I am trying to guess the right state in each round! This works a lot like the 10 Country Challenge (no moving) but I am scoring each round with points. Let's see how well I can do!\\n═════════\\nFollow me on Twitter! https://www.twitter.com/ChicagoGeoYT\\n═════════\\nMy Geoguessr Maps:\\nChicago and the Suburbs - https://geoguessr.com/maps/5c4691a598004e87dc4a6726\\nIllinois Cities and Towns - https://geoguessr.com/maps/5c7c95ba63939b8d38e854bd\\nIllinois - https://geoguessr.com/maps/5c7c2b6263939b8d38e84588\\nLake Michigan Circle Tour - https://geoguessr.com/maps/5c7f51ca63939b8d38e8c7ba   \n",
       "4082                                                                                                                                                                                                                                                                                                                                                                                                                                                                                                                                                                                                                                                                                                                                                                                             GeoGuessr, but we try and get the lowest score! This was done with my friends, which was very chaotic.. but also fun. Feel free to drop a sub for the 100 goal!\\n\\nMy Discord: https://discord.gg/4cwZNW4Q\\n\\n#geoguessr #low #score\\n\\nTime Stamps\\n00:00 - Game 1\\n04:00 - Game 2\\n07:00 - Game 3   \n",
       "4083  In this video, I am playing multiple games against random opponents as I explain my thought process so you can learn to play GeoGuessr better! This time I try to get some Battle Royale wins while playing 3 games at the same time. :)\\n\\nAre you interested in more GeoGuessr content?\\n- Subscribe for more videos\\n- Follow me on Twitch - https://www.twitch.tv/petery\\n- Join our Discord community - https://discord.gg/spTSr6R\\n\\nCheck out the merch! - https://teespring.com/stores/geopeter\\n\\nSongs used:\\nBarren Gates - Devil: https://www.youtube.com/watch?v=htV2wG5rWHw\\n32Stitches - Olympus: https://www.youtube.com/watch?v=2HhAz5rWzsI\\nAscence - Places Like That: https://www.youtube.com/watch?v=jmpRflEHdqs\\nBlooom & Ghost'n'Ghost - https://www.youtube.com/watch?v=D-TQB-T-UJ4\\nRival - Walls (feat. Bryan Finlay): https://www.youtube.com/watch?v=DP-pHcwIy8A\\nBarren Gates - Slow Down: https://www.youtube.com/watch?v=QHYN_AzRI6Q\\nBesomorph x EMM - Afterlife: https://www.youtube.com/watch?v=F3B6qKchtzo\\n\\n#geoguessr #battleroyale #learning #geography   \n",
       "\n",
       "     upload_date              uploader  ...           alt_title filesize  \\\n",
       "0       20210808      All Over The Map  ...                 NaN      NaN   \n",
       "1       20200104    TheGreat Geoguessr  ...                 NaN      NaN   \n",
       "2       20200103                  Simi  ...                 NaN      NaN   \n",
       "3       20181028  Geography Challenges  ...                 NaN      NaN   \n",
       "4       20191008             GeoWizard  ...                 NaN      NaN   \n",
       "...          ...                   ...  ...                 ...      ...   \n",
       "4079    20210320     Geoguessr Michael  ...                 NaN      NaN   \n",
       "4080    20200907              GeoPeter  ...                 NaN      NaN   \n",
       "4081    20190525    Chicago Geographer  ...                 NaN      NaN   \n",
       "4082    20210916   Harrier - GeoGuessr  ...  Lonely Troutman II      NaN   \n",
       "4083    20210130              GeoPeter  ...                 NaN      NaN   \n",
       "\n",
       "                                                                                                                                                                                 chapters  \\\n",
       "0                                                                                                                                                                                     NaN   \n",
       "1                                                                                                                                                                                     NaN   \n",
       "2                                                                                                                                                                                     NaN   \n",
       "3                                                                                                                                                                                     NaN   \n",
       "4                                                                                                                                                                                     NaN   \n",
       "...                                                                                                                                                                                   ...   \n",
       "4079                                                                                                                                                                                  NaN   \n",
       "4080                                                                                                                                                                                  NaN   \n",
       "4081                                                                                                                                                                                  NaN   \n",
       "4082  [{'start_time': 0.0, 'title': 'Game 1', 'end_time': 240.0}, {'start_time': 240.0, 'title': 'Game 2', 'end_time': 420.0}, {'start_time': 420.0, 'title': 'Game 3', 'end_time': 607}]   \n",
       "4083                                                                                                                                                                                  NaN   \n",
       "\n",
       "     location  release_timestamp  release_date  \\\n",
       "0         NaN                NaN           NaN   \n",
       "1         NaN                NaN           NaN   \n",
       "2         NaN                NaN           NaN   \n",
       "3         NaN                NaN           NaN   \n",
       "4         NaN                NaN           NaN   \n",
       "...       ...                ...           ...   \n",
       "4079      NaN                NaN           NaN   \n",
       "4080      NaN                NaN           NaN   \n",
       "4081      NaN                NaN           NaN   \n",
       "4082      NaN   1,631,815,215.00      20210916   \n",
       "4083      NaN                NaN           NaN   \n",
       "\n",
       "                                                                                                                                                      subtitles  \n",
       "0                                                                                                                                                           NaN  \n",
       "1                                                                                                                                                           NaN  \n",
       "2                                                                                                                                                           NaN  \n",
       "3                                                                                                                                                           NaN  \n",
       "4                                                                                                                                                           NaN  \n",
       "...                                                                                                                                                         ...  \n",
       "4079                                                                                                                                                        NaN  \n",
       "4080                                                                                                                                                        NaN  \n",
       "4081                                                                                                                                                        NaN  \n",
       "4082  {'live_chat': [{'url': 'https://www.youtube.com/watch?v=zy-K_HzUPWc', 'video_id': 'zy-K_HzUPWc', 'ext': 'json', 'protocol': 'youtube_live_chat_replay'}]}  \n",
       "4083                                                                                                                                                        NaN  \n",
       "\n",
       "[4084 rows x 69 columns]"
      ]
     },
     "execution_count": 37,
     "metadata": {},
     "output_type": "execute_result"
    }
   ],
   "source": [
    "df_all = pd.DataFrame(all_metadata)\n",
    "df_all.insert(2, \"yt_url\", df_all.id.apply(lambda x: f\"https://www.youtube.com/watch?v={x}\"))\n",
    "df_all"
   ]
  },
  {
   "cell_type": "code",
   "execution_count": 38,
   "id": "56531099-815c-412f-a526-5dade8f14344",
   "metadata": {},
   "outputs": [],
   "source": [
    "df_suspect = df_all[\n",
    "    (~df_all.title.apply(lambda x: \"geoguessr\" in x.casefold()))\n",
    "    & (~df_all.description.apply(lambda x: \"geoguessr\" in x.casefold()))\n",
    "    & (~df_all.title.apply(lambda x: \"battle royale\" in x.casefold()))\n",
    "    & (~df_all.description.apply(lambda x: \"battle royale\" in x.casefold()))\n",
    "    & (~df_all.uploader.apply(lambda x: \"geowizard\" in x.casefold()))\n",
    "    & (~df_all.uploader.apply(lambda x: \"geoguessr\" in x.casefold()))\n",
    "]\n",
    "df_suspect.shape\n",
    "df_geo = df_all[~df_all.id.isin(df_suspect.id)].copy(deep=True)"
   ]
  },
  {
   "cell_type": "code",
   "execution_count": 10,
   "id": "17d3a311-3072-4902-bde5-81c4de4c53a1",
   "metadata": {},
   "outputs": [],
   "source": [
    "# with pd.option_context(\"display.max_rows\", None, \"display.max_columns\", None):\n",
    "#     display(df_suspect)"
   ]
  },
  {
   "cell_type": "code",
   "execution_count": 89,
   "id": "99233cb5-0679-4635-82bf-eb1075201178",
   "metadata": {},
   "outputs": [],
   "source": [
    "pickle.dump(df_geo, open(OUT_PATH / \"df_geo.pkl\", \"wb\"))"
   ]
  },
  {
   "cell_type": "code",
   "execution_count": 91,
   "id": "794497be-0d3a-4f2d-8e7d-db9381dd2bd9",
   "metadata": {},
   "outputs": [
    {
     "data": {
      "text/plain": [
       "Index(['id', 'title', 'yt_url', 'thumbnail', 'description', 'upload_date',\n",
       "       'uploader', 'uploader_id', 'uploader_url', 'channel_id', 'channel_url',\n",
       "       'duration', 'view_count', 'average_rating', 'age_limit', 'webpage_url',\n",
       "       'categories', 'playable_in_embed', 'is_live', 'was_live', 'live_status',\n",
       "       'like_count', 'dislike_count', 'channel', 'availability',\n",
       "       'webpage_url_basename', 'extractor', 'extractor_key', 'display_id',\n",
       "       'duration_string', 'asr', 'format_id', 'format_note',\n",
       "       'source_preference', 'fps', 'height', 'quality', 'tbr', 'url', 'width',\n",
       "       'language', 'language_preference', 'ext', 'vcodec', 'acodec',\n",
       "       'dynamic_range', 'protocol', 'video_ext', 'audio_ext', 'vbr', 'abr',\n",
       "       'format', 'resolution', 'filesize_approx', 'fulltitle', 'epoch', 'path',\n",
       "       'tags', 'track', 'artist', 'album', 'creator', 'alt_title', 'filesize',\n",
       "       'chapters', 'location', 'release_timestamp', 'release_date',\n",
       "       'subtitles'],\n",
       "      dtype='object')"
      ]
     },
     "execution_count": 91,
     "metadata": {},
     "output_type": "execute_result"
    }
   ],
   "source": [
    "df_geo.columns"
   ]
  },
  {
   "cell_type": "markdown",
   "id": "cd5076fb-745f-4b21-bd6c-0256dba0303a",
   "metadata": {},
   "source": [
    "## Sample Frames from Videos, Save as JPG's"
   ]
  },
  {
   "cell_type": "code",
   "execution_count": null,
   "id": "1512c1c6-af2c-4246-b4c2-366f796349a4",
   "metadata": {
    "tags": []
   },
   "outputs": [],
   "source": [
    "import cv2\n",
    "\n",
    "\n",
    "def sample_frames(video_path: Path, out_path: Path, sample_every_seconds=20.0):\n",
    "    \"\"\"\n",
    "    Sample a frame every `sample_every_seconds` seconds from the specified video, saving it to\n",
    "    \"\"\"\n",
    "    path = video_path.with_suffix(\".mp4\")\n",
    "    assert path.exists(), str(path)\n",
    "    cap = cv2.VideoCapture(str(path))\n",
    "    if not cap.isOpened():\n",
    "        print(\"could not open :\", video_path)\n",
    "    num_frames = int(cap.get(cv2.CAP_PROP_FRAME_COUNT))\n",
    "    print(f\"num_frames: {num_frames:,}\")\n",
    "    seconds = round(0, 2)\n",
    "    sample_every_seconds = 5.0\n",
    "    count = 0\n",
    "    success = True\n",
    "    print(path)\n",
    "    while success:\n",
    "        cap.set(cv2.CAP_PROP_POS_MSEC, (seconds * 1000))\n",
    "        success, image = cap.read()\n",
    "        if success:\n",
    "            frame_out_path = out_path / \"screen_samples_auto\" / f\"{path.stem}/frame_{count:08}.jpg\"\n",
    "            frame_out_path.parent.mkdir(exist_ok=True, parents=True)\n",
    "            # print(frame_out_path)\n",
    "            cv2.imwrite(str(frame_out_path), image)\n",
    "        seconds = round(seconds + sample_every_seconds, 2)\n",
    "        count += 1\n",
    "    cap.release()\n",
    "    print(\"total frames captured: \", count, \", seconds: \", seconds)\n",
    "\n",
    "\n",
    "for i, (idx, row) in tqdm(enumerate(df_sampled.iterrows()), total=len(df_sampled)):\n",
    "    # if i > 10:\n",
    "    #     break\n",
    "    sample_frames(row.path, OUT_PATH, 20.0)"
   ]
  },
  {
   "cell_type": "code",
   "execution_count": 92,
   "id": "30103819-dcd1-4a4a-9503-731182d5cf67",
   "metadata": {
    "collapsed": true,
    "jupyter": {
     "outputs_hidden": true
    },
    "tags": []
   },
   "outputs": [
    {
     "data": {
      "text/html": [
       "<div>\n",
       "<style scoped>\n",
       "    .dataframe tbody tr th:only-of-type {\n",
       "        vertical-align: middle;\n",
       "    }\n",
       "\n",
       "    .dataframe tbody tr th {\n",
       "        vertical-align: top;\n",
       "    }\n",
       "\n",
       "    .dataframe thead th {\n",
       "        text-align: right;\n",
       "    }\n",
       "</style>\n",
       "<table border=\"1\" class=\"dataframe\">\n",
       "  <thead>\n",
       "    <tr style=\"text-align: right;\">\n",
       "      <th></th>\n",
       "      <th>id</th>\n",
       "      <th>title</th>\n",
       "      <th>yt_url</th>\n",
       "      <th>thumbnail</th>\n",
       "      <th>description</th>\n",
       "      <th>upload_date</th>\n",
       "      <th>uploader</th>\n",
       "      <th>...</th>\n",
       "      <th>alt_title</th>\n",
       "      <th>filesize</th>\n",
       "      <th>chapters</th>\n",
       "      <th>location</th>\n",
       "      <th>release_timestamp</th>\n",
       "      <th>release_date</th>\n",
       "      <th>subtitles</th>\n",
       "    </tr>\n",
       "  </thead>\n",
       "  <tbody>\n",
       "    <tr>\n",
       "      <th>1808</th>\n",
       "      <td>Rg4P_nrRvBA</td>\n",
       "      <td>Country #40 United Arab Emirates Geoguessr Ep. 98</td>\n",
       "      <td>https://www.youtube.com/watch?v=Rg4P_nrRvBA</td>\n",
       "      <td>https://i.ytimg.com/vi_webp/Rg4P_nrRvBA/hqdefault.webp</td>\n",
       "      <td>Link to challenge: https://geoguessr.com/challenge/n5wwFGcy1teVgj9R\\n\\nPlaylist with all the country challenges: https://www.youtube.com/playlist?list=PLgRLSOkyd6hw_ysQ7-ryQqYb9WJAJrOo-\\n\\nIf you liked the content of this video please consider adding a like.\\n\\nTwitch.tv: http://www.twitch.tv/RadoX1988\\nDiscord server: https://discord.gg/CqhzaVu\\nTwitter: http://www.twitter.com/RadoX_1988</td>\n",
       "      <td>20180728</td>\n",
       "      <td>RadoX1988</td>\n",
       "      <td>...</td>\n",
       "      <td>NaN</td>\n",
       "      <td>NaN</td>\n",
       "      <td>NaN</td>\n",
       "      <td>NaN</td>\n",
       "      <td>NaN</td>\n",
       "      <td>NaN</td>\n",
       "      <td>NaN</td>\n",
       "    </tr>\n",
       "    <tr>\n",
       "      <th>2461</th>\n",
       "      <td>aob8sh6l-6M</td>\n",
       "      <td>Geoguessr - I NEED A NEW BRAIN!!!</td>\n",
       "      <td>https://www.youtube.com/watch?v=aob8sh6l-6M</td>\n",
       "      <td>https://i.ytimg.com/vi_webp/aob8sh6l-6M/maxresdefault.webp</td>\n",
       "      <td>Just a day filled with brain farts\\nand missed clues\\nand misinterpreted ideas \\n\\nwhat happened....\\n\\n\\nTOMORROWS LINK:\\nhttps://geoguessr.com/challenge/ixDd7IgfqwhjVIE3\\n\\n\\n\\nDiscord : https://discord.gg/xtJhfHE\\nTwitter : https://twitter.com/King_Maff\\nFacebook : https://www.facebook.com/TheKingMaff/\\nTwitch : https://go.twitch.tv/king_maff\\nEmail : itskingmaff@gmail.com</td>\n",
       "      <td>20190731</td>\n",
       "      <td>King Maff</td>\n",
       "      <td>...</td>\n",
       "      <td>NaN</td>\n",
       "      <td>NaN</td>\n",
       "      <td>NaN</td>\n",
       "      <td>NaN</td>\n",
       "      <td>NaN</td>\n",
       "      <td>NaN</td>\n",
       "      <td>NaN</td>\n",
       "    </tr>\n",
       "    <tr>\n",
       "      <th>8</th>\n",
       "      <td>-C7NJpYc3gw</td>\n",
       "      <td>Geoguessr - HERO TO ZERO, BACK TO HERO!!!</td>\n",
       "      <td>https://www.youtube.com/watch?v=-C7NJpYc3gw</td>\n",
       "      <td>https://i.ytimg.com/vi_webp/-C7NJpYc3gw/maxresdefault.webp</td>\n",
       "      <td>We fluctuate so much when we play this game\\ngood days followed by some real bad days\\nI dont get it...lol\\n\\nWell, time to lose Mondays video lol\\n\\nMONDAYS TWITCH LINK:\\nhttps://www.geoguessr.com/challenge/4eeiUjNuwTHItLdK\\n\\nMONDAYS LINK:\\nhttps://www.geoguessr.com/challenge/r7pjvX1TWy53XpMb\\n\\nDiscord : https://discord.gg/xtJhfHE\\r\\nTwitter : https://twitter.com/King_Maff\\r\\nFacebook : https://www.facebook.com/TheKingMaff/\\r\\nTwitch : https://go.twitch.tv/king_maff\\r\\nEmail : itskingmaff@gmail.com</td>\n",
       "      <td>20200229</td>\n",
       "      <td>King Maff</td>\n",
       "      <td>...</td>\n",
       "      <td>NaN</td>\n",
       "      <td>NaN</td>\n",
       "      <td>NaN</td>\n",
       "      <td>NaN</td>\n",
       "      <td>NaN</td>\n",
       "      <td>NaN</td>\n",
       "      <td>NaN</td>\n",
       "    </tr>\n",
       "    <tr>\n",
       "      <th>633</th>\n",
       "      <td>8ntxwgbIfpw</td>\n",
       "      <td>Geoguessr - US Cities #14</td>\n",
       "      <td>https://www.youtube.com/watch?v=8ntxwgbIfpw</td>\n",
       "      <td>https://i.ytimg.com/vi_webp/8ntxwgbIfpw/maxresdefault.webp</td>\n",
       "      <td>Just a play through of the game Geoguessr. This was US Cities #14, part of a reddit series curated by Radox1988.</td>\n",
       "      <td>20180825</td>\n",
       "      <td>Sagittarius998</td>\n",
       "      <td>...</td>\n",
       "      <td>NaN</td>\n",
       "      <td>NaN</td>\n",
       "      <td>NaN</td>\n",
       "      <td>NaN</td>\n",
       "      <td>NaN</td>\n",
       "      <td>NaN</td>\n",
       "      <td>NaN</td>\n",
       "    </tr>\n",
       "    <tr>\n",
       "      <th>880</th>\n",
       "      <td>CQ5-vvoHnIk</td>\n",
       "      <td>Geoguessr - A Wide World (No Moving)</td>\n",
       "      <td>https://www.youtube.com/watch?v=CQ5-vvoHnIk</td>\n",
       "      <td>https://i.ytimg.com/vi_webp/CQ5-vvoHnIk/sddefault.webp</td>\n",
       "      <td>Check out the map here https://geoguessr.com/maps/5cc3d1df6cca66098cd87e6f\\n\\nChallenge link: https://geoguessr.com/challenge/gMgRsbCuq5p7NLoV</td>\n",
       "      <td>20190626</td>\n",
       "      <td>Geography Challenges</td>\n",
       "      <td>...</td>\n",
       "      <td>NaN</td>\n",
       "      <td>NaN</td>\n",
       "      <td>NaN</td>\n",
       "      <td>NaN</td>\n",
       "      <td>NaN</td>\n",
       "      <td>NaN</td>\n",
       "      <td>NaN</td>\n",
       "    </tr>\n",
       "    <tr>\n",
       "      <th>...</th>\n",
       "      <td>...</td>\n",
       "      <td>...</td>\n",
       "      <td>...</td>\n",
       "      <td>...</td>\n",
       "      <td>...</td>\n",
       "      <td>...</td>\n",
       "      <td>...</td>\n",
       "      <td>...</td>\n",
       "      <td>...</td>\n",
       "      <td>...</td>\n",
       "      <td>...</td>\n",
       "      <td>...</td>\n",
       "      <td>...</td>\n",
       "      <td>...</td>\n",
       "      <td>...</td>\n",
       "    </tr>\n",
       "    <tr>\n",
       "      <th>3969</th>\n",
       "      <td>y93i-jEMTyE</td>\n",
       "      <td>No Move Play Along #36</td>\n",
       "      <td>https://www.youtube.com/watch?v=y93i-jEMTyE</td>\n",
       "      <td>https://i.ytimg.com/vi_webp/y93i-jEMTyE/maxresdefault.webp</td>\n",
       "      <td>GGs to everyone who played today's challenges! Feel free to discuss the games from today's video in the comments, I always like to hear other peoples' thought process. I will be on holiday this week with no microphone, so the next Play Along will be delayed until the following Saturday or Tuesday. There will be a couple of videos coming out next week instead!\\n\\nChallenges for Play Along #37 (Saturday 24th April OR Tuesday 27th April):\\n\\nhttps://www.geoguessr.com/challenge/zh5EAoUeHiYGId6m A Diverse World (Mapper)\\nhttps://www.geoguessr.com/challenge/DHgKjYDgQOrLjKDa A Rural World NMPZ (Topotic)\\n\\nBelow are the links from today's challenges in case you haven't played. It is best to play before watching so you don't spoil the game:\\n\\nhttps://www.geoguessr.com/challenge/de9VihXkilAQgO78 An Extraordinary World (Alok)\\nhttps://www.geoguessr.com/challenge/2gBIrmwbUH3qj0JN AI Generated World (RollinHill)\\n\\nIf you want the name of the author to be hidden when playing photosphere maps, use this script and make sure hideFootprint and hideToolTips are set as \"true\" (but you might want everything else to be set to false): https://greasyfork.org/en/scripts/406060-geoguessr-ultimate-script\\n\\nIf you were wondering what the greyed out patch at the bottom is, it's a hidden car script I use to make the game more fun and challenging. This means not relying on car meta such as antenna, tape and snorkels. It is a script you can download as an extension. If you wish to try it, you can install it here: https://openuserjs.org/scripts/drparse/GeoNoCar. You then need to add it as a browser extension using TamperMonkey.</td>\n",
       "      <td>20210417</td>\n",
       "      <td>Wolftrekker - Geoguessr</td>\n",
       "      <td>...</td>\n",
       "      <td>NaN</td>\n",
       "      <td>NaN</td>\n",
       "      <td>NaN</td>\n",
       "      <td>NaN</td>\n",
       "      <td>NaN</td>\n",
       "      <td>NaN</td>\n",
       "      <td>NaN</td>\n",
       "    </tr>\n",
       "    <tr>\n",
       "      <th>1347</th>\n",
       "      <td>JxBLPhG0ckg</td>\n",
       "      <td>Geoguessr - MIC PROBLEMS!! (A Coastal World) || LINKS Included</td>\n",
       "      <td>https://www.youtube.com/watch?v=JxBLPhG0ckg</td>\n",
       "      <td>https://i.ytimg.com/vi/JxBLPhG0ckg/maxresdefault.jpg</td>\n",
       "      <td>Not only did the upload fail and its now going up on a Thursday, but the microphone wasnt being picked up because it hates us\\nWhat a glorious day if you ask me\\nEnjoy the content of \"well, how does he know it\"\\nLove you all\\nKeep being you\\nAlso, the Nigerian Meta is out over on Geotips!\\n\\n\\nTOMORROWS LINK:\\nhttps://www.geoguessr.com/challenge/GAoiEGHV4S0M2f1a\\n\\nDiscord : https://discord.gg/xtJhfHE\\nTwitter : https://twitter.com/King_Maff\\nFacebook : https://www.facebook.com/TheKingMaff/\\nTwitch : https://go.twitch.tv/king_maff\\nEmail : itskingmaff@gmail.com\\nThe Geoguessr Pro Community Discord : https://discord.gg/W59x8h4</td>\n",
       "      <td>20210318</td>\n",
       "      <td>King Maff</td>\n",
       "      <td>...</td>\n",
       "      <td>Rev</td>\n",
       "      <td>NaN</td>\n",
       "      <td>NaN</td>\n",
       "      <td>NaN</td>\n",
       "      <td>NaN</td>\n",
       "      <td>NaN</td>\n",
       "      <td>NaN</td>\n",
       "    </tr>\n",
       "    <tr>\n",
       "      <th>2250</th>\n",
       "      <td>Y9RLRlKbYdE</td>\n",
       "      <td>GeoGuessr - Where's that McDonald's? - PLAY ALONG- American getting hungry in Hungary! | Ep. #101</td>\n",
       "      <td>https://www.youtube.com/watch?v=Y9RLRlKbYdE</td>\n",
       "      <td>https://i.ytimg.com/vi_webp/Y9RLRlKbYdE/maxresdefault.webp</td>\n",
       "      <td>Come join the journey on All Over The Map.  We finally play the Where's that McDonald's game!  This game was created by Austrolepelican on GeoGuessr and this is another episode in the series around fast food, food, and pub games.  \\n\\nPLAY ALONG: https://www.geoguessr.com/challenge/mOU6k9SOdmAxQXvj\\nEnjoy and please subscribe:\\nhttps://www.youtube.com/channel/UCIWXkxr8tNJhIgmLjv6O63A\\n\\n#GeoGuessr #GeoGuessrUK #McDonalds #McDs #food #gaming #games #BigMac #HappyMeal</td>\n",
       "      <td>20210508</td>\n",
       "      <td>All Over The Map</td>\n",
       "      <td>...</td>\n",
       "      <td>NaN</td>\n",
       "      <td>NaN</td>\n",
       "      <td>NaN</td>\n",
       "      <td>NaN</td>\n",
       "      <td>NaN</td>\n",
       "      <td>NaN</td>\n",
       "      <td>NaN</td>\n",
       "    </tr>\n",
       "    <tr>\n",
       "      <th>2534</th>\n",
       "      <td>bvaP9AsDyhM</td>\n",
       "      <td>No Move Play Along #28</td>\n",
       "      <td>https://www.youtube.com/watch?v=bvaP9AsDyhM</td>\n",
       "      <td>https://i.ytimg.com/vi_webp/bvaP9AsDyhM/maxresdefault.webp</td>\n",
       "      <td>Well done to Aiwaguma and jbuuki on winning their games today, and GGs to everyone who played along! Feel free to discuss the games from today's video in the comments, I always like to hear other peoples' thought process.\\n\\nChallenges for Play Along #29 (Saturday):\\n\\nhttps://www.geoguessr.com/challenge/yY7z2NAioHbVdVMy Topotic's Southern European Hel (Topotic)\\nhttps://www.geoguessr.com/challenge/1egrAXNAf9gtnE8p AI Generated World NMPZ (RollinHill)\\n\\nBelow are the links from today's challenges in case you haven't played, it is best to play before watching so you don't spoil the game:\\n\\nhttps://www.geoguessr.com/challenge/C66zc5YS7XAEOO2e Urbanguessr (me)\\nhttps://www.geoguessr.com/challenge/dqX6DD7loR9ZgO83 A Diverse World NMPZ (Mapper)\\n\\nA lot of people have been asking me about the hidden car script I use. I use it to make the game more fun and challenging without relying on car meta such as car colour, tape and snorkels. It is a script you can download as an extension. If you wish to try it, you can install it here: https://openuserjs.org/scripts/drparse/GeoNoCar. You then need to add it as a browser extension using TamperMonkey.</td>\n",
       "      <td>20210325</td>\n",
       "      <td>Wolftrekker - Geoguessr</td>\n",
       "      <td>...</td>\n",
       "      <td>NaN</td>\n",
       "      <td>NaN</td>\n",
       "      <td>NaN</td>\n",
       "      <td>NaN</td>\n",
       "      <td>NaN</td>\n",
       "      <td>NaN</td>\n",
       "      <td>NaN</td>\n",
       "    </tr>\n",
       "    <tr>\n",
       "      <th>3698</th>\n",
       "      <td>trSkHUFoDWg</td>\n",
       "      <td>Can I find all 197 countries without borders? (Sporcle)</td>\n",
       "      <td>https://www.youtube.com/watch?v=trSkHUFoDWg</td>\n",
       "      <td>https://i.ytimg.com/vi_webp/trSkHUFoDWg/maxresdefault.webp</td>\n",
       "      <td>Hey everyone, it's been a minute...hope you enjoy this Sporcle quiz video; thanks to Geography Challenges for playing it on his channel and inspiring me to try it out. Let me know if you'd like to see me try other challenges like this in the future.\\n\\nI took a break from Geoguessr for the past couple of months, so I know I've missed a lot of the new features. Hopefully I'll be trying some of them soon.\\n\\nMy music channel: https://www.youtube.com/c/Sarahturtle</td>\n",
       "      <td>20210107</td>\n",
       "      <td>Geoguessr Gal</td>\n",
       "      <td>...</td>\n",
       "      <td>NaN</td>\n",
       "      <td>NaN</td>\n",
       "      <td>NaN</td>\n",
       "      <td>NaN</td>\n",
       "      <td>NaN</td>\n",
       "      <td>NaN</td>\n",
       "      <td>NaN</td>\n",
       "    </tr>\n",
       "  </tbody>\n",
       "</table>\n",
       "<p>100 rows × 69 columns</p>\n",
       "</div>"
      ],
      "text/plain": [
       "               id  \\\n",
       "1808  Rg4P_nrRvBA   \n",
       "2461  aob8sh6l-6M   \n",
       "8     -C7NJpYc3gw   \n",
       "633   8ntxwgbIfpw   \n",
       "880   CQ5-vvoHnIk   \n",
       "...           ...   \n",
       "3969  y93i-jEMTyE   \n",
       "1347  JxBLPhG0ckg   \n",
       "2250  Y9RLRlKbYdE   \n",
       "2534  bvaP9AsDyhM   \n",
       "3698  trSkHUFoDWg   \n",
       "\n",
       "                                                                                                  title  \\\n",
       "1808                                                  Country #40 United Arab Emirates Geoguessr Ep. 98   \n",
       "2461                                                                  Geoguessr - I NEED A NEW BRAIN!!!   \n",
       "8                                                             Geoguessr - HERO TO ZERO, BACK TO HERO!!!   \n",
       "633                                                                           Geoguessr - US Cities #14   \n",
       "880                                                                Geoguessr - A Wide World (No Moving)   \n",
       "...                                                                                                 ...   \n",
       "3969                                                                             No Move Play Along #36   \n",
       "1347                                     Geoguessr - MIC PROBLEMS!! (A Coastal World) || LINKS Included   \n",
       "2250  GeoGuessr - Where's that McDonald's? - PLAY ALONG- American getting hungry in Hungary! | Ep. #101   \n",
       "2534                                                                             No Move Play Along #28   \n",
       "3698                                            Can I find all 197 countries without borders? (Sporcle)   \n",
       "\n",
       "                                           yt_url  \\\n",
       "1808  https://www.youtube.com/watch?v=Rg4P_nrRvBA   \n",
       "2461  https://www.youtube.com/watch?v=aob8sh6l-6M   \n",
       "8     https://www.youtube.com/watch?v=-C7NJpYc3gw   \n",
       "633   https://www.youtube.com/watch?v=8ntxwgbIfpw   \n",
       "880   https://www.youtube.com/watch?v=CQ5-vvoHnIk   \n",
       "...                                           ...   \n",
       "3969  https://www.youtube.com/watch?v=y93i-jEMTyE   \n",
       "1347  https://www.youtube.com/watch?v=JxBLPhG0ckg   \n",
       "2250  https://www.youtube.com/watch?v=Y9RLRlKbYdE   \n",
       "2534  https://www.youtube.com/watch?v=bvaP9AsDyhM   \n",
       "3698  https://www.youtube.com/watch?v=trSkHUFoDWg   \n",
       "\n",
       "                                                       thumbnail  \\\n",
       "1808      https://i.ytimg.com/vi_webp/Rg4P_nrRvBA/hqdefault.webp   \n",
       "2461  https://i.ytimg.com/vi_webp/aob8sh6l-6M/maxresdefault.webp   \n",
       "8     https://i.ytimg.com/vi_webp/-C7NJpYc3gw/maxresdefault.webp   \n",
       "633   https://i.ytimg.com/vi_webp/8ntxwgbIfpw/maxresdefault.webp   \n",
       "880       https://i.ytimg.com/vi_webp/CQ5-vvoHnIk/sddefault.webp   \n",
       "...                                                          ...   \n",
       "3969  https://i.ytimg.com/vi_webp/y93i-jEMTyE/maxresdefault.webp   \n",
       "1347        https://i.ytimg.com/vi/JxBLPhG0ckg/maxresdefault.jpg   \n",
       "2250  https://i.ytimg.com/vi_webp/Y9RLRlKbYdE/maxresdefault.webp   \n",
       "2534  https://i.ytimg.com/vi_webp/bvaP9AsDyhM/maxresdefault.webp   \n",
       "3698  https://i.ytimg.com/vi_webp/trSkHUFoDWg/maxresdefault.webp   \n",
       "\n",
       "                                                                                                                                                                                                                                                                                                                                                                                                                                                                                                                                                                                                                                                                                                                                                                                                                                                                                                                                                                                                                                                                                                                                                                                                                                                                                                                                                                                                                                                                                                                                                                                                                                                                                     description  \\\n",
       "1808                                                                                                                                                                                                                                                                                                                                                                                                                                                                                                                                                                                                                                                                                                                                                                                                                                                                                                                                                                                                                                                                                                                                                                                                                                                                                     Link to challenge: https://geoguessr.com/challenge/n5wwFGcy1teVgj9R\\n\\nPlaylist with all the country challenges: https://www.youtube.com/playlist?list=PLgRLSOkyd6hw_ysQ7-ryQqYb9WJAJrOo-\\n\\nIf you liked the content of this video please consider adding a like.\\n\\nTwitch.tv: http://www.twitch.tv/RadoX1988\\nDiscord server: https://discord.gg/CqhzaVu\\nTwitter: http://www.twitter.com/RadoX_1988   \n",
       "2461                                                                                                                                                                                                                                                                                                                                                                                                                                                                                                                                                                                                                                                                                                                                                                                                                                                                                                                                                                                                                                                                                                                                                                                                                                                                                                  Just a day filled with brain farts\\nand missed clues\\nand misinterpreted ideas \\n\\nwhat happened....\\n\\n\\nTOMORROWS LINK:\\nhttps://geoguessr.com/challenge/ixDd7IgfqwhjVIE3\\n\\n\\n\\nDiscord : https://discord.gg/xtJhfHE\\nTwitter : https://twitter.com/King_Maff\\nFacebook : https://www.facebook.com/TheKingMaff/\\nTwitch : https://go.twitch.tv/king_maff\\nEmail : itskingmaff@gmail.com   \n",
       "8                                                                                                                                                                                                                                                                                                                                                                                                                                                                                                                                                                                                                                                                                                                                                                                                                                                                                                                                                                                                                                                                                                                                                                     We fluctuate so much when we play this game\\ngood days followed by some real bad days\\nI dont get it...lol\\n\\nWell, time to lose Mondays video lol\\n\\nMONDAYS TWITCH LINK:\\nhttps://www.geoguessr.com/challenge/4eeiUjNuwTHItLdK\\n\\nMONDAYS LINK:\\nhttps://www.geoguessr.com/challenge/r7pjvX1TWy53XpMb\\n\\nDiscord : https://discord.gg/xtJhfHE\\r\\nTwitter : https://twitter.com/King_Maff\\r\\nFacebook : https://www.facebook.com/TheKingMaff/\\r\\nTwitch : https://go.twitch.tv/king_maff\\r\\nEmail : itskingmaff@gmail.com   \n",
       "633                                                                                                                                                                                                                                                                                                                                                                                                                                                                                                                                                                                                                                                                                                                                                                                                                                                                                                                                                                                                                                                                                                                                                                                                                                                                                                                                                                                                                                                                                                                                                                             Just a play through of the game Geoguessr. This was US Cities #14, part of a reddit series curated by Radox1988.   \n",
       "880                                                                                                                                                                                                                                                                                                                                                                                                                                                                                                                                                                                                                                                                                                                                                                                                                                                                                                                                                                                                                                                                                                                                                                                                                                                                                                                                                                                                                                                                                                                                               Check out the map here https://geoguessr.com/maps/5cc3d1df6cca66098cd87e6f\\n\\nChallenge link: https://geoguessr.com/challenge/gMgRsbCuq5p7NLoV   \n",
       "...                                                                                                                                                                                                                                                                                                                                                                                                                                                                                                                                                                                                                                                                                                                                                                                                                                                                                                                                                                                                                                                                                                                                                                                                                                                                                                                                                                                                                                                                                                                                                                                                                                                                                          ...   \n",
       "3969  GGs to everyone who played today's challenges! Feel free to discuss the games from today's video in the comments, I always like to hear other peoples' thought process. I will be on holiday this week with no microphone, so the next Play Along will be delayed until the following Saturday or Tuesday. There will be a couple of videos coming out next week instead!\\n\\nChallenges for Play Along #37 (Saturday 24th April OR Tuesday 27th April):\\n\\nhttps://www.geoguessr.com/challenge/zh5EAoUeHiYGId6m A Diverse World (Mapper)\\nhttps://www.geoguessr.com/challenge/DHgKjYDgQOrLjKDa A Rural World NMPZ (Topotic)\\n\\nBelow are the links from today's challenges in case you haven't played. It is best to play before watching so you don't spoil the game:\\n\\nhttps://www.geoguessr.com/challenge/de9VihXkilAQgO78 An Extraordinary World (Alok)\\nhttps://www.geoguessr.com/challenge/2gBIrmwbUH3qj0JN AI Generated World (RollinHill)\\n\\nIf you want the name of the author to be hidden when playing photosphere maps, use this script and make sure hideFootprint and hideToolTips are set as \"true\" (but you might want everything else to be set to false): https://greasyfork.org/en/scripts/406060-geoguessr-ultimate-script\\n\\nIf you were wondering what the greyed out patch at the bottom is, it's a hidden car script I use to make the game more fun and challenging. This means not relying on car meta such as antenna, tape and snorkels. It is a script you can download as an extension. If you wish to try it, you can install it here: https://openuserjs.org/scripts/drparse/GeoNoCar. You then need to add it as a browser extension using TamperMonkey.   \n",
       "1347                                                                                                                                                                                                                                                                                                                                                                                                                                                                                                                                                                                                                                                                                                                                                                                                                                                                                                                                                                                                                                   Not only did the upload fail and its now going up on a Thursday, but the microphone wasnt being picked up because it hates us\\nWhat a glorious day if you ask me\\nEnjoy the content of \"well, how does he know it\"\\nLove you all\\nKeep being you\\nAlso, the Nigerian Meta is out over on Geotips!\\n\\n\\nTOMORROWS LINK:\\nhttps://www.geoguessr.com/challenge/GAoiEGHV4S0M2f1a\\n\\nDiscord : https://discord.gg/xtJhfHE\\nTwitter : https://twitter.com/King_Maff\\nFacebook : https://www.facebook.com/TheKingMaff/\\nTwitch : https://go.twitch.tv/king_maff\\nEmail : itskingmaff@gmail.com\\nThe Geoguessr Pro Community Discord : https://discord.gg/W59x8h4   \n",
       "2250                                                                                                                                                                                                                                                                                                                                                                                                                                                                                                                                                                                                                                                                                                                                                                                                                                                                                                                                                                                                                                                                                                                                                                                                      Come join the journey on All Over The Map.  We finally play the Where's that McDonald's game!  This game was created by Austrolepelican on GeoGuessr and this is another episode in the series around fast food, food, and pub games.  \\n\\nPLAY ALONG: https://www.geoguessr.com/challenge/mOU6k9SOdmAxQXvj\\nEnjoy and please subscribe:\\nhttps://www.youtube.com/channel/UCIWXkxr8tNJhIgmLjv6O63A\\n\\n#GeoGuessr #GeoGuessrUK #McDonalds #McDs #food #gaming #games #BigMac #HappyMeal   \n",
       "2534                                                                                                                                                                                                                                                                                                                                                                                                                                                                                        Well done to Aiwaguma and jbuuki on winning their games today, and GGs to everyone who played along! Feel free to discuss the games from today's video in the comments, I always like to hear other peoples' thought process.\\n\\nChallenges for Play Along #29 (Saturday):\\n\\nhttps://www.geoguessr.com/challenge/yY7z2NAioHbVdVMy Topotic's Southern European Hel (Topotic)\\nhttps://www.geoguessr.com/challenge/1egrAXNAf9gtnE8p AI Generated World NMPZ (RollinHill)\\n\\nBelow are the links from today's challenges in case you haven't played, it is best to play before watching so you don't spoil the game:\\n\\nhttps://www.geoguessr.com/challenge/C66zc5YS7XAEOO2e Urbanguessr (me)\\nhttps://www.geoguessr.com/challenge/dqX6DD7loR9ZgO83 A Diverse World NMPZ (Mapper)\\n\\nA lot of people have been asking me about the hidden car script I use. I use it to make the game more fun and challenging without relying on car meta such as car colour, tape and snorkels. It is a script you can download as an extension. If you wish to try it, you can install it here: https://openuserjs.org/scripts/drparse/GeoNoCar. You then need to add it as a browser extension using TamperMonkey.   \n",
       "3698                                                                                                                                                                                                                                                                                                                                                                                                                                                                                                                                                                                                                                                                                                                                                                                                                                                                                                                                                                                                                                                                                                                                                                                                           Hey everyone, it's been a minute...hope you enjoy this Sporcle quiz video; thanks to Geography Challenges for playing it on his channel and inspiring me to try it out. Let me know if you'd like to see me try other challenges like this in the future.\\n\\nI took a break from Geoguessr for the past couple of months, so I know I've missed a lot of the new features. Hopefully I'll be trying some of them soon.\\n\\nMy music channel: https://www.youtube.com/c/Sarahturtle   \n",
       "\n",
       "     upload_date                 uploader  ... alt_title filesize chapters  \\\n",
       "1808    20180728                RadoX1988  ...       NaN      NaN      NaN   \n",
       "2461    20190731                King Maff  ...       NaN      NaN      NaN   \n",
       "8       20200229                King Maff  ...       NaN      NaN      NaN   \n",
       "633     20180825           Sagittarius998  ...       NaN      NaN      NaN   \n",
       "880     20190626     Geography Challenges  ...       NaN      NaN      NaN   \n",
       "...          ...                      ...  ...       ...      ...      ...   \n",
       "3969    20210417  Wolftrekker - Geoguessr  ...       NaN      NaN      NaN   \n",
       "1347    20210318                King Maff  ...       Rev      NaN      NaN   \n",
       "2250    20210508         All Over The Map  ...       NaN      NaN      NaN   \n",
       "2534    20210325  Wolftrekker - Geoguessr  ...       NaN      NaN      NaN   \n",
       "3698    20210107            Geoguessr Gal  ...       NaN      NaN      NaN   \n",
       "\n",
       "     location  release_timestamp  release_date  subtitles  \n",
       "1808      NaN                NaN           NaN        NaN  \n",
       "2461      NaN                NaN           NaN        NaN  \n",
       "8         NaN                NaN           NaN        NaN  \n",
       "633       NaN                NaN           NaN        NaN  \n",
       "880       NaN                NaN           NaN        NaN  \n",
       "...       ...                ...           ...        ...  \n",
       "3969      NaN                NaN           NaN        NaN  \n",
       "1347      NaN                NaN           NaN        NaN  \n",
       "2250      NaN                NaN           NaN        NaN  \n",
       "2534      NaN                NaN           NaN        NaN  \n",
       "3698      NaN                NaN           NaN        NaN  \n",
       "\n",
       "[100 rows x 69 columns]"
      ]
     },
     "execution_count": 92,
     "metadata": {},
     "output_type": "execute_result"
    }
   ],
   "source": [
    "df_sampled = df_geo.sample(100)\n",
    "df_sampled"
   ]
  },
  {
   "cell_type": "code",
   "execution_count": 151,
   "id": "15fa8d62-2772-4328-9123-2f07e74671f0",
   "metadata": {},
   "outputs": [
    {
     "name": "stdout",
     "output_type": "stream",
     "text": [
      "99\n"
     ]
    }
   ],
   "source": [
    "print(i)"
   ]
  },
  {
   "cell_type": "code",
   "execution_count": 143,
   "id": "c524d780-0980-431f-8eb8-9d0e77db7149",
   "metadata": {},
   "outputs": [
    {
     "data": {
      "text/plain": [
       "'zyZRvZohmro'"
      ]
     },
     "execution_count": 143,
     "metadata": {},
     "output_type": "execute_result"
    }
   ],
   "source": [
    "f.stem"
   ]
  },
  {
   "cell_type": "code",
   "execution_count": 5,
   "id": "502e5a2d-473d-43ce-bf4b-0945cc36e578",
   "metadata": {},
   "outputs": [],
   "source": [
    "coco = json.load(open(Path(\"/shared/gbiamby/geo/geoscreens_000.json\")))"
   ]
  },
  {
   "cell_type": "code",
   "execution_count": 6,
   "id": "13030448-e80f-4b49-8227-498c84793655",
   "metadata": {},
   "outputs": [
    {
     "data": {
      "text/plain": [
       "dict_keys(['images', 'categories', 'annotations', 'info'])"
      ]
     },
     "execution_count": 6,
     "metadata": {},
     "output_type": "execute_result"
    }
   ],
   "source": [
    "coco.keys()"
   ]
  },
  {
   "cell_type": "code",
   "execution_count": 7,
   "id": "83971d14-66f8-4bc4-95be-40834c0f94b9",
   "metadata": {},
   "outputs": [
    {
     "name": "stdout",
     "output_type": "stream",
     "text": [
      "images: 161, categories: 24, annotations: 609\n"
     ]
    }
   ],
   "source": [
    "print(\n",
    "    f\"images: {len(coco['images'])}, categories: {len(coco['categories'])}, annotations: {len(coco['annotations'])}\"\n",
    ")"
   ]
  },
  {
   "cell_type": "code",
   "execution_count": 18,
   "id": "2cb34773-2425-401f-a5b4-0bbf016f6793",
   "metadata": {},
   "outputs": [
    {
     "name": "stdout",
     "output_type": "stream",
     "text": [
      "161 161\n"
     ]
    }
   ],
   "source": [
    "imgs_with_anns = {ann[\"image_id\"] for ann in coco[\"annotations\"] if len(ann[\"bbox\"]) == 4}\n",
    "# imgs_all = set(coc\n",
    "img_ids = {img[\"id\"] for img in coco[\"images\"]}\n",
    "print(len(imgs_with_anns), len(img_ids))"
   ]
  },
  {
   "cell_type": "markdown",
   "id": "17b5684a-3ed9-4372-893e-ab93e710c26c",
   "metadata": {},
   "source": [
    "---"
   ]
  },
  {
   "cell_type": "markdown",
   "id": "964a09ca-c298-4db6-8774-b08a86faf2b0",
   "metadata": {},
   "source": [
    "## Reformat the label-studio Task List to include \"video_id\"\n",
    "\n",
    "No longer need this, it's part of the predict.ipynb notebook now."
   ]
  },
  {
   "cell_type": "code",
   "execution_count": 157,
   "id": "a0e398a1-e41f-41d6-86ca-774cdd0d4064",
   "metadata": {},
   "outputs": [],
   "source": [
    "# tasks = json.load(open(Path(\"/shared/gbiamby/geo/annotations.json\")))\n",
    "# print(len(tasks), \" total tasks\")\n",
    "# print(tasks[0])"
   ]
  },
  {
   "cell_type": "code",
   "execution_count": 158,
   "id": "33b453d2-ce42-4f96-a1ec-6259bdb2b683",
   "metadata": {},
   "outputs": [],
   "source": [
    "# for i, t in enumerate(tasks):\n",
    "#     # if i > 200:\n",
    "#     #     break\n",
    "#     img = t[\"data\"][\"image\"]\n",
    "#     img = Path(img)\n",
    "#     # print(img.parent.name)\n",
    "#     t[\"data\"][\"video_id\"] = str(img.parent.name)"
   ]
  },
  {
   "cell_type": "code",
   "execution_count": 159,
   "id": "a42772c4-41c5-400a-a8b1-418cf2007cff",
   "metadata": {},
   "outputs": [],
   "source": [
    "# json.dump(tasks, open(Path(\"/shared/gbiamby/geo/tasks_001.json\"), \"w\"), indent=4, sort_keys=True)"
   ]
  },
  {
   "cell_type": "markdown",
   "id": "36e73f0f-92bf-494e-a9d5-fe18e20cd5d1",
   "metadata": {},
   "source": [
    "## Convert exported img paths to use as coco"
   ]
  },
  {
   "cell_type": "code",
   "execution_count": 165,
   "id": "9c3078d6-52d5-449e-8e47-2c6a132f82d9",
   "metadata": {},
   "outputs": [
    {
     "name": "stdout",
     "output_type": "stream",
     "text": [
      "4  total tasks\n"
     ]
    }
   ],
   "source": [
    "tasks = json.load(open(Path(\"/home/gbiamby/proj/geo/datasets/geoscreens_001/geoscreens_001.json\")))\n",
    "print(len(tasks), \" total tasks\")"
   ]
  },
  {
   "cell_type": "code",
   "execution_count": 166,
   "id": "0cf19e43-75f0-487c-9b99-5dcee6cbb873",
   "metadata": {},
   "outputs": [
    {
     "data": {
      "text/plain": [
       "[{'id': 0, 'name': 'battle_royale_wait_screen'},\n",
       " {'id': 1, 'name': 'between_rounds_box_white'},\n",
       " {'id': 2, 'name': 'between_rounds_box_with_orange_next'},\n",
       " {'id': 3, 'name': 'big_green_btw_rounds_box'},\n",
       " {'id': 4, 'name': 'challenge_btn_orange'},\n",
       " {'id': 5, 'name': 'challenge_high_score_board'},\n",
       " {'id': 6, 'name': 'curr_state'},\n",
       " {'id': 7, 'name': 'did_you_enjoy_this_location'},\n",
       " {'id': 8, 'name': 'final_scores_box_beige'},\n",
       " {'id': 9, 'name': 'finished_legs_box'},\n",
       " {'id': 10, 'name': 'game_about_to_start_box_white'},\n",
       " {'id': 11, 'name': 'game_finished_well_done_big_box'},\n",
       " {'id': 12, 'name': 'game_finished_white_box'},\n",
       " {'id': 13, 'name': 'game_title'},\n",
       " {'id': 14, 'name': 'guess'},\n",
       " {'id': 15, 'name': 'guess_grey'},\n",
       " {'id': 16, 'name': 'guess_w_icon_only'},\n",
       " {'id': 17, 'name': 'high_score_box'},\n",
       " {'id': 18, 'name': 'in_game_mini_map'},\n",
       " {'id': 19, 'name': 'invite_friends'},\n",
       " {'id': 20, 'name': 'leader_board'},\n",
       " {'id': 21, 'name': 'left_menu_dark'},\n",
       " {'id': 22, 'name': 'loading_loc_white'},\n",
       " {'id': 23, 'name': 'make_a_guess'},\n",
       " {'id': 24, 'name': 'next_orange_btn'},\n",
       " {'id': 25, 'name': 'next_round'},\n",
       " {'id': 26, 'name': 'other'},\n",
       " {'id': 27, 'name': 'participants_box'},\n",
       " {'id': 28, 'name': 'play'},\n",
       " {'id': 29, 'name': 'play_again'},\n",
       " {'id': 30, 'name': 'play_current_leg'},\n",
       " {'id': 31, 'name': 'play_next_round'},\n",
       " {'id': 32, 'name': 'points_bar'},\n",
       " {'id': 33, 'name': 'points_bar_two_bars'},\n",
       " {'id': 34, 'name': 'refresh_btn'},\n",
       " {'id': 35, 'name': 'setup_round_time_limit_box'},\n",
       " {'id': 36, 'name': 'share_challenge_box_white'},\n",
       " {'id': 37, 'name': 'show_full_results'},\n",
       " {'id': 38, 'name': 'show_high_score'},\n",
       " {'id': 39, 'name': 'start_challenge_orange'},\n",
       " {'id': 40, 'name': 'start_game'},\n",
       " {'id': 41, 'name': 'status_bar'},\n",
       " {'id': 42, 'name': 'status_bar_white'},\n",
       " {'id': 43, 'name': 'try_another_map'},\n",
       " {'id': 44, 'name': 'try_pro_for_free'},\n",
       " {'id': 45, 'name': 'users_bar_white'},\n",
       " {'id': 46, 'name': 'view_summary'}]"
      ]
     },
     "execution_count": 166,
     "metadata": {},
     "output_type": "execute_result"
    }
   ],
   "source": [
    "tasks[\"categories\"]"
   ]
  },
  {
   "cell_type": "markdown",
   "id": "97934be6-4a0a-494a-9de7-da8d3323e3c6",
   "metadata": {},
   "source": [
    "## Look at Coco formatted anns"
   ]
  },
  {
   "cell_type": "code",
   "execution_count": 167,
   "id": "e97fd5c5-d43c-479e-aa89-9fe4a9bc1384",
   "metadata": {},
   "outputs": [
    {
     "name": "stdout",
     "output_type": "stream",
     "text": [
      "4  total tasks\n",
      "total anns:  3326\n"
     ]
    }
   ],
   "source": [
    "tasks = json.load(open(Path(\"/home/gbiamby/proj/geo/datasets/geoscreens_001/geoscreens_001.json\")))\n",
    "print(len(tasks), \" total tasks\")\n",
    "anns = tasks[\"annotations\"]\n",
    "print(\"total anns: \", len(anns))"
   ]
  },
  {
   "cell_type": "markdown",
   "id": "e2e3d255-ed72-4976-b890-20fcd53ce9e1",
   "metadata": {},
   "source": [
    "### Fix the image path"
   ]
  },
  {
   "cell_type": "code",
   "execution_count": 168,
   "id": "62c9cd03-1ed3-462c-909e-63891c4a71a4",
   "metadata": {},
   "outputs": [],
   "source": [
    "for img in tasks[\"images\"]:\n",
    "    # print(img)\n",
    "    # print(img[\"file_name\"].replace(\"/data/local-files/?d=\", \"/shared/gbiamby/geo/screenshots/\"))\n",
    "    img[\"file_name\"] = img[\"file_name\"].replace(\n",
    "        \"/data/local-files/?d=\", \"/shared/gbiamby/geo/screenshots/\"\n",
    "    )\n",
    "\n",
    "json.dump(\n",
    "    tasks,\n",
    "    open(Path(\"/home/gbiamby/proj/geo/datasets/geoscreens_001/geoscreens_001.json\"), \"w\"),\n",
    "    indent=4,\n",
    "    sort_keys=True,\n",
    ")"
   ]
  },
  {
   "cell_type": "code",
   "execution_count": 169,
   "id": "29ba9bac-ede6-4a50-8110-c060bb1d2544",
   "metadata": {},
   "outputs": [
    {
     "data": {
      "text/plain": [
       "(Counter({1280: 812, 1152: 76}), Counter({720: 888}))"
      ]
     },
     "execution_count": 169,
     "metadata": {},
     "output_type": "execute_result"
    }
   ],
   "source": [
    "Counter([img[\"width\"] for img in tasks[\"images\"]]), Counter([img[\"height\"] for img in tasks[\"images\"]])"
   ]
  },
  {
   "cell_type": "code",
   "execution_count": 137,
   "id": "291e0823-4c94-4245-bf5a-e06be9d782da",
   "metadata": {},
   "outputs": [
    {
     "data": {
      "text/plain": [
       "[{'x': 358,\n",
       "  'y': 416,\n",
       "  'width': 548,\n",
       "  'height': 92,\n",
       "  'width_scaled': 274.0,\n",
       "  'height_scaled': 81.77777777777777,\n",
       "  'area_scaled': 12604.0,\n",
       "  'ratio_wh': 5.956521739130435,\n",
       "  'ratio_hw': 0.1678832116788321},\n",
       " {'x': 579,\n",
       "  'y': 519,\n",
       "  'width': 120,\n",
       "  'height': 46,\n",
       "  'width_scaled': 60.0,\n",
       "  'height_scaled': 40.888888888888886,\n",
       "  'area_scaled': 1380.0,\n",
       "  'ratio_wh': 2.608695652173913,\n",
       "  'ratio_hw': 0.38333333333333336},\n",
       " {'x': 567,\n",
       "  'y': 590,\n",
       "  'width': 146,\n",
       "  'height': 31,\n",
       "  'width_scaled': 73.0,\n",
       "  'height_scaled': 27.555555555555554,\n",
       "  'area_scaled': 1131.5,\n",
       "  'ratio_wh': 4.709677419354839,\n",
       "  'ratio_hw': 0.21232876712328766},\n",
       " {'x': 567,\n",
       "  'y': 589,\n",
       "  'width': 146,\n",
       "  'height': 33,\n",
       "  'width_scaled': 73.0,\n",
       "  'height_scaled': 29.333333333333332,\n",
       "  'area_scaled': 1204.5,\n",
       "  'ratio_wh': 4.424242424242424,\n",
       "  'ratio_hw': 0.22602739726027396},\n",
       " {'x': 579,\n",
       "  'y': 519,\n",
       "  'width': 121,\n",
       "  'height': 47,\n",
       "  'width_scaled': 60.5,\n",
       "  'height_scaled': 41.77777777777778,\n",
       "  'area_scaled': 1421.75,\n",
       "  'ratio_wh': 2.574468085106383,\n",
       "  'ratio_hw': 0.3884297520661157},\n",
       " {'x': 357,\n",
       "  'y': 417,\n",
       "  'width': 551,\n",
       "  'height': 89,\n",
       "  'width_scaled': 275.5,\n",
       "  'height_scaled': 79.1111111111111,\n",
       "  'area_scaled': 12259.75,\n",
       "  'ratio_wh': 6.191011235955056,\n",
       "  'ratio_hw': 0.16152450090744103},\n",
       " {'x': 18,\n",
       "  'y': 0,\n",
       "  'width': 100,\n",
       "  'height': 33,\n",
       "  'width_scaled': 50.0,\n",
       "  'height_scaled': 29.333333333333332,\n",
       "  'area_scaled': 825.0,\n",
       "  'ratio_wh': 3.0303030303030303,\n",
       "  'ratio_hw': 0.33},\n",
       " {'x': 838,\n",
       "  'y': 0,\n",
       "  'width': 440,\n",
       "  'height': 33,\n",
       "  'width_scaled': 220.0,\n",
       "  'height_scaled': 29.333333333333332,\n",
       "  'area_scaled': 3630.0,\n",
       "  'ratio_wh': 13.333333333333334,\n",
       "  'ratio_hw': 0.075},\n",
       " {'x': 1094,\n",
       "  'y': 546,\n",
       "  'width': 167,\n",
       "  'height': 114,\n",
       "  'width_scaled': 83.5,\n",
       "  'height_scaled': 101.33333333333333,\n",
       "  'area_scaled': 4759.5,\n",
       "  'ratio_wh': 1.4649122807017543,\n",
       "  'ratio_hw': 0.6826347305389222},\n",
       " {'x': 1092,\n",
       "  'y': 665,\n",
       "  'width': 167,\n",
       "  'height': 32,\n",
       "  'width_scaled': 83.5,\n",
       "  'height_scaled': 28.444444444444443,\n",
       "  'area_scaled': 1336.0,\n",
       "  'ratio_wh': 5.21875,\n",
       "  'ratio_hw': 0.19161676646706588}]"
      ]
     },
     "execution_count": 137,
     "metadata": {},
     "output_type": "execute_result"
    }
   ],
   "source": [
    "dims = [\n",
    "    {\n",
    "        \"x\": ann[\"bbox\"][0],\n",
    "        \"y\": ann[\"bbox\"][1],\n",
    "        \"width\": ann[\"bbox\"][2],\n",
    "        \"height\": ann[\"bbox\"][3],\n",
    "        \"width_scaled\": ann[\"bbox\"][2] * (640 / 1280),\n",
    "        \"height_scaled\": ann[\"bbox\"][3] * (640 / 720),\n",
    "        \"area_scaled\": (ann[\"bbox\"][2] * (640 / 1280) * ann[\"bbox\"][3] * (640 / 1280)),\n",
    "        \"ratio_wh\": float(ann[\"bbox\"][2] * (640 / 1280)) / (ann[\"bbox\"][3] * (640 / 1280)),\n",
    "        \"ratio_hw\": float(ann[\"bbox\"][3] * (640 / 1280)) / (ann[\"bbox\"][2] * (640 / 1280)),\n",
    "    }\n",
    "    for ann in anns\n",
    "]\n",
    "df = pd.DataFrame(dims)\n",
    "dims[:10]"
   ]
  },
  {
   "cell_type": "code",
   "execution_count": 138,
   "id": "29e04b35-4ff9-498a-adcd-089ee9700476",
   "metadata": {},
   "outputs": [],
   "source": [
    "df[\"area_bin\"] = df.area_scaled.apply(\n",
    "    lambda x: \"small\" if x <= 32 ** 2 else \"medium\" if x <= 96 ** 2 else \"large\"\n",
    ")"
   ]
  },
  {
   "cell_type": "code",
   "execution_count": 139,
   "id": "8ec7242d-c45c-4d8a-ba0a-fc6a9cfa0f26",
   "metadata": {},
   "outputs": [
    {
     "data": {
      "text/html": [
       "<div>\n",
       "<style scoped>\n",
       "    .dataframe tbody tr th:only-of-type {\n",
       "        vertical-align: middle;\n",
       "    }\n",
       "\n",
       "    .dataframe tbody tr th {\n",
       "        vertical-align: top;\n",
       "    }\n",
       "\n",
       "    .dataframe thead th {\n",
       "        text-align: right;\n",
       "    }\n",
       "</style>\n",
       "<table border=\"1\" class=\"dataframe\">\n",
       "  <thead>\n",
       "    <tr style=\"text-align: right;\">\n",
       "      <th></th>\n",
       "      <th>x</th>\n",
       "      <th>y</th>\n",
       "      <th>width</th>\n",
       "      <th>height</th>\n",
       "      <th>width_scaled</th>\n",
       "      <th>height_scaled</th>\n",
       "      <th>area_scaled</th>\n",
       "      <th>ratio_wh</th>\n",
       "      <th>ratio_hw</th>\n",
       "      <th>area_bin</th>\n",
       "    </tr>\n",
       "  </thead>\n",
       "  <tbody>\n",
       "    <tr>\n",
       "      <th>0</th>\n",
       "      <td>358</td>\n",
       "      <td>416</td>\n",
       "      <td>548</td>\n",
       "      <td>92</td>\n",
       "      <td>274.00</td>\n",
       "      <td>81.78</td>\n",
       "      <td>12,604.00</td>\n",
       "      <td>5.96</td>\n",
       "      <td>0.17</td>\n",
       "      <td>large</td>\n",
       "    </tr>\n",
       "    <tr>\n",
       "      <th>1</th>\n",
       "      <td>579</td>\n",
       "      <td>519</td>\n",
       "      <td>120</td>\n",
       "      <td>46</td>\n",
       "      <td>60.00</td>\n",
       "      <td>40.89</td>\n",
       "      <td>1,380.00</td>\n",
       "      <td>2.61</td>\n",
       "      <td>0.38</td>\n",
       "      <td>medium</td>\n",
       "    </tr>\n",
       "    <tr>\n",
       "      <th>2</th>\n",
       "      <td>567</td>\n",
       "      <td>590</td>\n",
       "      <td>146</td>\n",
       "      <td>31</td>\n",
       "      <td>73.00</td>\n",
       "      <td>27.56</td>\n",
       "      <td>1,131.50</td>\n",
       "      <td>4.71</td>\n",
       "      <td>0.21</td>\n",
       "      <td>medium</td>\n",
       "    </tr>\n",
       "    <tr>\n",
       "      <th>3</th>\n",
       "      <td>567</td>\n",
       "      <td>589</td>\n",
       "      <td>146</td>\n",
       "      <td>33</td>\n",
       "      <td>73.00</td>\n",
       "      <td>29.33</td>\n",
       "      <td>1,204.50</td>\n",
       "      <td>4.42</td>\n",
       "      <td>0.23</td>\n",
       "      <td>medium</td>\n",
       "    </tr>\n",
       "    <tr>\n",
       "      <th>4</th>\n",
       "      <td>579</td>\n",
       "      <td>519</td>\n",
       "      <td>121</td>\n",
       "      <td>47</td>\n",
       "      <td>60.50</td>\n",
       "      <td>41.78</td>\n",
       "      <td>1,421.75</td>\n",
       "      <td>2.57</td>\n",
       "      <td>0.39</td>\n",
       "      <td>medium</td>\n",
       "    </tr>\n",
       "    <tr>\n",
       "      <th>...</th>\n",
       "      <td>...</td>\n",
       "      <td>...</td>\n",
       "      <td>...</td>\n",
       "      <td>...</td>\n",
       "      <td>...</td>\n",
       "      <td>...</td>\n",
       "      <td>...</td>\n",
       "      <td>...</td>\n",
       "      <td>...</td>\n",
       "      <td>...</td>\n",
       "    </tr>\n",
       "    <tr>\n",
       "      <th>605</th>\n",
       "      <td>1092</td>\n",
       "      <td>545</td>\n",
       "      <td>168</td>\n",
       "      <td>114</td>\n",
       "      <td>84.00</td>\n",
       "      <td>101.33</td>\n",
       "      <td>4,788.00</td>\n",
       "      <td>1.47</td>\n",
       "      <td>0.68</td>\n",
       "      <td>medium</td>\n",
       "    </tr>\n",
       "    <tr>\n",
       "      <th>606</th>\n",
       "      <td>1094</td>\n",
       "      <td>667</td>\n",
       "      <td>165</td>\n",
       "      <td>28</td>\n",
       "      <td>82.50</td>\n",
       "      <td>24.89</td>\n",
       "      <td>1,155.00</td>\n",
       "      <td>5.89</td>\n",
       "      <td>0.17</td>\n",
       "      <td>medium</td>\n",
       "    </tr>\n",
       "    <tr>\n",
       "      <th>607</th>\n",
       "      <td>357</td>\n",
       "      <td>406</td>\n",
       "      <td>550</td>\n",
       "      <td>87</td>\n",
       "      <td>275.00</td>\n",
       "      <td>77.33</td>\n",
       "      <td>11,962.50</td>\n",
       "      <td>6.32</td>\n",
       "      <td>0.16</td>\n",
       "      <td>large</td>\n",
       "    </tr>\n",
       "    <tr>\n",
       "      <th>608</th>\n",
       "      <td>540</td>\n",
       "      <td>523</td>\n",
       "      <td>201</td>\n",
       "      <td>28</td>\n",
       "      <td>100.50</td>\n",
       "      <td>24.89</td>\n",
       "      <td>1,407.00</td>\n",
       "      <td>7.18</td>\n",
       "      <td>0.14</td>\n",
       "      <td>medium</td>\n",
       "    </tr>\n",
       "    <tr>\n",
       "      <th>609</th>\n",
       "      <td>540</td>\n",
       "      <td>577</td>\n",
       "      <td>202</td>\n",
       "      <td>29</td>\n",
       "      <td>101.00</td>\n",
       "      <td>25.78</td>\n",
       "      <td>1,464.50</td>\n",
       "      <td>6.97</td>\n",
       "      <td>0.14</td>\n",
       "      <td>medium</td>\n",
       "    </tr>\n",
       "  </tbody>\n",
       "</table>\n",
       "<p>610 rows × 10 columns</p>\n",
       "</div>"
      ],
      "text/plain": [
       "        x    y  width  height  width_scaled  height_scaled  area_scaled  \\\n",
       "0     358  416    548      92        274.00          81.78    12,604.00   \n",
       "1     579  519    120      46         60.00          40.89     1,380.00   \n",
       "2     567  590    146      31         73.00          27.56     1,131.50   \n",
       "3     567  589    146      33         73.00          29.33     1,204.50   \n",
       "4     579  519    121      47         60.50          41.78     1,421.75   \n",
       "..    ...  ...    ...     ...           ...            ...          ...   \n",
       "605  1092  545    168     114         84.00         101.33     4,788.00   \n",
       "606  1094  667    165      28         82.50          24.89     1,155.00   \n",
       "607   357  406    550      87        275.00          77.33    11,962.50   \n",
       "608   540  523    201      28        100.50          24.89     1,407.00   \n",
       "609   540  577    202      29        101.00          25.78     1,464.50   \n",
       "\n",
       "     ratio_wh  ratio_hw area_bin  \n",
       "0        5.96      0.17    large  \n",
       "1        2.61      0.38   medium  \n",
       "2        4.71      0.21   medium  \n",
       "3        4.42      0.23   medium  \n",
       "4        2.57      0.39   medium  \n",
       "..        ...       ...      ...  \n",
       "605      1.47      0.68   medium  \n",
       "606      5.89      0.17   medium  \n",
       "607      6.32      0.16    large  \n",
       "608      7.18      0.14   medium  \n",
       "609      6.97      0.14   medium  \n",
       "\n",
       "[610 rows x 10 columns]"
      ]
     },
     "execution_count": 139,
     "metadata": {},
     "output_type": "execute_result"
    }
   ],
   "source": [
    "df"
   ]
  },
  {
   "cell_type": "code",
   "execution_count": 140,
   "id": "c60ed995-4db4-4061-a00c-b646a35e386c",
   "metadata": {},
   "outputs": [
    {
     "data": {
      "text/plain": [
       "(((32, 40, 50),\n",
       "  (64, 80, 101),\n",
       "  (128, 161, 203),\n",
       "  (256, 322, 406),\n",
       "  (512, 645, 812)),\n",
       " ((0.08, 0.16, 0.25, 0.36, 0.5, 0.7, 1.0, 2.0),\n",
       "  (0.08, 0.16, 0.25, 0.36, 0.5, 0.7, 1.0, 2.0),\n",
       "  (0.08, 0.16, 0.25, 0.36, 0.5, 0.7, 1.0, 2.0),\n",
       "  (0.08, 0.16, 0.25, 0.36, 0.5, 0.7, 1.0, 2.0),\n",
       "  (0.08, 0.16, 0.25, 0.36, 0.5, 0.7, 1.0, 2.0)))"
      ]
     },
     "execution_count": 140,
     "metadata": {},
     "output_type": "execute_result"
    }
   ],
   "source": [
    "anchor_sizes = tuple(\n",
    "    (x, int(x * 2 ** (1.0 / 3)), int(x * 2 ** (2.0 / 3))) for x in [32, 64, 128, 256, 512]\n",
    ")\n",
    "aspect_ratios = ((0.08, 0.16, 0.25, 0.36, 0.5, 0.7, 1.0, 2.0),) * len(anchor_sizes)\n",
    "anchor_sizes, aspect_ratios"
   ]
  },
  {
   "cell_type": "code",
   "execution_count": 141,
   "id": "ad86f5ef-e26f-4d39-a5c2-abf9e7bb29bb",
   "metadata": {},
   "outputs": [
    {
     "data": {
      "text/plain": [
       "<AxesSubplot:>"
      ]
     },
     "execution_count": 141,
     "metadata": {},
     "output_type": "execute_result"
    },
    {
     "data": {
      "application/pdf": "[encoded data removed]",
      "image/png": "[encoded data removed]",
      "text/plain": [
       "<Figure size 864x720 with 1 Axes>"
      ]
     },
     "metadata": {
      "needs_background": "light"
     },
     "output_type": "display_data"
    }
   ],
   "source": [
    "pd.DataFrame(df.area_bin.value_counts()).plot.bar()"
   ]
  },
  {
   "cell_type": "code",
   "execution_count": 142,
   "id": "c314783d-1db7-4be9-a32c-797d3700ad2d",
   "metadata": {},
   "outputs": [
    {
     "data": {
      "text/plain": [
       "array([[<AxesSubplot:title={'center':'large'}>,\n",
       "        <AxesSubplot:title={'center':'medium'}>],\n",
       "       [<AxesSubplot:title={'center':'small'}>, <AxesSubplot:>]],\n",
       "      dtype=object)"
      ]
     },
     "execution_count": 142,
     "metadata": {},
     "output_type": "execute_result"
    },
    {
     "data": {
      "application/pdf": "[encoded data removed]",
      "image/png": "[encoded data removed]",
      "text/plain": [
       "<Figure size 3456x2304 with 4 Axes>"
      ]
     },
     "metadata": {
      "needs_background": "light"
     },
     "output_type": "display_data"
    }
   ],
   "source": [
    "df.hist(column=\"width_scaled\", bins=100, figsize=(48, 32), grid=True, by=\"area_bin\")"
   ]
  },
  {
   "cell_type": "code",
   "execution_count": 143,
   "id": "cd250044-7f36-47ef-ad48-11f7a249bded",
   "metadata": {},
   "outputs": [
    {
     "data": {
      "text/plain": [
       "array([[<AxesSubplot:title={'center':'large'}>,\n",
       "        <AxesSubplot:title={'center':'medium'}>],\n",
       "       [<AxesSubplot:title={'center':'small'}>, <AxesSubplot:>]],\n",
       "      dtype=object)"
      ]
     },
     "execution_count": 143,
     "metadata": {},
     "output_type": "execute_result"
    },
    {
     "data": {
      "application/pdf": "[encoded data removed]",
      "image/png": "[encoded data removed]",
      "text/plain": [
       "<Figure size 3456x2304 with 4 Axes>"
      ]
     },
     "metadata": {
      "needs_background": "light"
     },
     "output_type": "display_data"
    }
   ],
   "source": [
    "df.hist(column=\"height_scaled\", bins=100, figsize=(48, 32), grid=True, by=\"area_bin\")"
   ]
  },
  {
   "cell_type": "code",
   "execution_count": 144,
   "id": "2599ee4c-cded-44bd-a1ee-838430e5b50f",
   "metadata": {},
   "outputs": [
    {
     "data": {
      "text/plain": [
       "array([[<AxesSubplot:title={'center':'large'}>,\n",
       "        <AxesSubplot:title={'center':'medium'}>],\n",
       "       [<AxesSubplot:title={'center':'small'}>, <AxesSubplot:>]],\n",
       "      dtype=object)"
      ]
     },
     "execution_count": 144,
     "metadata": {},
     "output_type": "execute_result"
    },
    {
     "data": {
      "application/pdf": "[encoded data removed]",
      "image/png": "[encoded data removed]",
      "text/plain": [
       "<Figure size 3456x2304 with 4 Axes>"
      ]
     },
     "metadata": {
      "needs_background": "light"
     },
     "output_type": "display_data"
    }
   ],
   "source": [
    "df.hist(column=\"ratio_wh\", bins=100, figsize=(48, 32), grid=True, by=\"area_bin\")"
   ]
  },
  {
   "cell_type": "code",
   "execution_count": 145,
   "id": "d5f4848b-f472-4827-afb4-4645d32429ef",
   "metadata": {},
   "outputs": [
    {
     "data": {
      "text/plain": [
       "array([[<AxesSubplot:title={'center':'large'}>,\n",
       "        <AxesSubplot:title={'center':'medium'}>],\n",
       "       [<AxesSubplot:title={'center':'small'}>, <AxesSubplot:>]],\n",
       "      dtype=object)"
      ]
     },
     "execution_count": 145,
     "metadata": {},
     "output_type": "execute_result"
    },
    {
     "data": {
      "application/pdf": "[encoded data removed]",
      "image/png": "[encoded data removed]",
      "text/plain": [
       "<Figure size 3456x2304 with 4 Axes>"
      ]
     },
     "metadata": {
      "needs_background": "light"
     },
     "output_type": "display_data"
    }
   ],
   "source": [
    "df.hist(column=\"ratio_hw\", bins=100, figsize=(48, 32), grid=True, by=\"area_bin\")"
   ]
  },
  {
   "cell_type": "code",
   "execution_count": null,
   "id": "8687c0dd-a66f-4eb2-8254-aef33ad9c001",
   "metadata": {},
   "outputs": [],
   "source": []
  },
  {
   "cell_type": "code",
   "execution_count": 76,
   "id": "ccb38307-1cc9-4a5f-9f63-46b02f3aac1b",
   "metadata": {},
   "outputs": [],
   "source": [
    "for img in tasks[\"images\"]:\n",
    "    # print(img)\n",
    "    # print(img[\"file_name\"].replace(\"/data/local-files/?d=\", \"/shared/gbiamby/geo/screenshots/\"))\n",
    "    img[\"file_name\"] = img[\"file_name\"].replace(\n",
    "        \"/data/local-files/?d=\", \"/shared/gbiamby/geo/screenshots/\"\n",
    "    )\n",
    "\n",
    "json.dump(\n",
    "    tasks,\n",
    "    open(Path(\"/home/gbiamby/proj/geo/datasets/geoscreens_001/geoscreens_001.json\"), \"w\"),\n",
    "    indent=4,\n",
    "    sort_keys=True,\n",
    ")"
   ]
  },
  {
   "cell_type": "code",
   "execution_count": 62,
   "id": "3df1a9c1-6407-49ea-8254-ccb6dfc190dd",
   "metadata": {},
   "outputs": [
    {
     "data": {
      "text/plain": [
       "((16, 20, 25), (32, 40, 50), (64, 80, 101), (128, 161, 203), (256, 322, 406))"
      ]
     },
     "execution_count": 62,
     "metadata": {},
     "output_type": "execute_result"
    }
   ],
   "source": [
    "tuple((x, int(x * 2 ** (1.0 / 3)), int(x * 2 ** (2.0 / 3))) for x in [16, 32, 64, 128, 256])"
   ]
  },
  {
   "cell_type": "code",
   "execution_count": 63,
   "id": "506eda77-54d6-471d-9730-10c0b75cf780",
   "metadata": {},
   "outputs": [
    {
     "name": "stdout",
     "output_type": "stream",
     "text": [
      "((32, 40, 50), (64, 80, 101), (128, 161, 203), (256, 322, 406), (512, 645, 812)) ((0.5, 1.0, 2.0), (0.5, 1.0, 2.0), (0.5, 1.0, 2.0), (0.5, 1.0, 2.0), (0.5, 1.0, 2.0))\n"
     ]
    }
   ],
   "source": [
    "anchor_sizes = tuple(\n",
    "    (x, int(x * 2 ** (1.0 / 3)), int(x * 2 ** (2.0 / 3))) for x in [32, 64, 128, 256, 512]\n",
    ")\n",
    "aspect_ratios = ((0.5, 1.0, 2.0),) * len(anchor_sizes)\n",
    "print(anchor_sizes, aspect_ratios)"
   ]
  },
  {
   "cell_type": "markdown",
   "id": "12538dd4-8ab4-427e-a2d7-9d89bdd5d447",
   "metadata": {},
   "source": [
    "### Train val Split"
   ]
  },
  {
   "cell_type": "code",
   "execution_count": null,
   "id": "0d2c7529-a114-4eb0-a886-b88a68f68e4c",
   "metadata": {},
   "outputs": [],
   "source": []
  },
  {
   "cell_type": "code",
   "execution_count": 176,
   "id": "05c19a31-2786-4812-90f9-88b9c827dba5",
   "metadata": {},
   "outputs": [
    {
     "data": {
      "text/plain": [
       "Counter({'aob8sh6l-6M': 160, 'DZ9JablpbhQ': 1})"
      ]
     },
     "execution_count": 176,
     "metadata": {},
     "output_type": "execute_result"
    }
   ],
   "source": [
    "from collections import Counter\n",
    "\n",
    "Counter([Path(img[\"file_name\"]).parent.name for img in coco[\"images\"]])"
   ]
  },
  {
   "cell_type": "code",
   "execution_count": null,
   "id": "fb8bef40-f73b-459e-aec6-28f28b460204",
   "metadata": {},
   "outputs": [],
   "source": []
  }
 ],
 "metadata": {
  "kernelspec": {
   "display_name": "geo",
   "language": "python",
   "name": "geo"
  },
  "language_info": {
   "codemirror_mode": {
    "name": "ipython",
    "version": 3
   },
   "file_extension": ".py",
   "mimetype": "text/x-python",
   "name": "python",
   "nbconvert_exporter": "python",
   "pygments_lexer": "ipython3",
   "version": "3.9.0"
  }
 },
 "nbformat": 4,
 "nbformat_minor": 5
}
