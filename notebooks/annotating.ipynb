{
 "cells": [
  {
   "cell_type": "code",
   "execution_count": null,
   "id": "fcbb65f8-df13-4a45-aa46-a1cb41092e67",
   "metadata": {},
   "outputs": [],
   "source": [
    "%autosave 60\n",
    "%load_ext autoreload\n",
    "%autoreload 2\n",
    "%matplotlib inline\n",
    "\n",
    "import sys\n",
    "from pathlib import Path\n"
   ]
  },
  {
   "cell_type": "code",
   "execution_count": null,
   "id": "97b433f2-ac88-4708-9799-2007117806ff",
   "metadata": {},
   "outputs": [],
   "source": [
    "import json\n",
    "import os\n",
    "import pickle\n",
    "from collections import Counter\n",
    "from io import BytesIO\n",
    "from pathlib import Path\n",
    "from typing import Dict, List, Optional, Tuple, Union, cast\n",
    "\n",
    "import cv2\n",
    "import matplotlib as plt\n",
    "import numpy as np\n",
    "import pandas as pd\n",
    "import seaborn as sns\n",
    "import sklearn as skl\n",
    "from IPython.display import Image, display\n",
    "from matplotlib.patches import Rectangle\n",
    "from tqdm import tqdm\n",
    "\n",
    "import PIL.Image as pil_img\n",
    "from matplotlib_inline.backend_inline import set_matplotlib_formats\n"
   ]
  },
  {
   "cell_type": "code",
   "execution_count": null,
   "id": "b47eb8a8-8e8c-4da8-943f-946410495e29",
   "metadata": {},
   "outputs": [],
   "source": [
    "pd.set_option(\"display.max_colwidth\", None)\n",
    "pd.set_option(\"display.max_columns\", 15)\n",
    "pd.set_option(\"display.max_rows\", 50)\n",
    "# Suitable default display for floats\n",
    "pd.options.display.float_format = \"{:,.2f}\".format\n",
    "plt.rcParams[\"figure.figsize\"] = (12, 10)\n",
    "\n",
    "# This one is optional -- change graphs to SVG only use if you don't have a\n",
    "# lot of points/lines in your graphs. Can also just use ['retina'] if you\n",
    "# don't want SVG.\n",
    "%config InlineBackend.figure_formats = [\"retina\"]\n",
    "set_matplotlib_formats(\"pdf\", \"png\")"
   ]
  },
  {
   "cell_type": "code",
   "execution_count": null,
   "id": "2abaae0f-3f90-4fe1-9bac-255d6aa0ba73",
   "metadata": {
    "tags": []
   },
   "outputs": [],
   "source": [
    "VIDEO_PATH = Path(\"/shared/g-luo/geoguessr/videos\").resolve()\n",
    "OUT_PATH = Path(\"/shared/gbiamby/geo\").resolve()\n",
    "assert VIDEO_PATH.exists()\n",
    "assert OUT_PATH.exists()"
   ]
  },
  {
   "cell_type": "code",
   "execution_count": null,
   "id": "a4429be6-85ac-40ef-97aa-bbc5b4737e5a",
   "metadata": {},
   "outputs": [],
   "source": [
    "files = sorted(VIDEO_PATH.glob(\"**/*.mp4\"))\n",
    "print(\"total video files found: \", len(files))"
   ]
  },
  {
   "cell_type": "code",
   "execution_count": null,
   "id": "fdb38c8e-600e-4841-b83a-f7d90a492ef5",
   "metadata": {},
   "outputs": [],
   "source": [
    "def load_metadata(path: Path):\n",
    "    \"\"\"\n",
    "    Load metadata for a single .mp4, from the .info.json file. Drops some of the really verbose json keys before returning:\n",
    "        \"formats\", \"thumbnails\", \"automatic_captions\", \"http_headers\"\n",
    "    \"\"\"\n",
    "    if path.suffix:\n",
    "        path = path.with_suffix(\"\")\n",
    "    info_path = path.with_suffix(\".info.json\")\n",
    "    data = json.load(open(info_path, \"r\"))\n",
    "    drop_keys = set([\"formats\", \"thumbnails\", \"automatic_captions\", \"http_headers\"])\n",
    "    for k in drop_keys.intersection(data.keys()):\n",
    "        del data[k]\n",
    "    data[\"path\"] = path\n",
    "    # print(data.keys())\n",
    "    # print(path, path.exists())\n",
    "    return data\n",
    "\n",
    "\n",
    "all_metadata = []\n",
    "for f in tqdm(files):\n",
    "    all_metadata.append(load_metadata(f))"
   ]
  },
  {
   "cell_type": "code",
   "execution_count": null,
   "id": "9f4cd098-750e-4e8a-8688-d15d28c8e30e",
   "metadata": {
    "tags": []
   },
   "outputs": [],
   "source": [
    "df_all = pd.DataFrame(all_metadata)\n",
    "df_all.insert(2, \"yt_url\", df_all.id.apply(lambda x: f\"https://www.youtube.com/watch?v={x}\"))\n",
    "df_all"
   ]
  },
  {
   "cell_type": "code",
   "execution_count": null,
   "id": "56531099-815c-412f-a526-5dade8f14344",
   "metadata": {},
   "outputs": [],
   "source": [
    "df_suspect = df_all[\n",
    "    (~df_all.title.apply(lambda x: \"geoguessr\" in x.casefold()))\n",
    "    & (~df_all.description.apply(lambda x: \"geoguessr\" in x.casefold()))\n",
    "    & (~df_all.title.apply(lambda x: \"battle royale\" in x.casefold()))\n",
    "    & (~df_all.description.apply(lambda x: \"battle royale\" in x.casefold()))\n",
    "    & (~df_all.uploader.apply(lambda x: \"geowizard\" in x.casefold()))\n",
    "    & (~df_all.uploader.apply(lambda x: \"geoguessr\" in x.casefold()))\n",
    "]\n",
    "df_suspect.shape\n",
    "df_geo = df_all[~df_all.id.isin(df_suspect.id)].copy(deep=True)"
   ]
  },
  {
   "cell_type": "code",
   "execution_count": null,
   "id": "17d3a311-3072-4902-bde5-81c4de4c53a1",
   "metadata": {},
   "outputs": [],
   "source": [
    "# with pd.option_context(\"display.max_rows\", None, \"display.max_columns\", None):\n",
    "#     display(df_suspect)"
   ]
  },
  {
   "cell_type": "code",
   "execution_count": null,
   "id": "99233cb5-0679-4635-82bf-eb1075201178",
   "metadata": {},
   "outputs": [],
   "source": [
    "pickle.dump(df_geo, open(OUT_PATH / \"df_geo.pkl\", \"wb\"))"
   ]
  },
  {
   "cell_type": "code",
   "execution_count": null,
   "id": "794497be-0d3a-4f2d-8e7d-db9381dd2bd9",
   "metadata": {},
   "outputs": [],
   "source": [
    "df_geo.columns"
   ]
  },
  {
   "cell_type": "markdown",
   "id": "cd5076fb-745f-4b21-bd6c-0256dba0303a",
   "metadata": {},
   "source": [
    "## Sample Frames from Videos, Save as JPG's"
   ]
  },
  {
   "cell_type": "code",
   "execution_count": null,
   "id": "1512c1c6-af2c-4246-b4c2-366f796349a4",
   "metadata": {
    "tags": []
   },
   "outputs": [],
   "source": [
    "import cv2\n",
    "\n",
    "\n",
    "def sample_frames(video_path: Path, out_path: Path, sample_every_seconds=20.0):\n",
    "    \"\"\"\n",
    "    Sample a frame every `sample_every_seconds` seconds from the specified video, saving it to\n",
    "    \"\"\"\n",
    "    path = video_path.with_suffix(\".mp4\")\n",
    "    assert path.exists(), str(path)\n",
    "    cap = cv2.VideoCapture(str(path))\n",
    "    if not cap.isOpened():\n",
    "        print(\"could not open :\", video_path)\n",
    "    num_frames = int(cap.get(cv2.CAP_PROP_FRAME_COUNT))\n",
    "    print(f\"num_frames: {num_frames:,}\")\n",
    "    seconds = round(0, 2)\n",
    "    sample_every_seconds = 5.0\n",
    "    count = 0\n",
    "    success = True\n",
    "    print(path)\n",
    "    while success:\n",
    "        cap.set(cv2.CAP_PROP_POS_MSEC, (seconds * 1000))\n",
    "        success, image = cap.read()\n",
    "        if success:\n",
    "            frame_out_path = out_path / \"screen_samples_auto\" / f\"{path.stem}/frame_{count:08}.jpg\"\n",
    "            frame_out_path.parent.mkdir(exist_ok=True, parents=True)\n",
    "            # print(frame_out_path)\n",
    "            cv2.imwrite(str(frame_out_path), image)\n",
    "        seconds = round(seconds + sample_every_seconds, 2)\n",
    "        count += 1\n",
    "    cap.release()\n",
    "    print(\"total frames captured: \", count, \", seconds: \", seconds)\n",
    "\n",
    "\n",
    "for i, (idx, row) in tqdm(enumerate(df_sampled.iterrows()), total=len(df_sampled)):\n",
    "    # if i > 10:\n",
    "    #     break\n",
    "    sample_frames(row.path, OUT_PATH, 20.0)"
   ]
  },
  {
   "cell_type": "code",
   "execution_count": null,
   "id": "30103819-dcd1-4a4a-9503-731182d5cf67",
   "metadata": {
    "tags": []
   },
   "outputs": [],
   "source": [
    "df_sampled = df_geo.sample(100)\n",
    "df_sampled"
   ]
  },
  {
   "cell_type": "code",
   "execution_count": null,
   "id": "15fa8d62-2772-4328-9123-2f07e74671f0",
   "metadata": {},
   "outputs": [],
   "source": [
    "print(i)"
   ]
  },
  {
   "cell_type": "code",
   "execution_count": null,
   "id": "c524d780-0980-431f-8eb8-9d0e77db7149",
   "metadata": {},
   "outputs": [],
   "source": [
    "f.stem"
   ]
  },
  {
   "cell_type": "code",
   "execution_count": null,
   "id": "502e5a2d-473d-43ce-bf4b-0945cc36e578",
   "metadata": {},
   "outputs": [],
   "source": [
    "coco = json.load(open(Path(\"/shared/gbiamby/geo/geoscreens_000.json\")))"
   ]
  },
  {
   "cell_type": "code",
   "execution_count": null,
   "id": "13030448-e80f-4b49-8227-498c84793655",
   "metadata": {},
   "outputs": [],
   "source": [
    "coco.keys()"
   ]
  },
  {
   "cell_type": "code",
   "execution_count": null,
   "id": "83971d14-66f8-4bc4-95be-40834c0f94b9",
   "metadata": {},
   "outputs": [],
   "source": [
    "print(\n",
    "    f\"images: {len(coco['images'])}, categories: {len(coco['categories'])}, annotations: {len(coco['annotations'])}\"\n",
    ")"
   ]
  },
  {
   "cell_type": "code",
   "execution_count": null,
   "id": "2cb34773-2425-401f-a5b4-0bbf016f6793",
   "metadata": {},
   "outputs": [],
   "source": [
    "imgs_with_anns = {ann[\"image_id\"] for ann in coco[\"annotations\"] if len(ann[\"bbox\"]) == 4}\n",
    "# imgs_all = set(coc\n",
    "img_ids = {img[\"id\"] for img in coco[\"images\"]}\n",
    "print(len(imgs_with_anns), len(img_ids))"
   ]
  },
  {
   "cell_type": "markdown",
   "id": "17b5684a-3ed9-4372-893e-ab93e710c26c",
   "metadata": {},
   "source": [
    "---"
   ]
  },
  {
   "cell_type": "markdown",
   "id": "964a09ca-c298-4db6-8774-b08a86faf2b0",
   "metadata": {},
   "source": [
    "## Reformat the label-studio Task List to include \"video_id\"\n",
    "\n",
    "No longer need this, it's part of the predict.ipynb notebook now."
   ]
  },
  {
   "cell_type": "code",
   "execution_count": null,
   "id": "a0e398a1-e41f-41d6-86ca-774cdd0d4064",
   "metadata": {},
   "outputs": [],
   "source": [
    "# tasks = json.load(open(Path(\"/shared/gbiamby/geo/annotations.json\")))\n",
    "# print(len(tasks), \" total tasks\")\n",
    "# print(tasks[0])"
   ]
  },
  {
   "cell_type": "code",
   "execution_count": null,
   "id": "33b453d2-ce42-4f96-a1ec-6259bdb2b683",
   "metadata": {},
   "outputs": [],
   "source": [
    "# for i, t in enumerate(tasks):\n",
    "#     # if i > 200:\n",
    "#     #     break\n",
    "#     img = t[\"data\"][\"image\"]\n",
    "#     img = Path(img)\n",
    "#     # print(img.parent.name)\n",
    "#     t[\"data\"][\"video_id\"] = str(img.parent.name)"
   ]
  },
  {
   "cell_type": "code",
   "execution_count": null,
   "id": "a42772c4-41c5-400a-a8b1-418cf2007cff",
   "metadata": {},
   "outputs": [],
   "source": [
    "# json.dump(tasks, open(Path(\"/shared/gbiamby/geo/tasks_001.json\"), \"w\"), indent=4, sort_keys=True)"
   ]
  },
  {
   "cell_type": "markdown",
   "id": "36e73f0f-92bf-494e-a9d5-fe18e20cd5d1",
   "metadata": {},
   "source": [
    "## Convert exported img paths to use as coco"
   ]
  },
  {
   "cell_type": "code",
   "execution_count": null,
   "id": "9c3078d6-52d5-449e-8e47-2c6a132f82d9",
   "metadata": {},
   "outputs": [],
   "source": [
    "tasks = json.load(open(Path(\"/home/gbiamby/proj/geo/datasets/geoscreens_001/geoscreens_001.json\")))\n",
    "print(len(tasks), \" total tasks\")"
   ]
  },
  {
   "cell_type": "code",
   "execution_count": null,
   "id": "0cf19e43-75f0-487c-9b99-5dcee6cbb873",
   "metadata": {},
   "outputs": [],
   "source": [
    "tasks[\"categories\"]"
   ]
  },
  {
   "cell_type": "markdown",
   "id": "97934be6-4a0a-494a-9de7-da8d3323e3c6",
   "metadata": {},
   "source": [
    "## Look at Coco formatted anns"
   ]
  },
  {
   "cell_type": "code",
   "execution_count": null,
   "id": "e97fd5c5-d43c-479e-aa89-9fe4a9bc1384",
   "metadata": {},
   "outputs": [],
   "source": [
    "tasks = json.load(open(Path(\"/home/gbiamby/proj/geo/datasets/geoscreens_001/geoscreens_001.json\")))\n",
    "print(len(tasks), \" total tasks\")\n",
    "anns = tasks[\"annotations\"]\n",
    "print(\"total anns: \", len(anns))"
   ]
  },
  {
   "cell_type": "markdown",
   "id": "e2e3d255-ed72-4976-b890-20fcd53ce9e1",
   "metadata": {},
   "source": [
    "### Fix the image path"
   ]
  },
  {
   "cell_type": "code",
   "execution_count": null,
   "id": "62c9cd03-1ed3-462c-909e-63891c4a71a4",
   "metadata": {},
   "outputs": [],
   "source": [
    "for img in tasks[\"images\"]:\n",
    "    # print(img)\n",
    "    # print(img[\"file_name\"].replace(\"/data/local-files/?d=\", \"/shared/gbiamby/geo/screenshots/\"))\n",
    "    img[\"file_name\"] = img[\"file_name\"].replace(\n",
    "        \"/data/local-files/?d=\", \"/shared/gbiamby/geo/screenshots/\"\n",
    "    )\n",
    "\n",
    "json.dump(\n",
    "    tasks,\n",
    "    open(Path(\"/home/gbiamby/proj/geo/datasets/geoscreens_001/geoscreens_001.json\"), \"w\"),\n",
    "    indent=4,\n",
    "    sort_keys=True,\n",
    ")"
   ]
  },
  {
   "cell_type": "code",
   "execution_count": null,
   "id": "29ba9bac-ede6-4a50-8110-c060bb1d2544",
   "metadata": {},
   "outputs": [],
   "source": [
    "Counter([img[\"width\"] for img in tasks[\"images\"]]), Counter([img[\"height\"] for img in tasks[\"images\"]])"
   ]
  },
  {
   "cell_type": "code",
   "execution_count": null,
   "id": "291e0823-4c94-4245-bf5a-e06be9d782da",
   "metadata": {},
   "outputs": [],
   "source": [
    "dims = [\n",
    "    {\n",
    "        \"x\": ann[\"bbox\"][0],\n",
    "        \"y\": ann[\"bbox\"][1],\n",
    "        \"width\": ann[\"bbox\"][2],\n",
    "        \"height\": ann[\"bbox\"][3],\n",
    "        \"width_scaled\": ann[\"bbox\"][2] * (640 / 1280),\n",
    "        \"height_scaled\": ann[\"bbox\"][3] * (640 / 720),\n",
    "        \"area_scaled\": (ann[\"bbox\"][2] * (640 / 1280) * ann[\"bbox\"][3] * (640 / 1280)),\n",
    "        \"ratio_wh\": float(ann[\"bbox\"][2] * (640 / 1280)) / (ann[\"bbox\"][3] * (640 / 1280)),\n",
    "        \"ratio_hw\": float(ann[\"bbox\"][3] * (640 / 1280)) / (ann[\"bbox\"][2] * (640 / 1280)),\n",
    "    }\n",
    "    for ann in anns\n",
    "]\n",
    "df = pd.DataFrame(dims)\n",
    "dims[:10]"
   ]
  },
  {
   "cell_type": "code",
   "execution_count": null,
   "id": "29e04b35-4ff9-498a-adcd-089ee9700476",
   "metadata": {},
   "outputs": [],
   "source": [
    "df[\"area_bin\"] = df.area_scaled.apply(\n",
    "    lambda x: \"small\" if x <= 32 ** 2 else \"medium\" if x <= 96 ** 2 else \"large\"\n",
    ")"
   ]
  },
  {
   "cell_type": "code",
   "execution_count": null,
   "id": "8ec7242d-c45c-4d8a-ba0a-fc6a9cfa0f26",
   "metadata": {},
   "outputs": [],
   "source": [
    "df"
   ]
  },
  {
   "cell_type": "code",
   "execution_count": null,
   "id": "c60ed995-4db4-4061-a00c-b646a35e386c",
   "metadata": {},
   "outputs": [],
   "source": [
    "anchor_sizes = tuple(\n",
    "    (x, int(x * 2 ** (1.0 / 3)), int(x * 2 ** (2.0 / 3))) for x in [32, 64, 128, 256, 512]\n",
    ")\n",
    "aspect_ratios = ((0.08, 0.16, 0.25, 0.36, 0.5, 0.7, 1.0, 2.0),) * len(anchor_sizes)\n",
    "anchor_sizes, aspect_ratios"
   ]
  },
  {
   "cell_type": "code",
   "execution_count": null,
   "id": "ad86f5ef-e26f-4d39-a5c2-abf9e7bb29bb",
   "metadata": {},
   "outputs": [],
   "source": [
    "pd.DataFrame(df.area_bin.value_counts()).plot.bar()"
   ]
  },
  {
   "cell_type": "code",
   "execution_count": null,
   "id": "c314783d-1db7-4be9-a32c-797d3700ad2d",
   "metadata": {},
   "outputs": [],
   "source": [
    "df.hist(column=\"width_scaled\", bins=100, figsize=(48, 32), grid=True, by=\"area_bin\")"
   ]
  },
  {
   "cell_type": "code",
   "execution_count": null,
   "id": "cd250044-7f36-47ef-ad48-11f7a249bded",
   "metadata": {},
   "outputs": [],
   "source": [
    "df.hist(column=\"height_scaled\", bins=100, figsize=(48, 32), grid=True, by=\"area_bin\")"
   ]
  },
  {
   "cell_type": "code",
   "execution_count": null,
   "id": "2599ee4c-cded-44bd-a1ee-838430e5b50f",
   "metadata": {},
   "outputs": [],
   "source": [
    "df.hist(column=\"ratio_wh\", bins=100, figsize=(48, 32), grid=True, by=\"area_bin\")"
   ]
  },
  {
   "cell_type": "code",
   "execution_count": null,
   "id": "d5f4848b-f472-4827-afb4-4645d32429ef",
   "metadata": {},
   "outputs": [],
   "source": [
    "df.hist(column=\"ratio_hw\", bins=100, figsize=(48, 32), grid=True, by=\"area_bin\")"
   ]
  },
  {
   "cell_type": "code",
   "execution_count": null,
   "id": "8687c0dd-a66f-4eb2-8254-aef33ad9c001",
   "metadata": {},
   "outputs": [],
   "source": []
  },
  {
   "cell_type": "code",
   "execution_count": null,
   "id": "ccb38307-1cc9-4a5f-9f63-46b02f3aac1b",
   "metadata": {},
   "outputs": [],
   "source": [
    "for img in tasks[\"images\"]:\n",
    "    # print(img)\n",
    "    # print(img[\"file_name\"].replace(\"/data/local-files/?d=\", \"/shared/gbiamby/geo/screenshots/\"))\n",
    "    img[\"file_name\"] = img[\"file_name\"].replace(\n",
    "        \"/data/local-files/?d=\", \"/shared/gbiamby/geo/screenshots/\"\n",
    "    )\n",
    "\n",
    "json.dump(\n",
    "    tasks,\n",
    "    open(Path(\"/home/gbiamby/proj/geo/datasets/geoscreens_001/geoscreens_001.json\"), \"w\"),\n",
    "    indent=4,\n",
    "    sort_keys=True,\n",
    ")"
   ]
  },
  {
   "cell_type": "code",
   "execution_count": null,
   "id": "3df1a9c1-6407-49ea-8254-ccb6dfc190dd",
   "metadata": {},
   "outputs": [],
   "source": [
    "tuple((x, int(x * 2 ** (1.0 / 3)), int(x * 2 ** (2.0 / 3))) for x in [16, 32, 64, 128, 256])"
   ]
  },
  {
   "cell_type": "code",
   "execution_count": null,
   "id": "506eda77-54d6-471d-9730-10c0b75cf780",
   "metadata": {},
   "outputs": [],
   "source": [
    "anchor_sizes = tuple(\n",
    "    (x, int(x * 2 ** (1.0 / 3)), int(x * 2 ** (2.0 / 3))) for x in [32, 64, 128, 256, 512]\n",
    ")\n",
    "aspect_ratios = ((0.5, 1.0, 2.0),) * len(anchor_sizes)\n",
    "print(anchor_sizes, aspect_ratios)"
   ]
  },
  {
   "cell_type": "markdown",
   "id": "12538dd4-8ab4-427e-a2d7-9d89bdd5d447",
   "metadata": {},
   "source": [
    "### Train val Split"
   ]
  },
  {
   "cell_type": "code",
   "execution_count": null,
   "id": "0d2c7529-a114-4eb0-a886-b88a68f68e4c",
   "metadata": {},
   "outputs": [],
   "source": []
  },
  {
   "cell_type": "code",
   "execution_count": null,
   "id": "05c19a31-2786-4812-90f9-88b9c827dba5",
   "metadata": {},
   "outputs": [],
   "source": [
    "from collections import Counter\n",
    "\n",
    "Counter([Path(img[\"file_name\"]).parent.name for img in coco[\"images\"]])"
   ]
  },
  {
   "cell_type": "code",
   "execution_count": null,
   "id": "fb8bef40-f73b-459e-aec6-28f28b460204",
   "metadata": {},
   "outputs": [],
   "source": []
  }
 ],
 "metadata": {
  "kernelspec": {
   "display_name": "geoscreens",
   "language": "python",
   "name": "geoscreens"
  },
  "language_info": {
   "codemirror_mode": {
    "name": "ipython",
    "version": 3
   },
   "file_extension": ".py",
   "mimetype": "text/x-python",
   "name": "python",
   "nbconvert_exporter": "python",
   "pygments_lexer": "ipython3",
   "version": "3.9.0"
  }
 },
 "nbformat": 4,
 "nbformat_minor": 5
}
