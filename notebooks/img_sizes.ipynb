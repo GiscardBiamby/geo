{
 "cells": [
  {
   "cell_type": "code",
   "execution_count": null,
   "id": "8a2a5625-1f4c-4162-b540-9e20d7e0f3d9",
   "metadata": {},
   "outputs": [],
   "source": [
    "%autosave 60\n",
    "%load_ext autoreload\n",
    "%autoreload 2\n",
    "%matplotlib inline\n",
    "\n",
    "import sys\n",
    "from pathlib import Path"
   ]
  },
  {
   "cell_type": "code",
   "execution_count": null,
   "id": "6494e93e-ad97-4954-8f42-7c31a0262dea",
   "metadata": {},
   "outputs": [],
   "source": [
    "p = Path(\"../\").resolve()"
   ]
  },
  {
   "cell_type": "code",
   "execution_count": null,
   "id": "05326610-0de5-4ac5-8b9f-c577ddd94376",
   "metadata": {},
   "outputs": [],
   "source": [
    "import json\n",
    "import os\n",
    "from collections import Counter\n",
    "from io import BytesIO\n",
    "from pathlib import Path\n",
    "from typing import Dict, List, Optional, Tuple, Union, cast\n",
    "import cv2\n",
    "import matplotlib as plt\n",
    "import numpy as np\n",
    "import pandas as pd\n",
    "import PIL\n",
    "import PIL.Image as pil_img\n",
    "import seaborn as sns\n",
    "import sklearn as skl\n",
    "from IPython.display import Image, display\n",
    "from matplotlib.patches import Rectangle\n",
    "from matplotlib_inline.backend_inline import set_matplotlib_formats\n",
    "from tqdm import tqdm\n",
    "\n",
    "from geoscreens.consts import GEO_SCREENS, IMG_SIZE\n",
    "from geoscreens.geo_data import GeoScreensDataModule\n",
    "from geoscreens.modules import LightModelTorch, build_module\n",
    "from scripts.train_geo import get_model\n",
    "\n",
    "USE_RAY = False\n",
    "if USE_RAY:\n",
    "    import ray\n",
    "\n",
    "    ray.init(ignore_reinit_error=True)"
   ]
  },
  {
   "cell_type": "code",
   "execution_count": null,
   "id": "cc0d4e3e-62e8-4e95-a239-5855693b3f7e",
   "metadata": {},
   "outputs": [],
   "source": [
    "pd.set_option(\"display.max_colwidth\", None)\n",
    "pd.set_option(\"display.max_columns\", 15)\n",
    "pd.set_option(\"display.max_rows\", 50)\n",
    "# Suitable default display for floats\n",
    "pd.options.display.float_format = \"{:,.2f}\".format\n",
    "plt.rcParams[\"figure.figsize\"] = (12, 10)\n",
    "\n",
    "# This one is optional -- change graphs to SVG only use if you don't have a\n",
    "# lot of points/lines in your graphs. Can also just use ['retina'] if you\n",
    "# don't want SVG.\n",
    "%config InlineBackend.figure_formats = [\"retina\"]\n",
    "set_matplotlib_formats(\"pdf\", \"png\")"
   ]
  },
  {
   "cell_type": "code",
   "execution_count": null,
   "id": "5b02d71e-7e9e-480e-a9b9-f8b09732c515",
   "metadata": {},
   "outputs": [],
   "source": [
    "from IPython.display import set_matplotlib_formats\n",
    "\n",
    "set_matplotlib_formats(\"pdf\", \"png\")\n",
    "plt.rcParams[\"savefig.dpi\"] = 75\n",
    "\n",
    "plt.rcParams[\"figure.autolayout\"] = False\n",
    "plt.rcParams[\"figure.figsize\"] = 10, 6\n",
    "plt.rcParams[\"axes.labelsize\"] = 18\n",
    "plt.rcParams[\"axes.titlesize\"] = 20\n",
    "plt.rcParams[\"font.size\"] = 16\n",
    "plt.rcParams[\"lines.linewidth\"] = 2.0\n",
    "plt.rcParams[\"lines.markersize\"] = 8\n",
    "plt.rcParams[\"legend.fontsize\"] = 14\n",
    "plt.rcParams[\"text.usetex\"] = True\n",
    "\n",
    "plt.rcParams[\"font.family\"] = \"serif\"\n",
    "plt.rcParams[\"font.serif\"] = \"cm\"\n",
    "# plt.rcParams[\"text.latex.preamble\"] = \"\\\\usepackage{subdepth}, \\\\usepackage{type1cm}\""
   ]
  },
  {
   "cell_type": "code",
   "execution_count": null,
   "id": "63363377-03ad-47de-8796-bb16ba453957",
   "metadata": {},
   "outputs": [],
   "source": [
    "tasks = json.load(open(Path(\"/shared/gbiamby/geo/geoscreens_003_tasks_export.json\")))\n",
    "print(len(tasks), \" total tasks\")\n",
    "tasks[:2]"
   ]
  },
  {
   "cell_type": "code",
   "execution_count": null,
   "id": "cb1f9112-a520-460a-8b06-21517fecc7c7",
   "metadata": {},
   "outputs": [],
   "source": [
    "for t in tqdm(tasks):\n",
    "    t[\"data\"][\"full_path\"] = t[\"data\"][\"image\"].replace(\n",
    "        \"/data/local-files/?d=\", \"/shared/gbiamby/geo/screenshots/\"\n",
    "    )\n",
    "    width, height = PIL.Image.open(t[\"data\"][\"full_path\"]).size\n",
    "    t[\"data\"][\"width\"] = width\n",
    "    t[\"data\"][\"height\"] = height"
   ]
  },
  {
   "cell_type": "code",
   "execution_count": null,
   "id": "f6803e80-86d7-4022-a758-e704ee9b0096",
   "metadata": {},
   "outputs": [],
   "source": [
    "Counter([(img[\"data\"][\"width\"], img[\"data\"][\"height\"] ) for img in tasks])"
   ]
  },
  {
   "cell_type": "code",
   "execution_count": null,
   "id": "c73ddc23-00f6-4a26-b209-38783f3760d5",
   "metadata": {},
   "outputs": [],
   "source": [
    "img_sizes = {t[\"data\"][\"full_path\"]: t[\"data\"] for t in tasks}\n",
    "list(img_sizes.items())[:10]"
   ]
  },
  {
   "cell_type": "code",
   "execution_count": null,
   "id": "00d68c64-2f7b-403b-be17-834f8d399f38",
   "metadata": {},
   "outputs": [],
   "source": [
    "import pickle\n",
    "# list(img_sizes.items())[:10]\n",
    "pickle.dump(img_sizes, open(\"./img_sizes.pkl\", \"wb\"))"
   ]
  },
  {
   "cell_type": "code",
   "execution_count": null,
   "id": "7cbb1d90-1b23-4367-8a56-62da24b93469",
   "metadata": {
    "tags": []
   },
   "outputs": [],
   "source": [
    "tasks[0]"
   ]
  },
  {
   "cell_type": "code",
   "execution_count": null,
   "id": "852c953b-74ff-44bc-81e9-f86d44cb8316",
   "metadata": {},
   "outputs": [],
   "source": [
    "mistakes = []\n",
    "for i, t in enumerate(tqdm(tasks, total=len(tasks))):\n",
    "    # if i >= 10:\n",
    "    #     break\n",
    "    # print(\"\")\n",
    "    anns_results = [ann[\"result\"] for ann in t[\"annotations\"]]\n",
    "    # print(anns_results)\n",
    "    # print([ann for ann in anns_results])\n",
    "    # if ann[\"value\"] and ann[\"value\"][\"rectanglelables\"]:\n",
    "    if anns_results:\n",
    "        labels = [ann[\"value\"][\"rectanglelabels\"][0] for ann in anns_results[0]]\n",
    "        if len(labels) != len(set(labels)):\n",
    "            mistakes.append(t)"
   ]
  },
  {
   "cell_type": "code",
   "execution_count": null,
   "id": "f3ff3e5c-62e3-4e3b-acad-03fc5a109709",
   "metadata": {},
   "outputs": [],
   "source": [
    "len(mistakes)"
   ]
  },
  {
   "cell_type": "code",
   "execution_count": null,
   "id": "ab5abc33-e01a-4713-88a7-769152f36d5c",
   "metadata": {},
   "outputs": [],
   "source": [
    "[m[\"data\"] for m in mistakes]"
   ]
  },
  {
   "cell_type": "code",
   "execution_count": null,
   "id": "43860aaa-f91c-430b-94d5-fd254d1fa9b7",
   "metadata": {},
   "outputs": [],
   "source": []
  }
 ],
 "metadata": {
  "kernelspec": {
   "display_name": "geoscreens",
   "language": "python",
   "name": "geoscreens"
  },
  "language_info": {
   "codemirror_mode": {
    "name": "ipython",
    "version": 3
   },
   "file_extension": ".py",
   "mimetype": "text/x-python",
   "name": "python",
   "nbconvert_exporter": "python",
   "pygments_lexer": "ipython3",
   "version": "3.9.0"
  }
 },
 "nbformat": 4,
 "nbformat_minor": 5
}
