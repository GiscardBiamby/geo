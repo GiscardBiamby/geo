{
 "cells": [
  {
   "cell_type": "code",
   "execution_count": 1,
   "id": "8a2a5625-1f4c-4162-b540-9e20d7e0f3d9",
   "metadata": {},
   "outputs": [
    {
     "data": {
      "application/javascript": [
       "IPython.notebook.set_autosave_interval(60000)"
      ]
     },
     "metadata": {},
     "output_type": "display_data"
    },
    {
     "name": "stdout",
     "output_type": "stream",
     "text": [
      "Autosaving every 60 seconds\n"
     ]
    }
   ],
   "source": [
    "%autosave 60\n",
    "%load_ext autoreload\n",
    "%autoreload 2\n",
    "%matplotlib inline\n",
    "\n",
    "import sys\n",
    "from pathlib import Path"
   ]
  },
  {
   "cell_type": "code",
   "execution_count": 2,
   "id": "6494e93e-ad97-4954-8f42-7c31a0262dea",
   "metadata": {},
   "outputs": [],
   "source": [
    "p = Path(\"../\").resolve()"
   ]
  },
  {
   "cell_type": "code",
   "execution_count": 14,
   "id": "05326610-0de5-4ac5-8b9f-c577ddd94376",
   "metadata": {},
   "outputs": [],
   "source": [
    "import json\n",
    "import os\n",
    "from collections import Counter\n",
    "from io import BytesIO\n",
    "from pathlib import Path\n",
    "from typing import Dict, List, Optional, Tuple, Union, cast\n",
    "import cv2\n",
    "import matplotlib as plt\n",
    "import numpy as np\n",
    "import pandas as pd\n",
    "import PIL\n",
    "import PIL.Image as pil_img\n",
    "import seaborn as sns\n",
    "import sklearn as skl\n",
    "from IPython.display import Image, display\n",
    "from matplotlib.patches import Rectangle\n",
    "from matplotlib_inline.backend_inline import set_matplotlib_formats\n",
    "from tqdm import tqdm\n",
    "\n",
    "from geoscreens.consts import GEO_SCREENS, IMG_SIZE\n",
    "from geoscreens.geo_data import GeoScreensDataModule\n",
    "from geoscreens.modules import LightModelTorch, build_module\n",
    "from scripts.train_geo import get_model\n",
    "\n",
    "USE_RAY = False\n",
    "if USE_RAY:\n",
    "    import ray\n",
    "\n",
    "    ray.init(ignore_reinit_error=True)"
   ]
  },
  {
   "cell_type": "code",
   "execution_count": 4,
   "id": "cc0d4e3e-62e8-4e95-a239-5855693b3f7e",
   "metadata": {},
   "outputs": [],
   "source": [
    "pd.set_option(\"display.max_colwidth\", None)\n",
    "pd.set_option(\"display.max_columns\", 15)\n",
    "pd.set_option(\"display.max_rows\", 50)\n",
    "# Suitable default display for floats\n",
    "pd.options.display.float_format = \"{:,.2f}\".format\n",
    "plt.rcParams[\"figure.figsize\"] = (12, 10)\n",
    "\n",
    "# This one is optional -- change graphs to SVG only use if you don't have a\n",
    "# lot of points/lines in your graphs. Can also just use ['retina'] if you\n",
    "# don't want SVG.\n",
    "%config InlineBackend.figure_formats = [\"retina\"]\n",
    "set_matplotlib_formats(\"pdf\", \"png\")"
   ]
  },
  {
   "cell_type": "code",
   "execution_count": 5,
   "id": "5b02d71e-7e9e-480e-a9b9-f8b09732c515",
   "metadata": {},
   "outputs": [
    {
     "name": "stderr",
     "output_type": "stream",
     "text": [
      "<ipython-input-5-afc023a91183>:3: DeprecationWarning: `set_matplotlib_formats` is deprecated since IPython 7.23, directly use `matplotlib_inline.backend_inline.set_matplotlib_formats()`\n",
      "  set_matplotlib_formats(\"pdf\", \"png\")\n"
     ]
    }
   ],
   "source": [
    "from IPython.display import set_matplotlib_formats\n",
    "\n",
    "set_matplotlib_formats(\"pdf\", \"png\")\n",
    "plt.rcParams[\"savefig.dpi\"] = 75\n",
    "\n",
    "plt.rcParams[\"figure.autolayout\"] = False\n",
    "plt.rcParams[\"figure.figsize\"] = 10, 6\n",
    "plt.rcParams[\"axes.labelsize\"] = 18\n",
    "plt.rcParams[\"axes.titlesize\"] = 20\n",
    "plt.rcParams[\"font.size\"] = 16\n",
    "plt.rcParams[\"lines.linewidth\"] = 2.0\n",
    "plt.rcParams[\"lines.markersize\"] = 8\n",
    "plt.rcParams[\"legend.fontsize\"] = 14\n",
    "plt.rcParams[\"text.usetex\"] = True\n",
    "\n",
    "plt.rcParams[\"font.family\"] = \"serif\"\n",
    "plt.rcParams[\"font.serif\"] = \"cm\"\n",
    "# plt.rcParams[\"text.latex.preamble\"] = \"\\\\usepackage{subdepth}, \\\\usepackage{type1cm}\""
   ]
  },
  {
   "cell_type": "code",
   "execution_count": 7,
   "id": "63363377-03ad-47de-8796-bb16ba453957",
   "metadata": {},
   "outputs": [
    {
     "name": "stdout",
     "output_type": "stream",
     "text": [
      "26084  total tasks\n"
     ]
    },
    {
     "data": {
      "text/plain": [
       "[{'id': 130304,\n",
       "  'annotations': [{'id': 667,\n",
       "    'completed_by': 1,\n",
       "    'result': [{'original_width': 1280,\n",
       "      'original_height': 720,\n",
       "      'image_rotation': 0,\n",
       "      'value': {'x': 28.046874999999993,\n",
       "       'y': 57.916666666666636,\n",
       "       'width': 42.8125,\n",
       "       'height': 12.777777777777805,\n",
       "       'rotation': 0,\n",
       "       'rectanglelabels': ['points_bar_two_bars']},\n",
       "      'id': '3kwwws2EiJ',\n",
       "      'from_name': 'label',\n",
       "      'to_name': 'image',\n",
       "      'type': 'rectanglelabels',\n",
       "      'origin': 'manual'},\n",
       "     {'original_width': 1280,\n",
       "      'original_height': 720,\n",
       "      'image_rotation': 0,\n",
       "      'value': {'x': 45.30000000000001,\n",
       "       'y': 72.08333333333334,\n",
       "       'width': 9.43437499999999,\n",
       "       'height': 6.499999999999969,\n",
       "       'rotation': 0,\n",
       "       'rectanglelabels': ['did_you_enjoy_this_location']},\n",
       "      'id': 'm1gU5p4IY4',\n",
       "      'from_name': 'label',\n",
       "      'to_name': 'image',\n",
       "      'type': 'rectanglelabels',\n",
       "      'origin': 'manual'},\n",
       "     {'original_width': 1280,\n",
       "      'original_height': 720,\n",
       "      'image_rotation': 0,\n",
       "      'value': {'x': 44.296875,\n",
       "       'y': 81.94444444444444,\n",
       "       'width': 11.40625,\n",
       "       'height': 4.305555555555555,\n",
       "       'rotation': 0,\n",
       "       'rectanglelabels': ['play_next_round']},\n",
       "      'id': 'IZjAEbRvvu',\n",
       "      'from_name': 'label',\n",
       "      'to_name': 'image',\n",
       "      'type': 'rectanglelabels',\n",
       "      'origin': 'manual'}],\n",
       "    'was_cancelled': False,\n",
       "    'ground_truth': False,\n",
       "    'created_at': '2022-02-02T06:47:51.261098Z',\n",
       "    'updated_at': '2022-02-03T04:34:56.527618Z',\n",
       "    'lead_time': 38269.719,\n",
       "    'prediction': {},\n",
       "    'result_count': 0,\n",
       "    'task': 130304,\n",
       "    'parent_prediction': None,\n",
       "    'parent_annotation': None}],\n",
       "  'file_upload': '30d4a767-tasks_001_with_preds_raw.json',\n",
       "  'drafts': [],\n",
       "  'predictions': [],\n",
       "  'data': {'image': '/data/local-files/?d=screen_samples_auto/aob8sh6l-6M/frame_00000083.jpg',\n",
       "   'video_id': 'aob8sh6l-6M'},\n",
       "  'meta': {},\n",
       "  'created_at': '2022-02-02T06:47:51.205758Z',\n",
       "  'updated_at': '2022-02-03T04:34:56.495649Z',\n",
       "  'project': 5},\n",
       " {'id': 104223,\n",
       "  'annotations': [{'id': 499,\n",
       "    'completed_by': 1,\n",
       "    'result': [{'original_width': 1280,\n",
       "      'original_height': 720,\n",
       "      'image_rotation': 0,\n",
       "      'value': {'x': 44.296875,\n",
       "       'y': 81.80555555555556,\n",
       "       'width': 11.40625,\n",
       "       'height': 4.583333333333333,\n",
       "       'rotation': 0,\n",
       "       'rectanglelabels': ['play_next_round']},\n",
       "      'id': 'gCdd47pVMr',\n",
       "      'from_name': 'label',\n",
       "      'to_name': 'image',\n",
       "      'type': 'rectanglelabels',\n",
       "      'origin': 'manual'},\n",
       "     {'original_width': 1280,\n",
       "      'original_height': 720,\n",
       "      'image_rotation': 0,\n",
       "      'value': {'x': 45.30312500000003,\n",
       "       'y': 72.16111111111108,\n",
       "       'width': 9.509374999999967,\n",
       "       'height': 6.650000000000038,\n",
       "       'rotation': 0,\n",
       "       'rectanglelabels': ['did_you_enjoy_this_location']},\n",
       "      'id': '0Ow1D1gq1Y',\n",
       "      'from_name': 'label',\n",
       "      'to_name': 'image',\n",
       "      'type': 'rectanglelabels',\n",
       "      'origin': 'manual'},\n",
       "     {'original_width': 1280,\n",
       "      'original_height': 720,\n",
       "      'image_rotation': 0,\n",
       "      'value': {'x': 27.94062499999997,\n",
       "       'y': 58.05555555555537,\n",
       "       'width': 43.07500000000004,\n",
       "       'height': 12.383333333333297,\n",
       "       'rotation': 0,\n",
       "       'rectanglelabels': ['points_bar']},\n",
       "      'id': 'u3y4xG5LQk',\n",
       "      'from_name': 'label',\n",
       "      'to_name': 'image',\n",
       "      'type': 'rectanglelabels',\n",
       "      'origin': 'manual'}],\n",
       "    'was_cancelled': False,\n",
       "    'ground_truth': False,\n",
       "    'created_at': '2022-02-02T06:47:51.240758Z',\n",
       "    'updated_at': '2022-02-03T04:34:28.970636Z',\n",
       "    'lead_time': 38242.167,\n",
       "    'prediction': {},\n",
       "    'result_count': 0,\n",
       "    'task': 104223,\n",
       "    'parent_prediction': None,\n",
       "    'parent_annotation': None}],\n",
       "  'file_upload': '30d4a767-tasks_001_with_preds_raw.json',\n",
       "  'drafts': [],\n",
       "  'predictions': [],\n",
       "  'data': {'image': '/data/local-files/?d=screen_samples_auto/aob8sh6l-6M/frame_00000083.jpg',\n",
       "   'video_id': 'aob8sh6l-6M'},\n",
       "  'meta': {},\n",
       "  'created_at': '2022-02-02T06:47:49.583078Z',\n",
       "  'updated_at': '2022-02-03T04:34:28.938205Z',\n",
       "  'project': 5}]"
      ]
     },
     "execution_count": 7,
     "metadata": {},
     "output_type": "execute_result"
    }
   ],
   "source": [
    "tasks = json.load(open(Path(\"/shared/gbiamby/geo/geoscreens_003_tasks_export.json\")))\n",
    "print(len(tasks), \" total tasks\")\n",
    "tasks[:2]"
   ]
  },
  {
   "cell_type": "code",
   "execution_count": 11,
   "id": "cb1f9112-a520-460a-8b06-21517fecc7c7",
   "metadata": {},
   "outputs": [
    {
     "name": "stderr",
     "output_type": "stream",
     "text": [
      "100%|██████████| 26084/26084 [00:19<00:00, 1314.43it/s]\n"
     ]
    }
   ],
   "source": [
    "for t in tqdm(tasks):\n",
    "    t[\"data\"][\"full_path\"] = t[\"data\"][\"image\"].replace(\n",
    "        \"/data/local-files/?d=\", \"/shared/gbiamby/geo/screenshots/\"\n",
    "    )\n",
    "    width, height = PIL.Image.open(t[\"data\"][\"full_path\"]).size\n",
    "    t[\"data\"][\"width\"] = width\n",
    "    t[\"data\"][\"height\"] = height"
   ]
  },
  {
   "cell_type": "code",
   "execution_count": 18,
   "id": "f6803e80-86d7-4022-a758-e704ee9b0096",
   "metadata": {},
   "outputs": [
    {
     "data": {
      "text/plain": [
       "Counter({(1280, 720): 24273, (1152, 720): 1504, (1280, 678): 307})"
      ]
     },
     "execution_count": 18,
     "metadata": {},
     "output_type": "execute_result"
    }
   ],
   "source": [
    "Counter([(img[\"data\"][\"width\"], img[\"data\"][\"height\"] ) for img in tasks])"
   ]
  },
  {
   "cell_type": "code",
   "execution_count": 31,
   "id": "c73ddc23-00f6-4a26-b209-38783f3760d5",
   "metadata": {},
   "outputs": [
    {
     "data": {
      "text/plain": [
       "[('/shared/gbiamby/geo/screenshots/screen_samples_auto/aob8sh6l-6M/frame_00000083.jpg',\n",
       "  {'image': '/data/local-files/?d=screen_samples_auto/aob8sh6l-6M/frame_00000083.jpg',\n",
       "   'video_id': 'aob8sh6l-6M',\n",
       "   'full_path': '/shared/gbiamby/geo/screenshots/screen_samples_auto/aob8sh6l-6M/frame_00000083.jpg',\n",
       "   'width': 1280,\n",
       "   'height': 720}),\n",
       " ('/shared/gbiamby/geo/screenshots/screen_samples_auto/aob8sh6l-6M/frame_00000052.jpg',\n",
       "  {'image': '/data/local-files/?d=screen_samples_auto/aob8sh6l-6M/frame_00000052.jpg',\n",
       "   'video_id': 'aob8sh6l-6M',\n",
       "   'full_path': '/shared/gbiamby/geo/screenshots/screen_samples_auto/aob8sh6l-6M/frame_00000052.jpg',\n",
       "   'width': 1280,\n",
       "   'height': 720}),\n",
       " ('/shared/gbiamby/geo/screenshots/screen_samples_auto/aob8sh6l-6M/frame_00000104.jpg',\n",
       "  {'image': '/data/local-files/?d=screen_samples_auto/aob8sh6l-6M/frame_00000104.jpg',\n",
       "   'video_id': 'aob8sh6l-6M',\n",
       "   'full_path': '/shared/gbiamby/geo/screenshots/screen_samples_auto/aob8sh6l-6M/frame_00000104.jpg',\n",
       "   'width': 1280,\n",
       "   'height': 720}),\n",
       " ('/shared/gbiamby/geo/screenshots/screen_samples_auto/aob8sh6l-6M/frame_00000069.jpg',\n",
       "  {'image': '/data/local-files/?d=screen_samples_auto/aob8sh6l-6M/frame_00000069.jpg',\n",
       "   'video_id': 'aob8sh6l-6M',\n",
       "   'full_path': '/shared/gbiamby/geo/screenshots/screen_samples_auto/aob8sh6l-6M/frame_00000069.jpg',\n",
       "   'width': 1280,\n",
       "   'height': 720}),\n",
       " ('/shared/gbiamby/geo/screenshots/screen_samples_auto/aob8sh6l-6M/frame_00000221.jpg',\n",
       "  {'image': '/data/local-files/?d=screen_samples_auto/aob8sh6l-6M/frame_00000221.jpg',\n",
       "   'video_id': 'aob8sh6l-6M',\n",
       "   'full_path': '/shared/gbiamby/geo/screenshots/screen_samples_auto/aob8sh6l-6M/frame_00000221.jpg',\n",
       "   'width': 1280,\n",
       "   'height': 720}),\n",
       " ('/shared/gbiamby/geo/screenshots/screen_samples_auto/aob8sh6l-6M/frame_00000067.jpg',\n",
       "  {'image': '/data/local-files/?d=screen_samples_auto/aob8sh6l-6M/frame_00000067.jpg',\n",
       "   'video_id': 'aob8sh6l-6M',\n",
       "   'full_path': '/shared/gbiamby/geo/screenshots/screen_samples_auto/aob8sh6l-6M/frame_00000067.jpg',\n",
       "   'width': 1280,\n",
       "   'height': 720}),\n",
       " ('/shared/gbiamby/geo/screenshots/screen_samples_auto/aob8sh6l-6M/frame_00000169.jpg',\n",
       "  {'image': '/data/local-files/?d=screen_samples_auto/aob8sh6l-6M/frame_00000169.jpg',\n",
       "   'video_id': 'aob8sh6l-6M',\n",
       "   'full_path': '/shared/gbiamby/geo/screenshots/screen_samples_auto/aob8sh6l-6M/frame_00000169.jpg',\n",
       "   'width': 1280,\n",
       "   'height': 720}),\n",
       " ('/shared/gbiamby/geo/screenshots/screen_samples_auto/aob8sh6l-6M/frame_00000193.jpg',\n",
       "  {'image': '/data/local-files/?d=screen_samples_auto/aob8sh6l-6M/frame_00000193.jpg',\n",
       "   'video_id': 'aob8sh6l-6M',\n",
       "   'full_path': '/shared/gbiamby/geo/screenshots/screen_samples_auto/aob8sh6l-6M/frame_00000193.jpg',\n",
       "   'width': 1280,\n",
       "   'height': 720}),\n",
       " ('/shared/gbiamby/geo/screenshots/screen_samples_auto/aob8sh6l-6M/frame_00000021.jpg',\n",
       "  {'image': '/data/local-files/?d=screen_samples_auto/aob8sh6l-6M/frame_00000021.jpg',\n",
       "   'video_id': 'aob8sh6l-6M',\n",
       "   'full_path': '/shared/gbiamby/geo/screenshots/screen_samples_auto/aob8sh6l-6M/frame_00000021.jpg',\n",
       "   'width': 1280,\n",
       "   'height': 720}),\n",
       " ('/shared/gbiamby/geo/screenshots/screen_samples_auto/aob8sh6l-6M/frame_00000212.jpg',\n",
       "  {'image': '/data/local-files/?d=screen_samples_auto/aob8sh6l-6M/frame_00000212.jpg',\n",
       "   'video_id': 'aob8sh6l-6M',\n",
       "   'full_path': '/shared/gbiamby/geo/screenshots/screen_samples_auto/aob8sh6l-6M/frame_00000212.jpg',\n",
       "   'width': 1280,\n",
       "   'height': 720})]"
      ]
     },
     "execution_count": 31,
     "metadata": {},
     "output_type": "execute_result"
    }
   ],
   "source": [
    "img_sizes = {t[\"data\"][\"full_path\"]: t[\"data\"] for t in tasks}\n",
    "list(img_sizes.items())[:10]"
   ]
  },
  {
   "cell_type": "code",
   "execution_count": 30,
   "id": "00d68c64-2f7b-403b-be17-834f8d399f38",
   "metadata": {},
   "outputs": [],
   "source": [
    "import pickle\n",
    "# list(img_sizes.items())[:10]\n",
    "pickle.dump(img_sizes, open(\"./img_sizes.pkl\", \"wb\"))"
   ]
  },
  {
   "cell_type": "code",
   "execution_count": 12,
   "id": "7cbb1d90-1b23-4367-8a56-62da24b93469",
   "metadata": {
    "tags": []
   },
   "outputs": [
    {
     "data": {
      "text/plain": [
       "{'id': 130304,\n",
       " 'annotations': [{'id': 667,\n",
       "   'completed_by': 1,\n",
       "   'result': [{'original_width': 1280,\n",
       "     'original_height': 720,\n",
       "     'image_rotation': 0,\n",
       "     'value': {'x': 28.046874999999993,\n",
       "      'y': 57.916666666666636,\n",
       "      'width': 42.8125,\n",
       "      'height': 12.777777777777805,\n",
       "      'rotation': 0,\n",
       "      'rectanglelabels': ['points_bar_two_bars']},\n",
       "     'id': '3kwwws2EiJ',\n",
       "     'from_name': 'label',\n",
       "     'to_name': 'image',\n",
       "     'type': 'rectanglelabels',\n",
       "     'origin': 'manual'},\n",
       "    {'original_width': 1280,\n",
       "     'original_height': 720,\n",
       "     'image_rotation': 0,\n",
       "     'value': {'x': 45.30000000000001,\n",
       "      'y': 72.08333333333334,\n",
       "      'width': 9.43437499999999,\n",
       "      'height': 6.499999999999969,\n",
       "      'rotation': 0,\n",
       "      'rectanglelabels': ['did_you_enjoy_this_location']},\n",
       "     'id': 'm1gU5p4IY4',\n",
       "     'from_name': 'label',\n",
       "     'to_name': 'image',\n",
       "     'type': 'rectanglelabels',\n",
       "     'origin': 'manual'},\n",
       "    {'original_width': 1280,\n",
       "     'original_height': 720,\n",
       "     'image_rotation': 0,\n",
       "     'value': {'x': 44.296875,\n",
       "      'y': 81.94444444444444,\n",
       "      'width': 11.40625,\n",
       "      'height': 4.305555555555555,\n",
       "      'rotation': 0,\n",
       "      'rectanglelabels': ['play_next_round']},\n",
       "     'id': 'IZjAEbRvvu',\n",
       "     'from_name': 'label',\n",
       "     'to_name': 'image',\n",
       "     'type': 'rectanglelabels',\n",
       "     'origin': 'manual'}],\n",
       "   'was_cancelled': False,\n",
       "   'ground_truth': False,\n",
       "   'created_at': '2022-02-02T06:47:51.261098Z',\n",
       "   'updated_at': '2022-02-03T04:34:56.527618Z',\n",
       "   'lead_time': 38269.719,\n",
       "   'prediction': {},\n",
       "   'result_count': 0,\n",
       "   'task': 130304,\n",
       "   'parent_prediction': None,\n",
       "   'parent_annotation': None}],\n",
       " 'file_upload': '30d4a767-tasks_001_with_preds_raw.json',\n",
       " 'drafts': [],\n",
       " 'predictions': [],\n",
       " 'data': {'image': '/data/local-files/?d=screen_samples_auto/aob8sh6l-6M/frame_00000083.jpg',\n",
       "  'video_id': 'aob8sh6l-6M',\n",
       "  'full_path': '/shared/gbiamby/geo/screenshots/screen_samples_auto/aob8sh6l-6M/frame_00000083.jpg',\n",
       "  'width': 1280,\n",
       "  'height': 720},\n",
       " 'meta': {},\n",
       " 'created_at': '2022-02-02T06:47:51.205758Z',\n",
       " 'updated_at': '2022-02-03T04:34:56.495649Z',\n",
       " 'project': 5}"
      ]
     },
     "execution_count": 12,
     "metadata": {},
     "output_type": "execute_result"
    }
   ],
   "source": [
    "tasks[0]"
   ]
  },
  {
   "cell_type": "code",
   "execution_count": 22,
   "id": "852c953b-74ff-44bc-81e9-f86d44cb8316",
   "metadata": {},
   "outputs": [
    {
     "name": "stderr",
     "output_type": "stream",
     "text": [
      "100%|██████████| 26084/26084 [00:00<00:00, 722927.45it/s]\n"
     ]
    }
   ],
   "source": [
    "mistakes = []\n",
    "for i, t in enumerate(tqdm(tasks, total=len(tasks))):\n",
    "    # if i >= 10:\n",
    "    #     break\n",
    "    # print(\"\")\n",
    "    anns_results = [ann[\"result\"] for ann in t[\"annotations\"]]\n",
    "    # print(anns_results)\n",
    "    # print([ann for ann in anns_results])\n",
    "    # if ann[\"value\"] and ann[\"value\"][\"rectanglelables\"]:\n",
    "    if anns_results:\n",
    "        labels = [ann[\"value\"][\"rectanglelabels\"][0] for ann in anns_results[0]]\n",
    "        if len(labels) != len(set(labels)):\n",
    "            mistakes.append(t)"
   ]
  },
  {
   "cell_type": "code",
   "execution_count": 24,
   "id": "f3ff3e5c-62e3-4e3b-acad-03fc5a109709",
   "metadata": {},
   "outputs": [
    {
     "data": {
      "text/plain": [
       "3"
      ]
     },
     "execution_count": 24,
     "metadata": {},
     "output_type": "execute_result"
    }
   ],
   "source": [
    "len(mistakes)"
   ]
  },
  {
   "cell_type": "code",
   "execution_count": 25,
   "id": "ab5abc33-e01a-4713-88a7-769152f36d5c",
   "metadata": {},
   "outputs": [
    {
     "data": {
      "text/plain": [
       "[{'image': '/data/local-files/?d=screen_samples_auto/aob8sh6l-6M/frame_00000079.jpg',\n",
       "  'video_id': 'aob8sh6l-6M',\n",
       "  'full_path': '/shared/gbiamby/geo/screenshots/screen_samples_auto/aob8sh6l-6M/frame_00000079.jpg',\n",
       "  'width': 1280,\n",
       "  'height': 720},\n",
       " {'image': '/data/local-files/?d=screen_samples_auto/aob8sh6l-6M/frame_00000067.jpg',\n",
       "  'video_id': 'aob8sh6l-6M',\n",
       "  'full_path': '/shared/gbiamby/geo/screenshots/screen_samples_auto/aob8sh6l-6M/frame_00000067.jpg',\n",
       "  'width': 1280,\n",
       "  'height': 720},\n",
       " {'image': '/data/local-files/?d=screen_samples_auto/aob8sh6l-6M/frame_00000227.jpg',\n",
       "  'video_id': 'aob8sh6l-6M',\n",
       "  'full_path': '/shared/gbiamby/geo/screenshots/screen_samples_auto/aob8sh6l-6M/frame_00000227.jpg',\n",
       "  'width': 1280,\n",
       "  'height': 720}]"
      ]
     },
     "execution_count": 25,
     "metadata": {},
     "output_type": "execute_result"
    }
   ],
   "source": [
    "[m[\"data\"] for m in mistakes]"
   ]
  },
  {
   "cell_type": "code",
   "execution_count": null,
   "id": "43860aaa-f91c-430b-94d5-fd254d1fa9b7",
   "metadata": {},
   "outputs": [],
   "source": []
  }
 ],
 "metadata": {
  "kernelspec": {
   "display_name": "geo",
   "language": "python",
   "name": "geo"
  },
  "language_info": {
   "codemirror_mode": {
    "name": "ipython",
    "version": 3
   },
   "file_extension": ".py",
   "mimetype": "text/x-python",
   "name": "python",
   "nbconvert_exporter": "python",
   "pygments_lexer": "ipython3",
   "version": "3.9.0"
  }
 },
 "nbformat": 4,
 "nbformat_minor": 5
}
