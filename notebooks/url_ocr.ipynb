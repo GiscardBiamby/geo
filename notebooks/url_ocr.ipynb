{
 "cells": [
  {
   "cell_type": "code",
   "execution_count": null,
   "id": "0abdde4b-8a89-4ee5-800f-283600a6b354",
   "metadata": {},
   "outputs": [],
   "source": [
    "%autosave 60\n",
    "%load_ext autoreload\n",
    "%autoreload 2\n",
    "%matplotlib inline"
   ]
  },
  {
   "cell_type": "code",
   "execution_count": null,
   "id": "d3781dd9-6f0a-49d4-8f24-4d11f191748d",
   "metadata": {},
   "outputs": [],
   "source": [
    "import json\n",
    "import os\n",
    "import pickle\n",
    "from collections import Counter, OrderedDict, defaultdict\n",
    "from copy import deepcopy\n",
    "from pathlib import Path\n",
    "from typing import Any, Dict, List, Optional, Tuple, Union, cast\n",
    "\n",
    "import cv2\n",
    "import matplotlib.pyplot as plt\n",
    "import numpy as np\n",
    "import pandas as pd\n",
    "import PIL.Image as pil_img\n",
    "import seaborn as sns\n",
    "import sklearn as skl\n",
    "from IPython.display import Image, display\n",
    "from matplotlib.patches import Rectangle\n",
    "from matplotlib_inline.backend_inline import set_matplotlib_formats\n",
    "from tqdm.contrib import tenumerate, tmap, tzip\n",
    "from tqdm.contrib.bells import tqdm, trange\n",
    "\n",
    "from geoscreens.consts import (\n",
    "    EXTRACTED_FRAMES_PATH,\n",
    "    FRAMES_METADATA_PATH,\n",
    "    LATEST_DETECTION_MODEL_NAME,\n",
    "    VIDEO_PATH,\n",
    ")\n",
    "from geoscreens.data import get_all_geoguessr_split_metadata\n",
    "from geoscreens.data.metadata import GOOGLE_SHEET_IDS, FramesList\n",
    "from geoscreens.utils import batchify, load_json, save_json, timeit_context"
   ]
  },
  {
   "cell_type": "code",
   "execution_count": null,
   "id": "c4a4b4cf-0920-42c0-ba7b-e80a4e7ce515",
   "metadata": {},
   "outputs": [],
   "source": [
    "pd.set_option(\"display.max_colwidth\", None)\n",
    "pd.set_option(\"display.max_columns\", 15)\n",
    "pd.set_option(\"display.max_rows\", 50)\n",
    "# Suitable default display for floats\n",
    "pd.options.display.float_format = \"{:,.2f}\".format\n",
    "plt.rcParams[\"figure.figsize\"] = (12, 10)\n",
    "\n",
    "# This one is optional -- change graphs to SVG only use if you don't have a\n",
    "# lot of points/lines in your graphs. Can also just use ['retina'] if you\n",
    "# don't want SVG.\n",
    "%config InlineBackend.figure_formats = [\"retina\"]\n",
    "set_matplotlib_formats(\"pdf\", \"png\")"
   ]
  },
  {
   "cell_type": "markdown",
   "id": "7899c846-51a1-4236-bc4e-0697de0e7018",
   "metadata": {},
   "source": [
    "* [x] Load in_game frames\n",
    "* [x] load detections for all videos\n",
    "* [x] filter to in_game frames\n",
    "* [ ] crop images\n",
    "* [ ] ocr cropped images\n",
    "* [ ] save results"
   ]
  },
  {
   "cell_type": "markdown",
   "id": "3393884b-db55-4502-8c62-1fb13ae45d1d",
   "metadata": {},
   "source": [
    "## Functions"
   ]
  },
  {
   "cell_type": "markdown",
   "id": "87f1e9b1-5615-4607-82ef-fc37e536cd8d",
   "metadata": {},
   "source": [
    "## Load in_game Frames"
   ]
  },
  {
   "cell_type": "code",
   "execution_count": null,
   "id": "6fa7de35-a479-4603-90d8-b9b00363d302",
   "metadata": {},
   "outputs": [],
   "source": [
    "df_ingame = pickle.load(open(\"/shared/gbiamby/geo/segment/in_game_frames_000.pkl\", \"rb\"))"
   ]
  },
  {
   "cell_type": "code",
   "execution_count": null,
   "id": "5bd2a3e0-70e7-47f5-ae1b-c9fef33db0ef",
   "metadata": {},
   "outputs": [],
   "source": [
    "df_url_frames = df_ingame[df_ingame.labels.apply(lambda l: \"url\" in l)].copy(deep=True)"
   ]
  },
  {
   "cell_type": "code",
   "execution_count": null,
   "id": "1278a6e0-0d18-4f4a-a9a3-9b49b81dc2e2",
   "metadata": {},
   "outputs": [],
   "source": [
    "print(df_ingame.shape, df_url_frames.shape)"
   ]
  },
  {
   "cell_type": "code",
   "execution_count": null,
   "id": "031d2dd6-949d-4cef-a749-e1ee5952a56b",
   "metadata": {},
   "outputs": [],
   "source": [
    "df_ingame.video_id.nunique(), df_url_frames.video_id.nunique()"
   ]
  },
  {
   "cell_type": "code",
   "execution_count": null,
   "id": "bb1de17a-7189-43d2-b94f-a930742c68ca",
   "metadata": {
    "tags": []
   },
   "outputs": [],
   "source": [
    "df_url_frames.head(1).T"
   ]
  },
  {
   "cell_type": "code",
   "execution_count": null,
   "id": "4e036d93-d2c2-42aa-8e35-fb6cf8beae84",
   "metadata": {},
   "outputs": [],
   "source": [
    "import operator\n",
    "\n",
    "import easyocr\n",
    "\n",
    "\n",
    "def last_index(lst, value):\n",
    "    return len(lst) - operator.indexOf(reversed(lst), value) - 1\n",
    "\n",
    "\n",
    "reader = easyocr.Reader([\"en\"])"
   ]
  },
  {
   "cell_type": "code",
   "execution_count": null,
   "id": "74a7c092-e96b-4bf4-acdc-3db7b4124ef5",
   "metadata": {},
   "outputs": [],
   "source": [
    "urls = defaultdict(list)\n",
    "\n",
    "for i, (idx, row) in tenumerate(df_url_frames.iterrows(), total=len(df_url_frames)):\n",
    "    # if i >= 100:\n",
    "    #     break\n",
    "    # print(row)\n",
    "    video_id = row.video_id\n",
    "    url_idx = last_index(row.labels, \"url\")\n",
    "    # Crop:\n",
    "    img = pil_img.open(row.file_path)\n",
    "    # display(img)\n",
    "    url_area = row.bboxes[url_idx]\n",
    "    url_area = (url_area[\"xmin\"], url_area[\"ymin\"], url_area[\"xmax\"], url_area[\"ymax\"])\n",
    "    img_cropped = img.crop(url_area)\n",
    "    # display(img_cropped)\n",
    "    result = reader.recognize(np.array(img_cropped))\n",
    "    urls[video_id].append({**row.to_dict(), \"ocr\": result})\n",
    "    # print(result)"
   ]
  },
  {
   "cell_type": "markdown",
   "id": "24450a29-dbb0-487f-8e3a-738f369ebfe9",
   "metadata": {},
   "source": [
    "### Show the cropped URL bar"
   ]
  },
  {
   "cell_type": "code",
   "execution_count": null,
   "id": "ad80fab7-89af-4176-90fc-ebaf0b9f9a70",
   "metadata": {},
   "outputs": [],
   "source": [
    "display(img_cropped)"
   ]
  },
  {
   "cell_type": "markdown",
   "id": "1639068a-0a21-4daf-b664-1409615a75ed",
   "metadata": {},
   "source": [
    "### OCR on the cropped URL bar"
   ]
  },
  {
   "cell_type": "code",
   "execution_count": null,
   "id": "5c02d513-4364-4747-ac72-124ef4b8581f",
   "metadata": {},
   "outputs": [],
   "source": [
    "result = reader.recognize(np.array(img_cropped))\n",
    "result"
   ]
  },
  {
   "cell_type": "code",
   "execution_count": null,
   "id": "7550ff75-94f4-4f48-804c-8b800369ee67",
   "metadata": {},
   "outputs": [],
   "source": [
    "df_url_frames[\"row_num\"] = df_url_frames.reset_index().index\n",
    "df_url_frames[\"gpu_id\"] = df_url_frames.row_num.apply(lambda x: x % 3)"
   ]
  },
  {
   "cell_type": "code",
   "execution_count": null,
   "id": "606fcbf7-ff86-4f35-ac3e-730113fe01dd",
   "metadata": {},
   "outputs": [],
   "source": [
    "df_url_frames[\"gpu_id\"] = df_url_frames.row_num.apply(lambda x: x % 3)"
   ]
  },
  {
   "cell_type": "code",
   "execution_count": null,
   "id": "32bed386-4f25-430c-b688-5ae174c010a6",
   "metadata": {},
   "outputs": [],
   "source": [
    "results = pickle.load(open(\"/shared/gbiamby/geo/data/urls/url_ocr_raw.pkl\", \"rb\"))"
   ]
  },
  {
   "cell_type": "code",
   "execution_count": null,
   "id": "a5f3fa80-6940-412a-b3d2-ea4709a1149d",
   "metadata": {
    "tags": []
   },
   "outputs": [],
   "source": [
    "results"
   ]
  },
  {
   "cell_type": "markdown",
   "id": "8eb816db-96bb-4935-8b39-921669438d73",
   "metadata": {},
   "source": [
    "---"
   ]
  },
  {
   "cell_type": "markdown",
   "id": "9be474a6-12d8-47c9-8670-531d38df9052",
   "metadata": {},
   "source": [
    "## Load Raw OCR Results, Clean up the URLs and Group Them by video_id + game_num"
   ]
  },
  {
   "cell_type": "code",
   "execution_count": null,
   "id": "b421f97d-a125-4326-a58c-26ec92d070e1",
   "metadata": {},
   "outputs": [],
   "source": [
    "ocr = pickle.load(open(\"/shared/gbiamby/geo/data/urls/url_ocr_raw.pkl\", \"rb\"))"
   ]
  },
  {
   "cell_type": "code",
   "execution_count": null,
   "id": "489d63c9-7d29-4277-bdb3-d17de8def118",
   "metadata": {
    "tags": []
   },
   "outputs": [],
   "source": [
    "ocr[\"--0Kbpo9DtE\"][0]"
   ]
  },
  {
   "cell_type": "code",
   "execution_count": null,
   "id": "f4b84554-fe79-4aff-8b6a-732970c78ca3",
   "metadata": {},
   "outputs": [],
   "source": [
    "# How many ocr outputs have more than one result?\n",
    "\n",
    "# rawr = []\n",
    "# for i, (video_id, frames) in tenumerate(ocr.items()):\n",
    "#     for f in frames:\n",
    "#         if len(f[\"ocr\"]) > 1:\n",
    "#             rawr.append({\"video_id\": video_id, \"ocr\": f[\"ocr\"]})\n",
    "# print(len(rawr))"
   ]
  },
  {
   "cell_type": "code",
   "execution_count": null,
   "id": "ed168256-80cc-4ec6-97c8-5c5cb9cc367a",
   "metadata": {},
   "outputs": [],
   "source": [
    "ocr_clean = []\n",
    "for i, (video_id, frames) in tenumerate(ocr.items()):\n",
    "    for f in frames:\n",
    "        for ocr_result in f[\"ocr\"]:\n",
    "            ocr_clean.append(\n",
    "                {\n",
    "                    \"video_id\": video_id,\n",
    "                    \"ocr\": ocr_result[1],\n",
    "                    \"file_path\": f[\"file_path\"],\n",
    "                    \"round_num\": f[\"round_num\"],\n",
    "                }\n",
    "            )"
   ]
  },
  {
   "cell_type": "code",
   "execution_count": null,
   "id": "0f3f2c69-c10c-430f-aecd-be2f089e9fe7",
   "metadata": {},
   "outputs": [],
   "source": [
    "len(ocr_clean)"
   ]
  },
  {
   "cell_type": "code",
   "execution_count": null,
   "id": "c352f442-98a3-468f-8395-6b40121cabfe",
   "metadata": {},
   "outputs": [],
   "source": [
    "df_ocr = pd.DataFrame(ocr_clean)\n",
    "df_ocr.ocr = (\n",
    "    df_ocr.ocr.astype(\"string\")\n",
    "    .str.replace(\"\\s\\s+\", \" \")\n",
    "    .str.replace(\"^[0-9]*\\s*[l|]*\", \"\", regex=True)\n",
    "    .str.replace(\"| |\", \"||\", regex=False)\n",
    "    .str.replace(\"https||\", \"\", regex=False)\n",
    "    .str.replace(\"https|\", \"\", regex=False)\n",
    "    .str.replace(\"https[|l]{0,2}\", \"\")\n",
    "    .str.replace(\"Secure |\", \"\", regex=False)\n",
    "    .str.replace(\"Secure\", \"\")\n",
    "    .str.replace(\"||\", \"\", regex=False)\n",
    "    .str.replace(\"Il\", \"\", regex=False)\n",
    "    .str.replace(\"ssrcon\", \"ssr.com\", regex=False)\n",
    "    .str.replace(\"con/\", \"com/\", regex=False)\n",
    "    .str.replace(\"cor/\", \"com/\", regex=False)\n",
    "    .str.replace(\"[.\\s]*c[cao0][mnr]\\s*/\", \".com/\")\n",
    "    .str.replace(\"[.\\s]*c[cao0][mnr]\\s*\", \".com\")\n",
    "    .str.replace(\".*?eoguessr\", \"geoguessr\")\n",
    "    .str.replace(\"g.*?oguessr\", \"geoguessr\")\n",
    "    .str.replace(\"ge.*?guessr\", \"geoguessr\")\n",
    "    .str.replace(\"geo.*?uessr\", \"geoguessr\")\n",
    "    .str.replace(\"geog.*?essr\", \"geoguessr\")\n",
    "    .str.replace(\"geogues.*?r\", \"geoguessr\")\n",
    "    .str.replace(\"geoguess.*?\", \"geoguessr\")\n",
    "    .str.replace(\"geoguessrr\", \"geoguessr\")\n",
    "    # Two\n",
    "    .str.replace(\"..oguessr\", \"geoguessr\")\n",
    "    .str.replace(\".e.guessr\", \"geoguessr\")\n",
    "    .str.replace(\".eo.uessr\", \"geoguessr\")\n",
    "    .str.replace(\".eoguess.\", \"geoguessr\")\n",
    "    .str.replace(\"g.*?oguess.*?\", \"geoguessr\")\n",
    "    .str.replace(\"g.*?o.?uess.*?\", \"geoguessr\")\n",
    "    # two\n",
    "    .str.replace(\"g.*?.*?guessr\", \"geoguessr\")\n",
    "    .str.replace(\"g.{0,3}?uessr\", \"geoguessr\")\n",
    "    .str.replace(\"g.*?o.uessr\", \"geoguessr\")\n",
    "    .str.replace(\"g.*?oguess.\", \"geoguessr\")\n",
    "    .str.replace(\".+?eo.+?uess[a-zA-Z]{1}\", \"geoguessr\")\n",
    "    .str.replace(\"ld\\s*/?\\s*play\", \".com/play\")\n",
    "    .str.replace(\"^eog\", \"geog\")\n",
    "    .str.replace(\"geoguessr[^.]+?co\", \"geoguessr.co\")\n",
    "    # .str.replace(\"geoguess co[mnr]\", \"geoguessr.com\")\n",
    "    # .str.replace(\"geoguessco[mnr]\", \"geoguessr.com\")\n",
    "    # .str.replace(\"geoguessrco[mnr]\", \"geoguessr.com\")\n",
    "    .str.replace(\"geoguessr.*com\", \"geoguessr.com\")\n",
    "    .str.replace(\"geoguessr\\s*o[mnr]\", \"geoguessr.com\")\n",
    "    # Strip text before \"geoguess\"\n",
    "    .str.replace(\"^.+(?=geoguess)\", \"\")\n",
    "    #\n",
    "    .str.replace(\"geoguessr.*\\.com\", \"geoguessr.com\")\n",
    "    #\n",
    "    .str.replace(\"geoguessr\\.com.*challenge\", \"geoguessr.com/challenge\")\n",
    "    .str.replace(\"geoguessr\\.com/challenge[^/]{1}\", \"geoguessr.com/challenge/\")\n",
    "    .str.replace(\"geoguessr\\.com.*play\", \"geoguessr.com/play\")\n",
    "    .str.replace(\"geoguessr\\.com/play[^/]{1}\", \"geoguessr.com/play/\")\n",
    "    .str.replace(\"(?<=.)?comuk[/]?\", \"com/uk/\")\n",
    "    .str.replace(\"/.{1,2}lay\", \"/play\")\n",
    "    .str.strip()\n",
    ")\n",
    "exclude = set([\"did you enjoy\", \"channel v\"])\n",
    "for e in exclude:\n",
    "    df_ocr = df_ocr[~(df_ocr.ocr.str.lower().str.contains(e))].copy(deep=True)\n",
    "df_ocr[\"url_count\"] = df_ocr.merge(df_ocr.groupby(\"ocr\").count(), on=\"ocr\")[[\"video_id_y\"]]\n",
    "df_ocr[~df_ocr.ocr.str.contains(\"geoguessr.com\")].sort_values(\"url_count\")"
   ]
  },
  {
   "cell_type": "code",
   "execution_count": null,
   "id": "3222f9bc-2570-40e4-8a08-ea117314d78a",
   "metadata": {},
   "outputs": [],
   "source": [
    "with pd.option_context(\"display.max_rows\", None, \"display.max_columns\", None):\n",
    "    display(\n",
    "        pd.DataFrame(df_ocr[~df_ocr.ocr.str.contains(\"geoguessr.com\")].ocr.value_counts()).head()\n",
    "    )"
   ]
  },
  {
   "cell_type": "code",
   "execution_count": null,
   "id": "5a445b18-96ec-43c1-95b3-2d7f14f6c7cc",
   "metadata": {},
   "outputs": [],
   "source": [
    "exclude = set([\"geoguessr.com/play\"])\n",
    "df_clean = df_ocr[\n",
    "    (df_ocr.ocr.str.contains(\"geoguessr.com\"))\n",
    "    & ~(df_ocr.ocr.str.contains(\"retro\"))\n",
    "    & ~(df_ocr.ocr.isin(exclude))\n",
    "].copy(deep=True)\n",
    "df_clean[\"slug\"] = (\n",
    "    df_clean.ocr.str.replace(\"geoguessr.com\", \"\")\n",
    "    .str.replace(\"challenge\", \"\")\n",
    "    .str.replace(\"play\", \"\")\n",
    "    .str.replace(\"/\", \"\")\n",
    ")\n",
    "df_clean[\"game_num\"] = df_clean.round_num.apply(lambda rn: rn // 5)\n",
    "df_clean[\"slug_len\"] = df_clean.slug.apply(lambda s: len(s))\n",
    "df_clean = df_clean[(df_clean.slug_len > 10) & (df_clean.slug_len < 80)].copy(deep=True)\n",
    "df_clean.sort_values(\"slug_len\")"
   ]
  },
  {
   "cell_type": "code",
   "execution_count": null,
   "id": "764ae7f1-62d5-4a2a-aa21-2a5a100774e8",
   "metadata": {},
   "outputs": [],
   "source": [
    "df_clean2 = (\n",
    "    pd.DataFrame(\n",
    "        df_clean.groupby([\"video_id\", \"game_num\", \"ocr\"]).agg(\n",
    "            url_count=(\"ocr\", \"count\"),\n",
    "            file_path=(\"file_path\", \"max\"),\n",
    "        )\n",
    "    )\n",
    "    .reset_index()\n",
    "    .sort_values([\"video_id\", \"game_num\", \"url_count\"], ascending=[True, True, False])\n",
    ")\n",
    "df_clean2[\"ocr_rank\"] = (\n",
    "    df_clean2.groupby([\"video_id\", \"game_num\"])[\"url_count\"]\n",
    "    .transform(lambda x: x.rank(method=\"first\", ascending=False))\n",
    "    .astype(\"int\")\n",
    ")\n",
    "df_clean2 = df_clean2[[\"video_id\", \"game_num\", \"ocr\", \"ocr_rank\", \"url_count\", \"file_path\"]]"
   ]
  },
  {
   "cell_type": "code",
   "execution_count": null,
   "id": "fbb9dd98-28a5-460d-b826-375b71ead2ff",
   "metadata": {},
   "outputs": [],
   "source": [
    "print(\"Total video_ids: \", df_clean2.video_id.nunique())\n",
    "print(\"Total games: \", len(df_clean2.groupby([\"video_id\", \"game_num\"]).count()))"
   ]
  },
  {
   "cell_type": "code",
   "execution_count": null,
   "id": "7173a8a7-2e71-4a04-ba73-fea8a436b0d9",
   "metadata": {},
   "outputs": [],
   "source": [
    "df_clean2"
   ]
  },
  {
   "cell_type": "code",
   "execution_count": null,
   "id": "ccca8228-933c-4be3-a14e-2873d00cceb2",
   "metadata": {},
   "outputs": [],
   "source": [
    "print(\n",
    "    \"Number of video_id's with URL detections from OCR, that are not in the google sheet: \",\n",
    "    len(set(df_clean2.video_id.values.tolist()) - (set(GOOGLE_SHEET_IDS))),\n",
    ")"
   ]
  },
  {
   "cell_type": "code",
   "execution_count": null,
   "id": "1229208b-3461-4af8-aed7-795089a0962c",
   "metadata": {},
   "outputs": [],
   "source": [
    "if True:\n",
    "    # pickle.dump(df_clean2, open(\"/shared/gbiamby/geo/data/urls/url_ocrs_cleaned.pkl\", \"wb\"))\n",
    "    df_clean2.to_pickle(\"/shared/gbiamby/geo/data/urls/url_ocrs_cleaned-protocol_5.pkl\", protocol=5)\n",
    "    df_clean2.to_pickle(\"/shared/gbiamby/geo/data/urls/url_ocrs_cleaned-protocol_4.pkl\", protocol=4)\n",
    "    df_clean2.to_csv(\"/shared/gbiamby/geo/data/urls/url_ocrs_cleaned.csv\", index=False, header=True)"
   ]
  },
  {
   "cell_type": "code",
   "execution_count": null,
   "id": "e6aecb4a-9860-4ce2-8c0e-6c81e1353529",
   "metadata": {},
   "outputs": [],
   "source": []
  },
  {
   "cell_type": "code",
   "execution_count": null,
   "id": "566ec14a-7ecc-44d3-83c1-2bad521b80d5",
   "metadata": {
    "tags": []
   },
   "outputs": [],
   "source": [
    "# with pd.option_context(\"display.max_rows\", None, \"display.max_columns\", None):\n",
    "#     # display(pd.DataFrame(df_clean[(df_clean.slug_len < 8)].ocr.value_counts()))\n",
    "#     display(pd.DataFrame(df_clean[(df_clean.slug_len > 0)].ocr.value_counts()))"
   ]
  },
  {
   "cell_type": "code",
   "execution_count": null,
   "id": "52335fdf-ddcc-4a21-b2d7-c3b414be0b0f",
   "metadata": {},
   "outputs": [],
   "source": [
    "df_clean.slug_len.plot.hist(bins=50)"
   ]
  },
  {
   "cell_type": "markdown",
   "id": "b0fda791-4d47-4213-894a-4ce1246570c6",
   "metadata": {},
   "source": [
    "---\n",
    "\n",
    "Junk"
   ]
  },
  {
   "cell_type": "code",
   "execution_count": null,
   "id": "a46b8d43-d007-4e94-a24d-867fb4affe93",
   "metadata": {},
   "outputs": [],
   "source": []
  }
 ],
 "metadata": {
  "kernelspec": {
   "display_name": "geoscreens",
   "language": "python",
   "name": "geoscreens"
  },
  "language_info": {
   "codemirror_mode": {
    "name": "ipython",
    "version": 3
   },
   "file_extension": ".py",
   "mimetype": "text/x-python",
   "name": "python",
   "nbconvert_exporter": "python",
   "pygments_lexer": "ipython3",
   "version": "3.9.0"
  }
 },
 "nbformat": 4,
 "nbformat_minor": 5
}
