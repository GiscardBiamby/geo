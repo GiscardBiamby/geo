{
 "cells": [
  {
   "cell_type": "code",
   "execution_count": null,
   "id": "8a2a5625-1f4c-4162-b540-9e20d7e0f3d9",
   "metadata": {},
   "outputs": [],
   "source": [
    "%autosave 60\n",
    "%load_ext autoreload\n",
    "%autoreload 2\n",
    "%matplotlib inline\n",
    "\n",
    "import sys\n",
    "from pathlib import Path"
   ]
  },
  {
   "cell_type": "code",
   "execution_count": null,
   "id": "05326610-0de5-4ac5-8b9f-c577ddd94376",
   "metadata": {},
   "outputs": [],
   "source": [
    "import json\n",
    "import logging\n",
    "import os\n",
    "import sys\n",
    "from copy import deepcopy\n",
    "from io import BytesIO\n",
    "from pathlib import Path\n",
    "from types import ModuleType\n",
    "from typing import Dict, List, Optional, Tuple, Union, cast\n",
    "\n",
    "import cv2\n",
    "import matplotlib as plt\n",
    "import numpy as np\n",
    "import pandas as pd\n",
    "import PIL\n",
    "import PIL.Image as pil_img\n",
    "import seaborn as sns\n",
    "import sklearn as skl\n",
    "from icevision import models, tfms\n",
    "from icevision.all import *\n",
    "from icevision.data import Dataset, DataSplitter, RandomSplitter\n",
    "from icevision.parsers.coco_parser import COCOBBoxParser\n",
    "from IPython.display import Image, display\n",
    "from matplotlib.patches import Rectangle\n",
    "from matplotlib_inline.backend_inline import set_matplotlib_formats\n",
    "from omegaconf import DictConfig, OmegaConf\n",
    "from pytorch_lightning import LightningDataModule, LightningModule, Trainer, seed_everything\n",
    "from pytorch_lightning.loggers import WandbLogger\n",
    "from tqdm.contrib import tenumerate, tmap, tzip\n",
    "from tqdm.contrib.bells import tqdm, trange\n",
    "\n",
    "from geoscreens.geo_data import GeoScreensDataModule\n",
    "from geoscreens.models import get_model, load_model_from_path\n",
    "from geoscreens.modules import LightModelTorch, build_module"
   ]
  },
  {
   "cell_type": "code",
   "execution_count": null,
   "id": "cc0d4e3e-62e8-4e95-a239-5855693b3f7e",
   "metadata": {},
   "outputs": [],
   "source": [
    "pd.set_option(\"display.max_colwidth\", None)\n",
    "pd.set_option(\"display.max_columns\", 15)\n",
    "pd.set_option(\"display.max_rows\", 50)\n",
    "# Suitable default display for floats\n",
    "pd.options.display.float_format = \"{:,.2f}\".format\n",
    "plt.rcParams[\"figure.figsize\"] = (12, 10)\n",
    "\n",
    "# This one is optional -- change graphs to SVG only use if you don't have a\n",
    "# lot of points/lines in your graphs. Can also just use ['retina'] if you\n",
    "# don't want SVG.\n",
    "%config InlineBackend.figure_formats = [\"retina\"]\n",
    "set_matplotlib_formats(\"pdf\", \"png\")"
   ]
  },
  {
   "cell_type": "code",
   "execution_count": null,
   "id": "5b02d71e-7e9e-480e-a9b9-f8b09732c515",
   "metadata": {},
   "outputs": [],
   "source": [
    "from IPython.display import set_matplotlib_formats\n",
    "\n",
    "set_matplotlib_formats(\"pdf\", \"png\")\n",
    "plt.rcParams[\"savefig.dpi\"] = 75\n",
    "\n",
    "plt.rcParams[\"figure.autolayout\"] = False\n",
    "plt.rcParams[\"figure.figsize\"] = 10, 6\n",
    "plt.rcParams[\"axes.labelsize\"] = 18\n",
    "plt.rcParams[\"axes.titlesize\"] = 20\n",
    "plt.rcParams[\"font.size\"] = 16\n",
    "plt.rcParams[\"lines.linewidth\"] = 2.0\n",
    "plt.rcParams[\"lines.markersize\"] = 8\n",
    "plt.rcParams[\"legend.fontsize\"] = 14\n",
    "plt.rcParams[\"text.usetex\"] = True\n",
    "\n",
    "plt.rcParams[\"font.family\"] = \"serif\"\n",
    "plt.rcParams[\"font.serif\"] = \"cm\"\n",
    "# plt.rcParams[\"text.latex.preamble\"] = \"\\\\usepackage{subdepth}, \\\\usepackage{type1cm}\""
   ]
  },
  {
   "cell_type": "markdown",
   "id": "ec5d1425-64c7-499b-9b98-353f8bd71ee0",
   "metadata": {},
   "source": [
    "## Load Data and Build Model"
   ]
  },
  {
   "cell_type": "code",
   "execution_count": null,
   "id": "a1b58192-0268-4b74-bba7-1f0194271c27",
   "metadata": {},
   "outputs": [],
   "source": [
    "seed_everything(42, workers=True)\n",
    "DEVICE = torch.device(\"cuda:0\")\n",
    "config, module, model, light_model = load_model_from_path(\n",
    "    \"/shared/gbiamby/geo/models/geoscreens_009-resnest50_fpn-with_augs/\", device=DEVICE\n",
    ")\n",
    "model, light_model = model.eval(), light_model.eval()\n",
    "geoscreens_data = GeoScreensDataModule(config, module)"
   ]
  },
  {
   "cell_type": "markdown",
   "id": "56486d27-85b3-42b0-95c1-dfd085ae7861",
   "metadata": {},
   "source": [
    "## Show Some Training Samples"
   ]
  },
  {
   "cell_type": "code",
   "execution_count": null,
   "id": "8c89f7a2-7754-4dd3-88c7-f0f2593b6536",
   "metadata": {},
   "outputs": [],
   "source": [
    "train_ds = geoscreens_data.train_ds"
   ]
  },
  {
   "cell_type": "code",
   "execution_count": null,
   "id": "adefbf18-51d6-4654-a3e3-4e2446c3414b",
   "metadata": {
    "tags": []
   },
   "outputs": [],
   "source": [
    "# Show an element of the train_ds with augmentation transformations applied\n",
    "samples = [train_ds[10] for _ in range(3)]\n",
    "show_samples(samples, ncols=3)"
   ]
  },
  {
   "cell_type": "markdown",
   "id": "579e674b-b20c-4078-925f-9328880d55fd",
   "metadata": {},
   "source": [
    "### Show some validation set samples"
   ]
  },
  {
   "cell_type": "code",
   "execution_count": null,
   "id": "83cb85ed-d35a-4cee-b2d9-d639cf8eded6",
   "metadata": {
    "tags": []
   },
   "outputs": [],
   "source": [
    "module.show_batch(first(geoscreens_data.val_dataloader()), ncols=4)"
   ]
  },
  {
   "cell_type": "markdown",
   "id": "945cfa0e-e11f-4e1e-b4da-7f501381f5c8",
   "metadata": {},
   "source": [
    "### Show some predictions"
   ]
  },
  {
   "cell_type": "code",
   "execution_count": null,
   "id": "1c9653ac-87a9-472e-84df-0127f3264860",
   "metadata": {
    "tags": []
   },
   "outputs": [],
   "source": [
    "num_samples = 10\n",
    "size = 30\n",
    "module.show_results(\n",
    "    light_model,\n",
    "    geoscreens_data.valid_ds,\n",
    "    num_samples=num_samples,\n",
    "    detection_threshold=0.5,\n",
    "    device=DEVICE,\n",
    "    figsize=(size, (size * num_samples) / 2),\n",
    ")"
   ]
  },
  {
   "cell_type": "markdown",
   "id": "52838ad7-5fa1-465c-9966-c2bf86837b0d",
   "metadata": {},
   "source": [
    "---"
   ]
  },
  {
   "cell_type": "markdown",
   "id": "cab9fa07-0547-46ee-bd59-3d182ca17515",
   "metadata": {},
   "source": [
    "## Naive Detection of Bad Ground Truth Lables"
   ]
  },
  {
   "cell_type": "code",
   "execution_count": null,
   "id": "c2109275-fd88-4c2e-b7c2-ee605a6b1339",
   "metadata": {},
   "outputs": [],
   "source": [
    "tasks = json.load(open(\"/shared/gbiamby/geo/exports/geoscreens_009-from_proj_id_58.json\", \"r\", encoding=\"utf-8\"))\n",
    "\n",
    "mistakes = []\n",
    "for i, t in enumerate(tqdm(tasks, total=len(tasks))):\n",
    "    # if i >= 10:\n",
    "    #     break\n",
    "    # print(\"\")\n",
    "    anns_results = [ann[\"result\"] for ann in t[\"annotations\"]]\n",
    "    # print(anns_results)\n",
    "    # print([ann for ann in anns_results])\n",
    "    labels = [ann[\"value\"][\"rectanglelabels\"][0] for ann in anns_results[0]]\n",
    "    if len(labels) != len(set(labels)):\n",
    "        mistakes.append(t)"
   ]
  },
  {
   "cell_type": "code",
   "execution_count": null,
   "id": "ffe9a4b5-2af9-4cf3-8c13-202c26edd42d",
   "metadata": {},
   "outputs": [],
   "source": [
    "len(mistakes)"
   ]
  },
  {
   "cell_type": "code",
   "execution_count": null,
   "id": "9b1ec663-a9c1-40a8-bae0-5327f5f0cc5a",
   "metadata": {},
   "outputs": [],
   "source": [
    "[m[\"data\"] for m in mistakes]"
   ]
  },
  {
   "cell_type": "code",
   "execution_count": null,
   "id": "bb1ca932-1a9f-4f49-9761-88b107395288",
   "metadata": {},
   "outputs": [],
   "source": [
    "[m[\"data\"] for m in mistakes]"
   ]
  },
  {
   "cell_type": "code",
   "execution_count": null,
   "id": "ae5729b8-ab14-42d1-a3e5-1461e7b59763",
   "metadata": {},
   "outputs": [],
   "source": [
    "for i, t in enumerate(tqdm(tasks, total=len(tasks))):\n",
    "    # if i >= 10:\n",
    "    #     break\n",
    "    if \"aob8sh6l-6M/frame_00000221\" in t[\"data\"][\"image\"]:\n",
    "        print(\"\")\n",
    "        print(t[\"id\"], t[\"data\"][\"image\"])\n",
    "        anns_results = [ann[\"result\"] for ann in t[\"annotations\"]]\n",
    "        print(\"anns_results: \", anns_results, len(anns_results))\n",
    "        labels = [ann[\"value\"][\"rectanglelabels\"][0] for ann in anns_results[0]]\n",
    "        print(\"labels: \", labels)"
   ]
  },
  {
   "cell_type": "markdown",
   "id": "9bd322e6-88b6-428a-9d2e-0fed0232a0e3",
   "metadata": {},
   "source": [
    "---\n",
    "\n",
    "## Scratch / Junk"
   ]
  },
  {
   "cell_type": "markdown",
   "id": "05ec502d-ac73-4b03-85d4-f072b83726cc",
   "metadata": {},
   "source": [
    "### Find/FIlter Duplicates"
   ]
  },
  {
   "cell_type": "code",
   "execution_count": null,
   "id": "d5a5d2f1-42e0-4147-9e0b-275d00bb3513",
   "metadata": {
    "tags": []
   },
   "outputs": [],
   "source": [
    "path_to_task = defaultdict(list)\n",
    "for t in tasks:\n",
    "    path_to_task[t[\"data\"][\"full_path\"]].append(t)\n",
    "print(len(tasks), len(path_to_task))\n",
    "\n",
    "c = Counter([t[\"data\"][\"full_path\"] for t in tasks])\n",
    "dupes = [k for k, v in c.items() if v > 1]\n",
    "\n",
    "print(\"total dupes: \", len(dupes))\n",
    "to_remove = []\n",
    "for path in dupes:\n",
    "    print(\"\")\n",
    "    print(\"=\" * 100)\n",
    "    task_blobs = [json.dumps(t, sort_keys=True) for t in path_to_task[path]]\n",
    "    ann_ids = [t[\"id\"] for t in path_to_task[path]]\n",
    "    max_id = max(ann_ids)\n",
    "    # print(\"ann_ids: \", path_to_task[path])\n",
    "    print(\"ann_ids: \", ann_ids)\n",
    "    # for t in task_blobs:\n",
    "    #     print(\"\")\n",
    "    #     print(t)\n",
    "    print(\"Removing: \")\n",
    "    for t in path_to_task[path]:\n",
    "        if t[\"id\"] != max_id:\n",
    "            print(\"Removing task_id: \", t[\"id\"])\n",
    "            to_remove.append((t[\"id\"], path))\n",
    "\n",
    "to_remove"
   ]
  },
  {
   "cell_type": "code",
   "execution_count": null,
   "id": "682a6693-ca0c-4337-9b5b-76f94206fbbb",
   "metadata": {},
   "outputs": [],
   "source": [
    "tasks_filtered = []\n",
    "\n",
    "for t in tasks:\n",
    "    if (t[\"id\"], t[\"data\"][\"full_path\"]) in to_remove:\n",
    "        continue\n",
    "    tasks_filtered.append(t)\n",
    "\n",
    "print(len(tasks), len(tasks_filtered))"
   ]
  },
  {
   "cell_type": "markdown",
   "id": "3cac263f-0798-4c5a-a462-358391115171",
   "metadata": {},
   "source": [
    "### Save"
   ]
  },
  {
   "cell_type": "code",
   "execution_count": null,
   "id": "90ecf188-099f-4d09-b400-0617cd535885",
   "metadata": {},
   "outputs": [],
   "source": [
    "json.dump(\n",
    "    tasks_filtered,\n",
    "    open(Path(\"/shared/gbiamby/geo/geoscreens_004_tasks_with_preds.json\"), \"w\"),\n",
    "    indent=4,\n",
    "    sort_keys=True,\n",
    ")"
   ]
  },
  {
   "cell_type": "markdown",
   "id": "f9ab5b54-3531-467e-acc9-e7127041d14c",
   "metadata": {},
   "source": [
    "---"
   ]
  },
  {
   "cell_type": "markdown",
   "id": "b9cf4a48-adcf-4cbf-b16a-ab64fe5f50c7",
   "metadata": {},
   "source": [
    "## Get dets for an image"
   ]
  },
  {
   "cell_type": "code",
   "execution_count": null,
   "id": "73cfe26c-325d-4662-bfa1-ad3213305db9",
   "metadata": {},
   "outputs": [],
   "source": [
    "imgs = [\n",
    "    image_from_url(\n",
    "        \"/shared/gbiamby/geo/screenshots/screen_samples_auto/-lPrvqk2mqs/frame_00000104.jpg\"\n",
    "    )\n",
    "]\n",
    "infer_ds = Dataset.from_images(imgs, infer_tfms)\n",
    "batch, samples = models.torchvision.retinanet.build_infer_batch(infer_ds)\n",
    "preds = models.torchvision.retinanet.predict(model, infer_ds, detection_threshold=0.4)\n",
    "[(p.detection.scores, p.detection.label_ids, p.detection.bboxes) for p in preds]"
   ]
  },
  {
   "cell_type": "markdown",
   "id": "489da9d1-b4be-454c-aa5a-b76d7a2e9a4d",
   "metadata": {
    "tags": []
   },
   "source": [
    "---"
   ]
  },
  {
   "cell_type": "code",
   "execution_count": null,
   "id": "d68cf1b1-a458-4669-8499-2bce301e9e72",
   "metadata": {},
   "outputs": [],
   "source": []
  }
 ],
 "metadata": {
  "kernelspec": {
   "display_name": "geoscreens",
   "language": "python",
   "name": "geoscreens"
  },
  "language_info": {
   "codemirror_mode": {
    "name": "ipython",
    "version": 3
   },
   "file_extension": ".py",
   "mimetype": "text/x-python",
   "name": "python",
   "nbconvert_exporter": "python",
   "pygments_lexer": "ipython3",
   "version": "3.9.0"
  }
 },
 "nbformat": 4,
 "nbformat_minor": 5
}
