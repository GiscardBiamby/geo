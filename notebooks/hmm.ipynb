{
 "cells": [
  {
   "cell_type": "code",
   "execution_count": 1,
   "id": "b8b75f8a-baa7-4119-aaa4-77853facb2c7",
   "metadata": {},
   "outputs": [],
   "source": [
    "%config Completer.use_jedi = False"
   ]
  },
  {
   "cell_type": "code",
   "execution_count": 2,
   "id": "585691f2-8fe9-4c5e-bbb3-2f5e26835c57",
   "metadata": {},
   "outputs": [],
   "source": [
    "import torch\n",
    "import torch.nn as nn\n",
    "import torchtext\n",
    "from torch_struct import LinearChainCRF\n",
    "\n",
    "# import torch_struct.data\n",
    "config = {\"bert\": \"bert-base-cased\", \"H\": 768, \"dropout\": 0.2}\n",
    "\n",
    "# Comment or add your wandb\n",
    "# import wandb\n",
    "# wandb.init(project=\"pytorch-struct-tagging\", config=config)"
   ]
  },
  {
   "cell_type": "code",
   "execution_count": 6,
   "id": "53ab11d9-993e-4f7a-af3f-bd2e5256da01",
   "metadata": {},
   "outputs": [
    {
     "name": "stderr",
     "output_type": "stream",
     "text": [
      "/home/gbiamby/anaconda3/envs/geo/lib/python3.9/site-packages/torch/distributions/distribution.py:44: UserWarning: <class 'torch_struct.distributions.LinearChainCRF'> does not define `arg_constraints`. Please set `arg_constraints = {}` or initialize the distribution with `validate_args=False` to turn off validation.\n",
      "  warnings.warn(f'{self.__class__} does not define `arg_constraints`. ' +\n"
     ]
    }
   ],
   "source": [
    "# Make some data.\n",
    "vals = torch.zeros(2, 10, 10) + 1e-5\n",
    "vals[:, :5, :5] = torch.rand(5)\n",
    "vals[:, 5:, 5:] = torch.rand(5)\n",
    "crf = LinearChainCRF(vals.log())"
   ]
  },
  {
   "cell_type": "code",
   "execution_count": null,
   "id": "d3a7f8e7-a511-4c48-b713-b6db8aef58ce",
   "metadata": {},
   "outputs": [],
   "source": []
  },
  {
   "cell_type": "code",
   "execution_count": null,
   "id": "50420330-ab22-4c9a-b8a6-b3b8e10b3580",
   "metadata": {},
   "outputs": [],
   "source": [
    "import logging\n",
    "\n",
    "handler = logging.StreamHandler()\n",
    "handler = logging.FileHandler(filename=\"log.txt\", mode=\"a\")\n",
    "formatter = logging.Formatter(\"%(levelname)s: %(message)s\")\n",
    "handler.setFormatter(formatter)\n",
    "\n",
    "logger = logging.getLogger()\n",
    "logger.setLevel(logging.DEBUG)\n",
    "\n",
    "# Override the default handler\n",
    "logger.handlers = [handler]\n",
    "\n",
    "logging.error(\"this is an error\")\n",
    "logging.warning(\"this is a warning\")"
   ]
  }
 ],
 "metadata": {
  "kernelspec": {
   "display_name": "geo",
   "language": "python",
   "name": "geo"
  },
  "language_info": {
   "codemirror_mode": {
    "name": "ipython",
    "version": 3
   },
   "file_extension": ".py",
   "mimetype": "text/x-python",
   "name": "python",
   "nbconvert_exporter": "python",
   "pygments_lexer": "ipython3",
   "version": "3.9.0"
  }
 },
 "nbformat": 4,
 "nbformat_minor": 5
}
