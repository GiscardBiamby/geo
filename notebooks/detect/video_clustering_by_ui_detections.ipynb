{
 "cells": [
  {
   "cell_type": "code",
   "execution_count": null,
   "id": "450546ff-bc41-4369-812d-b8c18e72e9a6",
   "metadata": {},
   "outputs": [],
   "source": [
    "%autosave 60\n",
    "%load_ext autoreload\n",
    "%autoreload 2\n",
    "%matplotlib inline"
   ]
  },
  {
   "cell_type": "code",
   "execution_count": null,
   "id": "9bf25af9-f0d9-4ce8-875c-43a10e1ee822",
   "metadata": {},
   "outputs": [],
   "source": [
    "import json\n",
    "import os\n",
    "import pickle\n",
    "from collections import Counter, OrderedDict\n",
    "from copy import deepcopy\n",
    "from pathlib import Path\n",
    "from typing import Any, Dict, List, Optional, Tuple, Union, cast\n",
    "\n",
    "import cv2\n",
    "import matplotlib as plt\n",
    "import numpy as np\n",
    "import pandas as pd\n",
    "import PIL.Image as pil_img\n",
    "import seaborn as sns\n",
    "import sklearn as skl\n",
    "from IPython.display import Image, display\n",
    "from matplotlib.patches import Rectangle\n",
    "from matplotlib_inline.backend_inline import set_matplotlib_formats\n",
    "from sklearn.cluster import KMeans\n",
    "from tqdm.contrib import tenumerate, tmap, tzip\n",
    "from tqdm.contrib.bells import tqdm, trange\n",
    "\n",
    "from geoscreens.consts import (\n",
    "    DATASET_PATH,\n",
    "    DETECTIONS_PATH,\n",
    "    FRAMES_METADATA_PATH,\n",
    "    LATEST_DETECTION_MODEL_NAME,\n",
    "    PROJECT_ROOT,\n",
    ")\n",
    "from geoscreens.data import get_all_geoguessr_split_metadata, load_detections\n",
    "from geoscreens.utils import load_json, save_json"
   ]
  },
  {
   "cell_type": "code",
   "execution_count": null,
   "id": "e46f7ba4-ea5c-40b7-8fef-88dc533fc2f2",
   "metadata": {
    "tags": []
   },
   "outputs": [],
   "source": [
    "pd.set_option(\"display.max_colwidth\", None)\n",
    "pd.set_option(\"display.max_columns\", 15)\n",
    "pd.set_option(\"display.max_rows\", 50)\n",
    "# Suitable default display for floats\n",
    "pd.options.display.float_format = \"{:,.2f}\".format\n",
    "plt.rcParams[\"figure.figsize\"] = (12, 10)\n",
    "\n",
    "# This one is optional -- change graphs to SVG only use if you don't have a\n",
    "# lot of points/lines in your graphs. Can also just use ['retina'] if you\n",
    "# don't want SVG.\n",
    "%config InlineBackend.figure_formats = [\"retina\"]\n",
    "set_matplotlib_formats(\"pdf\", \"png\")"
   ]
  },
  {
   "cell_type": "code",
   "execution_count": null,
   "id": "26d1294f-87c7-4f08-b421-8f7c30e763af",
   "metadata": {
    "tags": []
   },
   "outputs": [],
   "source": [
    "set_matplotlib_formats(\"pdf\", \"png\")\n",
    "plt.rcParams[\"savefig.dpi\"] = 75\n",
    "\n",
    "plt.rcParams[\"figure.autolayout\"] = False\n",
    "plt.rcParams[\"figure.figsize\"] = 10, 6\n",
    "plt.rcParams[\"axes.labelsize\"] = 18\n",
    "plt.rcParams[\"axes.titlesize\"] = 20\n",
    "plt.rcParams[\"font.size\"] = 16\n",
    "plt.rcParams[\"lines.linewidth\"] = 2.0\n",
    "plt.rcParams[\"lines.markersize\"] = 8\n",
    "plt.rcParams[\"legend.fontsize\"] = 14\n",
    "plt.rcParams[\"text.usetex\"] = True\n",
    "\n",
    "# plt.rcParams[\"font.family\"] = \"serif\"\n",
    "# plt.rcParams[\"font.serif\"] = \"cm\"\n",
    "# plt.rcParams[\"text.latex.preamble\"] = \"\\\\usepackage{subdepth}, \\\\usepackage{type1cm}\""
   ]
  },
  {
   "cell_type": "markdown",
   "id": "d675b356-bbaa-41b0-85b0-6bc88de712c5",
   "metadata": {},
   "source": [
    "# Load all detections"
   ]
  },
  {
   "cell_type": "code",
   "execution_count": null,
   "id": "98c955dd-7878-4cec-8659-321c8ca00050",
   "metadata": {
    "tags": []
   },
   "outputs": [],
   "source": [
    "# model = \"gsmoreanch02_012--geoscreens_012-model_faster_rcnn-bb_resnest50_fpn-2b72cbf305\"\n",
    "model = LATEST_DETECTION_MODEL_NAME\n",
    "CACHE_PATH = PROJECT_ROOT / \"notebooks\" / \"cache\" / \"all_video_dets.pkl\""
   ]
  },
  {
   "cell_type": "code",
   "execution_count": null,
   "id": "7d441aea-98bd-4c6a-877b-2a39101c0d34",
   "metadata": {},
   "outputs": [],
   "source": [
    "def get_video_dets(video_ids, df_meta):\n",
    "    video_dets = {}\n",
    "\n",
    "    for i, video_id in tenumerate(video_ids):\n",
    "        # if i > 2:\n",
    "        #     break\n",
    "        if video_id in df_meta.index:\n",
    "            df = load_detections(video_id, df_meta.loc[video_id].split, model=model)\n",
    "            video_dets[video_id] = {\n",
    "                \"video_id\": video_id,\n",
    "                \"label_ids\": df.label_ids.values.tolist(),\n",
    "                \"labels\": df.labels.values.tolist(),\n",
    "            }\n",
    "    return video_dets\n",
    "\n",
    "\n",
    "def count_video_labels(video_dets: dict, ignore=None):\n",
    "    label_counts = {}\n",
    "    cats = load_json(DATASET_PATH)[\"categories\"]\n",
    "\n",
    "    for i, (video_id, vid_info) in tenumerate(video_dets.items()):\n",
    "        counter = Counter({c[\"name\"]: 0 for c in cats})\n",
    "        for labels in vid_info[\"labels\"]:\n",
    "            counter.update(labels)\n",
    "        if ignore:\n",
    "            for ignore_name in ignore:\n",
    "                counter[ignore_name] = 0\n",
    "        label_counts[video_id] = counter\n",
    "\n",
    "    return label_counts\n",
    "\n",
    "\n",
    "def get_vectors(label_counts: dict):\n",
    "    cats = load_json(DATASET_PATH)[\"categories\"]\n",
    "    cat_name_to_id = {c[\"name\"]: c[\"id\"] for c in cats}\n",
    "    vectors = []\n",
    "    for video_id, vid_counts in label_counts.items():\n",
    "        counts_vector = [\n",
    "            count[1] for count in sorted(vid_counts.items(), key=lambda x: cat_name_to_id[x[0]])\n",
    "        ]\n",
    "        vectors.append(np.array(counts_vector))\n",
    "    return vectors"
   ]
  },
  {
   "cell_type": "code",
   "execution_count": null,
   "id": "bc202ec7-cb93-450b-9fa6-390e78deaeb6",
   "metadata": {},
   "outputs": [],
   "source": [
    "if True or \"df_meta\" not in locals():\n",
    "    df_meta = pd.DataFrame(\n",
    "        get_all_geoguessr_split_metadata(\n",
    "            force_include=[\"nemo_caption\", \"nemo_caption_entities\"]\n",
    "        ).values()\n",
    "    ).set_index(\"id\")\n",
    "\n",
    "video_ids = sorted(\n",
    "    [\n",
    "        d.stem.replace(\"df_frame_dets-video_id_\", \"\")\n",
    "        for d in (DETECTIONS_PATH / model).glob(\"**/*.pkl\")\n",
    "    ]\n",
    ")\n",
    "\n",
    "if False and CACHE_PATH.exists():\n",
    "    data = pickle.load(open(CACHE_PATH, \"rb\"))\n",
    "    video_dets = data[\"video_dets\"]\n",
    "    count_vectors = data[\"count_vectors\"]\n",
    "else:\n",
    "    video_dets = get_video_dets(video_ids, df_meta)\n",
    "    label_counts = count_video_labels(video_dets, ignore=[\"video\", \"url\"])\n",
    "    count_vectors = get_vectors(label_counts)\n",
    "\n",
    "print(\"num video_ids: \", len(video_ids))\n",
    "print(\"num video_dets: \", len(video_dets))\n",
    "print(\"num count_vectors: \", len(count_vectors))"
   ]
  },
  {
   "cell_type": "code",
   "execution_count": null,
   "id": "17fcf89a-6f41-49a1-8d4a-165f6e4f3ad1",
   "metadata": {},
   "outputs": [],
   "source": [
    "# pickle.dump(\n",
    "#     {\"video_dets\": video_dets, \"count_vectors\": count_vectors},\n",
    "#     open(CACHE_PATH, \"wb\"),\n",
    "# )"
   ]
  },
  {
   "cell_type": "markdown",
   "id": "51c674f2-bc16-423d-a249-d91328fe236f",
   "metadata": {},
   "source": [
    "---\n",
    "\n",
    "## Cluster the Detections "
   ]
  },
  {
   "cell_type": "code",
   "execution_count": null,
   "id": "32331e74-e5d7-47c2-bdee-592df0f6453d",
   "metadata": {},
   "outputs": [],
   "source": [
    "def cluster(count_vectors, num_clusters: int = 4, normalize=True):\n",
    "    if normalize:\n",
    "        count_vectors = [v / np.linalg.norm(v) for v in count_vectors]\n",
    "    kmeans = KMeans(n_clusters=num_clusters, random_state=0).fit(count_vectors)\n",
    "    clusters = kmeans.cluster_centers_[np.argsort(kmeans.cluster_centers_[:, 1])]\n",
    "    result = {\n",
    "        \"labels\": kmeans.labels_,\n",
    "        \"clusters\": clusters,\n",
    "        \"kmeans\": kmeans,\n",
    "    }\n",
    "    # print(\"kmeans.labels: \", kmeans.labels_)\n",
    "    # print(\"kmeans.cluster_centers: \", kmeans.cluster_centers_)\n",
    "    return result\n",
    "\n",
    "\n",
    "results = {}\n",
    "for nc in [3, 4, 5, 6, 7, 8, 9, 10]:\n",
    "    result = cluster(count_vectors, num_clusters=nc)\n",
    "    results[nc] = result\n",
    "    print(nc, Counter(result[\"kmeans\"].labels_))"
   ]
  },
  {
   "cell_type": "code",
   "execution_count": null,
   "id": "35d8f4a6-5c24-420c-963f-5d83aab8da8b",
   "metadata": {},
   "outputs": [],
   "source": [
    "Counter(results[4][\"kmeans\"].labels_)"
   ]
  },
  {
   "cell_type": "code",
   "execution_count": null,
   "id": "27e8c69a-c9df-461a-aee1-a7868e66f513",
   "metadata": {
    "tags": []
   },
   "outputs": [],
   "source": [
    "import matplotlib.pyplot as plt\n",
    "\n",
    "\n",
    "def inspect_clustering(kmeans: KMeans):\n",
    "    cats = load_json(DATASET_PATH)[\"categories\"]\n",
    "    cat_name_to_id = {c[\"name\"]: c[\"id\"] for c in cats}\n",
    "    plt.rcParams[\"figure.figsize\"] = (10, 25)\n",
    "    # print(kmeans.cluster_centers_[0])\n",
    "    for cluster in kmeans.cluster_centers_:\n",
    "        sns.barplot(x=cluster.tolist(), y=list(cat_name_to_id.keys()))\n",
    "        plt.show()\n",
    "    print(kmeans)\n",
    "\n",
    "\n",
    "inspect_clustering(results[10][\"kmeans\"])"
   ]
  },
  {
   "cell_type": "markdown",
   "id": "5fdaecf9-3710-4308-89e3-cf434b9dd278",
   "metadata": {},
   "source": [
    "### How Many are battle Royale\n"
   ]
  },
  {
   "cell_type": "code",
   "execution_count": null,
   "id": "71af2d0f-f9fe-40e3-b53a-94e3a816d3ba",
   "metadata": {},
   "outputs": [],
   "source": [
    "\n",
    "count_vectors = [v / np.linalg.norm(v) for v in count_vectors]\n",
    "cats = load_json(DATASET_PATH)[\"categories\"]\n",
    "cat_name_to_id = {c[\"name\"]: c[\"id\"] for c in cats}\n",
    "len([v for v in count_vectors if v[cat_name_to_id[\"br_players_box_white\"]] > 0.05])"
   ]
  },
  {
   "cell_type": "code",
   "execution_count": null,
   "id": "272d17b5-52f2-4deb-9359-2482978394d3",
   "metadata": {},
   "outputs": [],
   "source": []
  }
 ],
 "metadata": {
  "kernelspec": {
   "display_name": "geoscreens",
   "language": "python",
   "name": "geoscreens"
  },
  "language_info": {
   "codemirror_mode": {
    "name": "ipython",
    "version": 3
   },
   "file_extension": ".py",
   "mimetype": "text/x-python",
   "name": "python",
   "nbconvert_exporter": "python",
   "pygments_lexer": "ipython3",
   "version": "3.9.0"
  }
 },
 "nbformat": 4,
 "nbformat_minor": 5
}
