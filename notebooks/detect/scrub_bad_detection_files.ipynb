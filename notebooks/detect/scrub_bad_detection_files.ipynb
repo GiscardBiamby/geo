{
 "cells": [
  {
   "cell_type": "code",
   "execution_count": null,
   "id": "c9fd4613-aed7-4281-aac2-c3f6d8c826b0",
   "metadata": {},
   "outputs": [],
   "source": [
    "%autosave 60\n",
    "%load_ext autoreload\n",
    "%autoreload 2\n",
    "%matplotlib inline"
   ]
  },
  {
   "cell_type": "code",
   "execution_count": null,
   "id": "e113bad7-c76c-45ff-82e7-3c20a981cbfb",
   "metadata": {},
   "outputs": [],
   "source": [
    "import json\n",
    "import os\n",
    "from io import BytesIO\n",
    "from pathlib import Path\n",
    "from typing import Dict, List, Optional, Tuple, Union, cast\n",
    "\n",
    "import cv2\n",
    "import matplotlib as plt\n",
    "import numpy as np\n",
    "import pandas as pd\n",
    "import PIL.Image as pil_img\n",
    "import seaborn as sns\n",
    "import sklearn as skl\n",
    "from IPython.display import Image, display\n",
    "from matplotlib.patches import Rectangle\n",
    "from matplotlib_inline.backend_inline import set_matplotlib_formats\n",
    "from tqdm.contrib import tenumerate, tmap, tzip\n",
    "from tqdm.contrib.bells import tqdm, trange\n",
    "\n",
    "from geoscreens.video_seg import load_detections"
   ]
  },
  {
   "cell_type": "code",
   "execution_count": 92,
   "id": "1f00547d-f2a5-4c52-8bd3-b73cbfcceba1",
   "metadata": {},
   "outputs": [],
   "source": [
    "m = \"gsmoreanch02_012--geoscreens_012-model_faster_rcnn-bb_resnest50_fpn-2b72cbf305\"\n",
    "\n",
    "split = \"train\"\n",
    "dets = [\n",
    "    (str(p.stem.replace(\"df_frame_dets-video_id_\", \"\")), p)\n",
    "    for p in sorted(Path(f\"/shared/gbiamby/geo/segment/detections/{m}/{split}\").glob(\"**/*.pkl\"))\n",
    "]"
   ]
  },
  {
   "cell_type": "code",
   "execution_count": 93,
   "id": "4944283a-8551-429f-9ec7-9dec98a8df61",
   "metadata": {},
   "outputs": [
    {
     "data": {
      "application/vnd.jupyter.widget-view+json": {
       "model_id": "4e12c1387d234a12bc939fb9af481954",
       "version_major": 2,
       "version_minor": 0
      },
      "text/plain": [
       "  0%|          | 0/906 [00:00<?, ?it/s]"
      ]
     },
     "metadata": {},
     "output_type": "display_data"
    }
   ],
   "source": [
    "bad_ids = []\n",
    "for video_id, dets_path in tqdm(dets):\n",
    "    try:\n",
    "        load_detections(video_id, split, model=m)\n",
    "    except Exception as ex:\n",
    "        bad_ids.append({\"video_id\": video_id, \"dets_path\": dets_path, \"error\": str(ex)})"
   ]
  },
  {
   "cell_type": "code",
   "execution_count": 94,
   "id": "1b4d792c-7d96-4a8a-a25c-0960f9189433",
   "metadata": {},
   "outputs": [
    {
     "name": "stdout",
     "output_type": "stream",
     "text": [
      "10\n"
     ]
    }
   ],
   "source": [
    "print(len(bad_ids))"
   ]
  },
  {
   "cell_type": "code",
   "execution_count": 95,
   "id": "68354274-f8e4-4b15-b8ac-ebd453bc2e26",
   "metadata": {},
   "outputs": [
    {
     "data": {
      "text/html": [
       "<div>\n",
       "<style scoped>\n",
       "    .dataframe tbody tr th:only-of-type {\n",
       "        vertical-align: middle;\n",
       "    }\n",
       "\n",
       "    .dataframe tbody tr th {\n",
       "        vertical-align: top;\n",
       "    }\n",
       "\n",
       "    .dataframe thead th {\n",
       "        text-align: right;\n",
       "    }\n",
       "</style>\n",
       "<table border=\"1\" class=\"dataframe\">\n",
       "  <thead>\n",
       "    <tr style=\"text-align: right;\">\n",
       "      <th></th>\n",
       "      <th>video_id</th>\n",
       "      <th>dets_path</th>\n",
       "      <th>error</th>\n",
       "    </tr>\n",
       "  </thead>\n",
       "  <tbody>\n",
       "    <tr>\n",
       "      <th>0</th>\n",
       "      <td>O5cLcsxzgac</td>\n",
       "      <td>/shared/gbiamby/geo/segment/detections/gsmoreanch02_012--geoscreens_012-model_faster_rcnn-bb_resnest50_fpn-2b72cbf305/train/df_frame_dets-video_id_O5cLcsxzgac.pkl</td>\n",
       "      <td>No columns to parse from file</td>\n",
       "    </tr>\n",
       "    <tr>\n",
       "      <th>1</th>\n",
       "      <td>ZzhDgEFw5-0</td>\n",
       "      <td>/shared/gbiamby/geo/segment/detections/gsmoreanch02_012--geoscreens_012-model_faster_rcnn-bb_resnest50_fpn-2b72cbf305/train/df_frame_dets-video_id_ZzhDgEFw5-0.pkl</td>\n",
       "      <td>No columns to parse from file</td>\n",
       "    </tr>\n",
       "    <tr>\n",
       "      <th>2</th>\n",
       "      <td>azm6RY3otII</td>\n",
       "      <td>/shared/gbiamby/geo/segment/detections/gsmoreanch02_012--geoscreens_012-model_faster_rcnn-bb_resnest50_fpn-2b72cbf305/train/df_frame_dets-video_id_azm6RY3otII.pkl</td>\n",
       "      <td>No columns to parse from file</td>\n",
       "    </tr>\n",
       "    <tr>\n",
       "      <th>3</th>\n",
       "      <td>bNLAutWqnDQ</td>\n",
       "      <td>/shared/gbiamby/geo/segment/detections/gsmoreanch02_012--geoscreens_012-model_faster_rcnn-bb_resnest50_fpn-2b72cbf305/train/df_frame_dets-video_id_bNLAutWqnDQ.pkl</td>\n",
       "      <td>No columns to parse from file</td>\n",
       "    </tr>\n",
       "    <tr>\n",
       "      <th>4</th>\n",
       "      <td>h44U79b8r3E</td>\n",
       "      <td>/shared/gbiamby/geo/segment/detections/gsmoreanch02_012--geoscreens_012-model_faster_rcnn-bb_resnest50_fpn-2b72cbf305/train/df_frame_dets-video_id_h44U79b8r3E.pkl</td>\n",
       "      <td>No columns to parse from file</td>\n",
       "    </tr>\n",
       "    <tr>\n",
       "      <th>5</th>\n",
       "      <td>h6XjN6OSZWA</td>\n",
       "      <td>/shared/gbiamby/geo/segment/detections/gsmoreanch02_012--geoscreens_012-model_faster_rcnn-bb_resnest50_fpn-2b72cbf305/train/df_frame_dets-video_id_h6XjN6OSZWA.pkl</td>\n",
       "      <td>No columns to parse from file</td>\n",
       "    </tr>\n",
       "    <tr>\n",
       "      <th>6</th>\n",
       "      <td>huPA_H2Wlgs</td>\n",
       "      <td>/shared/gbiamby/geo/segment/detections/gsmoreanch02_012--geoscreens_012-model_faster_rcnn-bb_resnest50_fpn-2b72cbf305/train/df_frame_dets-video_id_huPA_H2Wlgs.pkl</td>\n",
       "      <td>No columns to parse from file</td>\n",
       "    </tr>\n",
       "    <tr>\n",
       "      <th>7</th>\n",
       "      <td>j0_z1rEKBi8</td>\n",
       "      <td>/shared/gbiamby/geo/segment/detections/gsmoreanch02_012--geoscreens_012-model_faster_rcnn-bb_resnest50_fpn-2b72cbf305/train/df_frame_dets-video_id_j0_z1rEKBi8.pkl</td>\n",
       "      <td>No columns to parse from file</td>\n",
       "    </tr>\n",
       "    <tr>\n",
       "      <th>8</th>\n",
       "      <td>p-gfiuLNoPk</td>\n",
       "      <td>/shared/gbiamby/geo/segment/detections/gsmoreanch02_012--geoscreens_012-model_faster_rcnn-bb_resnest50_fpn-2b72cbf305/train/df_frame_dets-video_id_p-gfiuLNoPk.pkl</td>\n",
       "      <td>No columns to parse from file</td>\n",
       "    </tr>\n",
       "    <tr>\n",
       "      <th>9</th>\n",
       "      <td>qCyIpdV8quw</td>\n",
       "      <td>/shared/gbiamby/geo/segment/detections/gsmoreanch02_012--geoscreens_012-model_faster_rcnn-bb_resnest50_fpn-2b72cbf305/train/df_frame_dets-video_id_qCyIpdV8quw.pkl</td>\n",
       "      <td>No columns to parse from file</td>\n",
       "    </tr>\n",
       "  </tbody>\n",
       "</table>\n",
       "</div>"
      ],
      "text/plain": [
       "      video_id  \\\n",
       "0  O5cLcsxzgac   \n",
       "1  ZzhDgEFw5-0   \n",
       "2  azm6RY3otII   \n",
       "3  bNLAutWqnDQ   \n",
       "4  h44U79b8r3E   \n",
       "5  h6XjN6OSZWA   \n",
       "6  huPA_H2Wlgs   \n",
       "7  j0_z1rEKBi8   \n",
       "8  p-gfiuLNoPk   \n",
       "9  qCyIpdV8quw   \n",
       "\n",
       "                                                                                                                                                            dets_path  \\\n",
       "0  /shared/gbiamby/geo/segment/detections/gsmoreanch02_012--geoscreens_012-model_faster_rcnn-bb_resnest50_fpn-2b72cbf305/train/df_frame_dets-video_id_O5cLcsxzgac.pkl   \n",
       "1  /shared/gbiamby/geo/segment/detections/gsmoreanch02_012--geoscreens_012-model_faster_rcnn-bb_resnest50_fpn-2b72cbf305/train/df_frame_dets-video_id_ZzhDgEFw5-0.pkl   \n",
       "2  /shared/gbiamby/geo/segment/detections/gsmoreanch02_012--geoscreens_012-model_faster_rcnn-bb_resnest50_fpn-2b72cbf305/train/df_frame_dets-video_id_azm6RY3otII.pkl   \n",
       "3  /shared/gbiamby/geo/segment/detections/gsmoreanch02_012--geoscreens_012-model_faster_rcnn-bb_resnest50_fpn-2b72cbf305/train/df_frame_dets-video_id_bNLAutWqnDQ.pkl   \n",
       "4  /shared/gbiamby/geo/segment/detections/gsmoreanch02_012--geoscreens_012-model_faster_rcnn-bb_resnest50_fpn-2b72cbf305/train/df_frame_dets-video_id_h44U79b8r3E.pkl   \n",
       "5  /shared/gbiamby/geo/segment/detections/gsmoreanch02_012--geoscreens_012-model_faster_rcnn-bb_resnest50_fpn-2b72cbf305/train/df_frame_dets-video_id_h6XjN6OSZWA.pkl   \n",
       "6  /shared/gbiamby/geo/segment/detections/gsmoreanch02_012--geoscreens_012-model_faster_rcnn-bb_resnest50_fpn-2b72cbf305/train/df_frame_dets-video_id_huPA_H2Wlgs.pkl   \n",
       "7  /shared/gbiamby/geo/segment/detections/gsmoreanch02_012--geoscreens_012-model_faster_rcnn-bb_resnest50_fpn-2b72cbf305/train/df_frame_dets-video_id_j0_z1rEKBi8.pkl   \n",
       "8  /shared/gbiamby/geo/segment/detections/gsmoreanch02_012--geoscreens_012-model_faster_rcnn-bb_resnest50_fpn-2b72cbf305/train/df_frame_dets-video_id_p-gfiuLNoPk.pkl   \n",
       "9  /shared/gbiamby/geo/segment/detections/gsmoreanch02_012--geoscreens_012-model_faster_rcnn-bb_resnest50_fpn-2b72cbf305/train/df_frame_dets-video_id_qCyIpdV8quw.pkl   \n",
       "\n",
       "                           error  \n",
       "0  No columns to parse from file  \n",
       "1  No columns to parse from file  \n",
       "2  No columns to parse from file  \n",
       "3  No columns to parse from file  \n",
       "4  No columns to parse from file  \n",
       "5  No columns to parse from file  \n",
       "6  No columns to parse from file  \n",
       "7  No columns to parse from file  \n",
       "8  No columns to parse from file  \n",
       "9  No columns to parse from file  "
      ]
     },
     "metadata": {},
     "output_type": "display_data"
    }
   ],
   "source": [
    "df_errors = pd.DataFrame(bad_ids)\n",
    "# df_errors = df_errors[~(df_errors.error==\"No columns to parse from file\")]\n",
    "display(df_errors)\n",
    "bad_files = df_errors.dets_path.values"
   ]
  },
  {
   "cell_type": "code",
   "execution_count": 96,
   "id": "d22d6807-9569-40c4-8c90-92bd92dbe378",
   "metadata": {},
   "outputs": [],
   "source": [
    "# import shutil\n",
    "\n",
    "# for f in bad_files:\n",
    "#     # print(\"rm \", str(f))\n",
    "#     # print(\"rm \", str(f.with_suffix(\".csv\")))\n",
    "#     if f.exists():\n",
    "#         f.unlink()\n",
    "#     if f.with_suffix(\".csv\").exists():\n",
    "#         f.with_suffix(\".csv\").unlink()"
   ]
  },
  {
   "cell_type": "code",
   "execution_count": 84,
   "id": "d8cb5d84-fa85-49a2-9fbf-d9718b35a2a0",
   "metadata": {},
   "outputs": [
    {
     "data": {
      "text/plain": [
       "['13Jsfk8ugAI',\n",
       " '2BHIJPTyyzU',\n",
       " '3DDY8YNkTMU',\n",
       " '4n0Gsfyr3hw',\n",
       " '8Myg-5uTdNI',\n",
       " '9hhgfYLekpE',\n",
       " 'AjL9rWiyC6Y',\n",
       " 'AozrD3v-guo',\n",
       " 'BXcWb3ecouI',\n",
       " 'CtxmOkIYi1o',\n",
       " 'D7uke1c8kDk',\n",
       " 'DGiebsF45XY',\n",
       " 'pF9OA332DPk']"
      ]
     },
     "execution_count": 84,
     "metadata": {},
     "output_type": "execute_result"
    }
   ],
   "source": [
    "df_errors.video_id.values.tolist()"
   ]
  }
 ],
 "metadata": {
  "kernelspec": {
   "display_name": "geoscreens",
   "language": "python",
   "name": "geoscreens"
  },
  "language_info": {
   "codemirror_mode": {
    "name": "ipython",
    "version": 3
   },
   "file_extension": ".py",
   "mimetype": "text/x-python",
   "name": "python",
   "nbconvert_exporter": "python",
   "pygments_lexer": "ipython3",
   "version": "3.9.0"
  }
 },
 "nbformat": 4,
 "nbformat_minor": 5
}
